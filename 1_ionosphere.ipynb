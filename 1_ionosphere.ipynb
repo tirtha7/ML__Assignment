{
  "nbformat": 4,
  "nbformat_minor": 0,
  "metadata": {
    "colab": {
      "name": "1_ionosphere.ipynb",
      "provenance": [],
      "collapsed_sections": [
        "FeJVqKmFIEvl",
        "RE_VtHImIQ5_",
        "3D6WnQ8Kr7B4",
        "wx_BhUG8sgQb",
        "M3cqkl4AtESI",
        "9QivxdVQtb3j",
        "vtIHBJ-ztjAa",
        "_DUTZL7PuRBY",
        "uVRjkAJpubp4",
        "5hf2ptivvrm3",
        "xdzH5e34KrlH",
        "t9eIdiSxK0ci",
        "sXPRxOMwPnis",
        "CNOPsATkP-YP",
        "yEY00GE1QnYf",
        "6Uq5AA4VSNWk",
        "C__nIR6RUsIp",
        "DKaAxw1Kxzgd",
        "uiwY03Ntxzgi",
        "Rl7vf-Jqxzgq",
        "ly-1m961xzgu",
        "oOgi59I7xzgx",
        "UHu0SjospdlA",
        "Tw1axynhwnJ8",
        "REs3N5eUwnKR",
        "HIHnFskWwnKT",
        "Lvq26KHYwnKV",
        "4hnlCAb3wnKX"
      ],
      "toc_visible": true
    },
    "kernelspec": {
      "name": "python3",
      "display_name": "Python 3"
    },
    "language_info": {
      "name": "python"
    }
  },
  "cells": [
    {
      "cell_type": "markdown",
      "metadata": {
        "id": "CoakjBg-rE3g"
      },
      "source": [
        "***![1.png](data:image/png;base64,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)***   **IONOSPHERE**"
      ]
    },
    {
      "cell_type": "markdown",
      "metadata": {
        "id": "FeJVqKmFIEvl"
      },
      "source": [
        "#Import required modules"
      ]
    },
    {
      "cell_type": "code",
      "metadata": {
        "id": "51nqEN-mgb3q"
      },
      "source": [
        "import numpy as np\n",
        "import pandas as pd\n",
        "from sklearn import datasets\n",
        "from sklearn.metrics import accuracy_score, classification_report, confusion_matrix\n",
        "from sklearn.model_selection import train_test_split\n",
        "from sklearn.svm import SVC\n",
        "import seaborn as sns\n",
        "from sklearn.neural_network import MLPClassifier\n",
        "from sklearn.ensemble import RandomForestClassifier"
      ],
      "execution_count": 205,
      "outputs": []
    },
    {
      "cell_type": "markdown",
      "metadata": {
        "id": "RE_VtHImIQ5_"
      },
      "source": [
        "#Load Dataset"
      ]
    },
    {
      "cell_type": "code",
      "metadata": {
        "colab": {
          "resources": {
            "http://localhost:8080/nbextensions/google.colab/files.js": {
              "data": "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",
              "ok": true,
              "headers": [
                [
                  "content-type",
                  "application/javascript"
                ]
              ],
              "status": 200,
              "status_text": ""
            }
          },
          "base_uri": "https://localhost:8080/",
          "height": 73
        },
        "id": "iM1mNbklg2sW",
        "outputId": "65eb8cfd-3d5d-445c-f376-434f5eca9050"
      },
      "source": [
        "from google.colab import files\n",
        "uploaded = files.upload()"
      ],
      "execution_count": 206,
      "outputs": [
        {
          "output_type": "display_data",
          "data": {
            "text/html": [
              "\n",
              "     <input type=\"file\" id=\"files-4bc6f38b-1ece-4d1f-b6f5-cb143165cade\" name=\"files[]\" multiple disabled\n",
              "        style=\"border:none\" />\n",
              "     <output id=\"result-4bc6f38b-1ece-4d1f-b6f5-cb143165cade\">\n",
              "      Upload widget is only available when the cell has been executed in the\n",
              "      current browser session. Please rerun this cell to enable.\n",
              "      </output>\n",
              "      <script src=\"/nbextensions/google.colab/files.js\"></script> "
            ],
            "text/plain": [
              "<IPython.core.display.HTML object>"
            ]
          },
          "metadata": {}
        },
        {
          "output_type": "stream",
          "name": "stdout",
          "text": [
            "Saving ionosphere.csv to ionosphere (1).csv\n"
          ]
        }
      ]
    },
    {
      "cell_type": "code",
      "metadata": {
        "id": "QkNPoMXLh_2A",
        "colab": {
          "base_uri": "https://localhost:8080/",
          "height": 223
        },
        "outputId": "19db50c7-e18e-431a-99d1-1c0b91edf14e"
      },
      "source": [
        "df = pd.read_csv('ionosphere.csv')\n",
        "df.head()"
      ],
      "execution_count": 207,
      "outputs": [
        {
          "output_type": "execute_result",
          "data": {
            "text/html": [
              "<div>\n",
              "<style scoped>\n",
              "    .dataframe tbody tr th:only-of-type {\n",
              "        vertical-align: middle;\n",
              "    }\n",
              "\n",
              "    .dataframe tbody tr th {\n",
              "        vertical-align: top;\n",
              "    }\n",
              "\n",
              "    .dataframe thead th {\n",
              "        text-align: right;\n",
              "    }\n",
              "</style>\n",
              "<table border=\"1\" class=\"dataframe\">\n",
              "  <thead>\n",
              "    <tr style=\"text-align: right;\">\n",
              "      <th></th>\n",
              "      <th>feature1</th>\n",
              "      <th>feature2</th>\n",
              "      <th>feature3</th>\n",
              "      <th>feature4</th>\n",
              "      <th>feature5</th>\n",
              "      <th>feature6</th>\n",
              "      <th>feature7</th>\n",
              "      <th>feature8</th>\n",
              "      <th>feature9</th>\n",
              "      <th>feature10</th>\n",
              "      <th>feature11</th>\n",
              "      <th>feature12</th>\n",
              "      <th>feature13</th>\n",
              "      <th>feature14</th>\n",
              "      <th>feature15</th>\n",
              "      <th>feature16</th>\n",
              "      <th>feature17</th>\n",
              "      <th>feature18</th>\n",
              "      <th>feature19</th>\n",
              "      <th>feature20</th>\n",
              "      <th>feature21</th>\n",
              "      <th>feature22</th>\n",
              "      <th>feature23</th>\n",
              "      <th>feature24</th>\n",
              "      <th>feature25</th>\n",
              "      <th>feature26</th>\n",
              "      <th>feature27</th>\n",
              "      <th>feature28</th>\n",
              "      <th>feature29</th>\n",
              "      <th>feature30</th>\n",
              "      <th>feature31</th>\n",
              "      <th>feature32</th>\n",
              "      <th>feature33</th>\n",
              "      <th>feature34</th>\n",
              "      <th>label</th>\n",
              "    </tr>\n",
              "  </thead>\n",
              "  <tbody>\n",
              "    <tr>\n",
              "      <th>0</th>\n",
              "      <td>1</td>\n",
              "      <td>0</td>\n",
              "      <td>0.99539</td>\n",
              "      <td>-0.05889</td>\n",
              "      <td>0.85243</td>\n",
              "      <td>0.02306</td>\n",
              "      <td>0.83398</td>\n",
              "      <td>-0.37708</td>\n",
              "      <td>1.00000</td>\n",
              "      <td>0.03760</td>\n",
              "      <td>0.85243</td>\n",
              "      <td>-0.17755</td>\n",
              "      <td>0.59755</td>\n",
              "      <td>-0.44945</td>\n",
              "      <td>0.60536</td>\n",
              "      <td>-0.38223</td>\n",
              "      <td>0.84356</td>\n",
              "      <td>-0.38542</td>\n",
              "      <td>0.58212</td>\n",
              "      <td>-0.32192</td>\n",
              "      <td>0.56971</td>\n",
              "      <td>-0.29674</td>\n",
              "      <td>0.36946</td>\n",
              "      <td>-0.47357</td>\n",
              "      <td>0.56811</td>\n",
              "      <td>-0.51171</td>\n",
              "      <td>0.41078</td>\n",
              "      <td>-0.46168</td>\n",
              "      <td>0.21266</td>\n",
              "      <td>-0.34090</td>\n",
              "      <td>0.42267</td>\n",
              "      <td>-0.54487</td>\n",
              "      <td>0.18641</td>\n",
              "      <td>-0.45300</td>\n",
              "      <td>g</td>\n",
              "    </tr>\n",
              "    <tr>\n",
              "      <th>1</th>\n",
              "      <td>1</td>\n",
              "      <td>0</td>\n",
              "      <td>1.00000</td>\n",
              "      <td>-0.18829</td>\n",
              "      <td>0.93035</td>\n",
              "      <td>-0.36156</td>\n",
              "      <td>-0.10868</td>\n",
              "      <td>-0.93597</td>\n",
              "      <td>1.00000</td>\n",
              "      <td>-0.04549</td>\n",
              "      <td>0.50874</td>\n",
              "      <td>-0.67743</td>\n",
              "      <td>0.34432</td>\n",
              "      <td>-0.69707</td>\n",
              "      <td>-0.51685</td>\n",
              "      <td>-0.97515</td>\n",
              "      <td>0.05499</td>\n",
              "      <td>-0.62237</td>\n",
              "      <td>0.33109</td>\n",
              "      <td>-1.00000</td>\n",
              "      <td>-0.13151</td>\n",
              "      <td>-0.45300</td>\n",
              "      <td>-0.18056</td>\n",
              "      <td>-0.35734</td>\n",
              "      <td>-0.20332</td>\n",
              "      <td>-0.26569</td>\n",
              "      <td>-0.20468</td>\n",
              "      <td>-0.18401</td>\n",
              "      <td>-0.19040</td>\n",
              "      <td>-0.11593</td>\n",
              "      <td>-0.16626</td>\n",
              "      <td>-0.06288</td>\n",
              "      <td>-0.13738</td>\n",
              "      <td>-0.02447</td>\n",
              "      <td>b</td>\n",
              "    </tr>\n",
              "    <tr>\n",
              "      <th>2</th>\n",
              "      <td>1</td>\n",
              "      <td>0</td>\n",
              "      <td>1.00000</td>\n",
              "      <td>-0.03365</td>\n",
              "      <td>1.00000</td>\n",
              "      <td>0.00485</td>\n",
              "      <td>1.00000</td>\n",
              "      <td>-0.12062</td>\n",
              "      <td>0.88965</td>\n",
              "      <td>0.01198</td>\n",
              "      <td>0.73082</td>\n",
              "      <td>0.05346</td>\n",
              "      <td>0.85443</td>\n",
              "      <td>0.00827</td>\n",
              "      <td>0.54591</td>\n",
              "      <td>0.00299</td>\n",
              "      <td>0.83775</td>\n",
              "      <td>-0.13644</td>\n",
              "      <td>0.75535</td>\n",
              "      <td>-0.08540</td>\n",
              "      <td>0.70887</td>\n",
              "      <td>-0.27502</td>\n",
              "      <td>0.43385</td>\n",
              "      <td>-0.12062</td>\n",
              "      <td>0.57528</td>\n",
              "      <td>-0.40220</td>\n",
              "      <td>0.58984</td>\n",
              "      <td>-0.22145</td>\n",
              "      <td>0.43100</td>\n",
              "      <td>-0.17365</td>\n",
              "      <td>0.60436</td>\n",
              "      <td>-0.24180</td>\n",
              "      <td>0.56045</td>\n",
              "      <td>-0.38238</td>\n",
              "      <td>g</td>\n",
              "    </tr>\n",
              "    <tr>\n",
              "      <th>3</th>\n",
              "      <td>1</td>\n",
              "      <td>0</td>\n",
              "      <td>1.00000</td>\n",
              "      <td>-0.45161</td>\n",
              "      <td>1.00000</td>\n",
              "      <td>1.00000</td>\n",
              "      <td>0.71216</td>\n",
              "      <td>-1.00000</td>\n",
              "      <td>0.00000</td>\n",
              "      <td>0.00000</td>\n",
              "      <td>0.00000</td>\n",
              "      <td>0.00000</td>\n",
              "      <td>0.00000</td>\n",
              "      <td>0.00000</td>\n",
              "      <td>-1.00000</td>\n",
              "      <td>0.14516</td>\n",
              "      <td>0.54094</td>\n",
              "      <td>-0.39330</td>\n",
              "      <td>-1.00000</td>\n",
              "      <td>-0.54467</td>\n",
              "      <td>-0.69975</td>\n",
              "      <td>1.00000</td>\n",
              "      <td>0.00000</td>\n",
              "      <td>0.00000</td>\n",
              "      <td>1.00000</td>\n",
              "      <td>0.90695</td>\n",
              "      <td>0.51613</td>\n",
              "      <td>1.00000</td>\n",
              "      <td>1.00000</td>\n",
              "      <td>-0.20099</td>\n",
              "      <td>0.25682</td>\n",
              "      <td>1.00000</td>\n",
              "      <td>-0.32382</td>\n",
              "      <td>1.00000</td>\n",
              "      <td>b</td>\n",
              "    </tr>\n",
              "    <tr>\n",
              "      <th>4</th>\n",
              "      <td>1</td>\n",
              "      <td>0</td>\n",
              "      <td>1.00000</td>\n",
              "      <td>-0.02401</td>\n",
              "      <td>0.94140</td>\n",
              "      <td>0.06531</td>\n",
              "      <td>0.92106</td>\n",
              "      <td>-0.23255</td>\n",
              "      <td>0.77152</td>\n",
              "      <td>-0.16399</td>\n",
              "      <td>0.52798</td>\n",
              "      <td>-0.20275</td>\n",
              "      <td>0.56409</td>\n",
              "      <td>-0.00712</td>\n",
              "      <td>0.34395</td>\n",
              "      <td>-0.27457</td>\n",
              "      <td>0.52940</td>\n",
              "      <td>-0.21780</td>\n",
              "      <td>0.45107</td>\n",
              "      <td>-0.17813</td>\n",
              "      <td>0.05982</td>\n",
              "      <td>-0.35575</td>\n",
              "      <td>0.02309</td>\n",
              "      <td>-0.52879</td>\n",
              "      <td>0.03286</td>\n",
              "      <td>-0.65158</td>\n",
              "      <td>0.13290</td>\n",
              "      <td>-0.53206</td>\n",
              "      <td>0.02431</td>\n",
              "      <td>-0.62197</td>\n",
              "      <td>-0.05707</td>\n",
              "      <td>-0.59573</td>\n",
              "      <td>-0.04608</td>\n",
              "      <td>-0.65697</td>\n",
              "      <td>g</td>\n",
              "    </tr>\n",
              "  </tbody>\n",
              "</table>\n",
              "</div>"
            ],
            "text/plain": [
              "   feature1  feature2  feature3  ...  feature33  feature34  label\n",
              "0         1         0   0.99539  ...    0.18641   -0.45300      g\n",
              "1         1         0   1.00000  ...   -0.13738   -0.02447      b\n",
              "2         1         0   1.00000  ...    0.56045   -0.38238      g\n",
              "3         1         0   1.00000  ...   -0.32382    1.00000      b\n",
              "4         1         0   1.00000  ...   -0.04608   -0.65697      g\n",
              "\n",
              "[5 rows x 35 columns]"
            ]
          },
          "metadata": {},
          "execution_count": 207
        }
      ]
    },
    {
      "cell_type": "code",
      "metadata": {
        "id": "4x71_J6liNE5"
      },
      "source": [
        "# df.column_ai.value_counts()"
      ],
      "execution_count": 208,
      "outputs": []
    },
    {
      "cell_type": "markdown",
      "metadata": {
        "id": "3D6WnQ8Kr7B4"
      },
      "source": [
        "#DataFrame ready to perform"
      ]
    },
    {
      "cell_type": "code",
      "metadata": {
        "colab": {
          "base_uri": "https://localhost:8080/"
        },
        "id": "6uSnH9iFjjSX",
        "outputId": "ab31a985-a0f5-4c7a-f2e8-40b64d707ba7"
      },
      "source": [
        "len(df)"
      ],
      "execution_count": 209,
      "outputs": [
        {
          "output_type": "execute_result",
          "data": {
            "text/plain": [
              "351"
            ]
          },
          "metadata": {},
          "execution_count": 209
        }
      ]
    },
    {
      "cell_type": "code",
      "metadata": {
        "colab": {
          "base_uri": "https://localhost:8080/"
        },
        "id": "CQeu9fqLkHHm",
        "outputId": "a19de590-9cad-4b02-ff22-b216ccfea4df"
      },
      "source": [
        "X = df.drop([\"label\"], axis=\"columns\")\n",
        "y = df.label\n",
        "print(X.head())\n",
        "print(y.head())"
      ],
      "execution_count": 210,
      "outputs": [
        {
          "output_type": "stream",
          "name": "stdout",
          "text": [
            "   feature1  feature2  feature3  ...  feature32  feature33  feature34\n",
            "0         1         0   0.99539  ...   -0.54487    0.18641   -0.45300\n",
            "1         1         0   1.00000  ...   -0.06288   -0.13738   -0.02447\n",
            "2         1         0   1.00000  ...   -0.24180    0.56045   -0.38238\n",
            "3         1         0   1.00000  ...    1.00000   -0.32382    1.00000\n",
            "4         1         0   1.00000  ...   -0.59573   -0.04608   -0.65697\n",
            "\n",
            "[5 rows x 34 columns]\n",
            "0    g\n",
            "1    b\n",
            "2    g\n",
            "3    b\n",
            "4    g\n",
            "Name: label, dtype: object\n"
          ]
        }
      ]
    },
    {
      "cell_type": "markdown",
      "metadata": {
        "id": "BDvlJi6rUKuZ"
      },
      "source": [
        "#SVC Classfier"
      ]
    },
    {
      "cell_type": "markdown",
      "metadata": {
        "id": "wx_BhUG8sgQb"
      },
      "source": [
        "##Linear SVC Classifier\n",
        "\n"
      ]
    },
    {
      "cell_type": "code",
      "metadata": {
        "colab": {
          "base_uri": "https://localhost:8080/"
        },
        "id": "ie3pZJgqlcGV",
        "outputId": "2d107646-0e1e-464b-fe69-046975f61d22"
      },
      "source": [
        "linear_SVC_classifier = SVC(kernel='linear')\n",
        "linear_SVC_classifier"
      ],
      "execution_count": 211,
      "outputs": [
        {
          "output_type": "execute_result",
          "data": {
            "text/plain": [
              "SVC(kernel='linear')"
            ]
          },
          "metadata": {},
          "execution_count": 211
        }
      ]
    },
    {
      "cell_type": "markdown",
      "metadata": {
        "id": "M3cqkl4AtESI"
      },
      "source": [
        "###train size : test size = 70% : 30%\n"
      ]
    },
    {
      "cell_type": "code",
      "metadata": {
        "id": "xXVR31Lkk7JZ"
      },
      "source": [
        "X_train, X_test, y_train, y_test = train_test_split(X, y, test_size=0.3, random_state=0)    # 70% training data, 30% testing data"
      ],
      "execution_count": 212,
      "outputs": []
    },
    {
      "cell_type": "code",
      "metadata": {
        "colab": {
          "base_uri": "https://localhost:8080/"
        },
        "id": "FLCBqsaBlWHr",
        "outputId": "e522cc2e-51d4-4c30-f971-f4af49166896"
      },
      "source": [
        "print(len(X_train))\n",
        "print(len(y_test))"
      ],
      "execution_count": 213,
      "outputs": [
        {
          "output_type": "stream",
          "name": "stdout",
          "text": [
            "245\n",
            "106\n"
          ]
        }
      ]
    },
    {
      "cell_type": "code",
      "metadata": {
        "colab": {
          "base_uri": "https://localhost:8080/"
        },
        "id": "1gq0fvQBmh2p",
        "outputId": "2057057c-9609-41d6-ba5a-a5339c75a18a"
      },
      "source": [
        "linear_SVC_classifier.fit(X_train, y_train)"
      ],
      "execution_count": 214,
      "outputs": [
        {
          "output_type": "execute_result",
          "data": {
            "text/plain": [
              "SVC(kernel='linear')"
            ]
          },
          "metadata": {},
          "execution_count": 214
        }
      ]
    },
    {
      "cell_type": "code",
      "metadata": {
        "colab": {
          "base_uri": "https://localhost:8080/"
        },
        "id": "s6S_eIUyoA2B",
        "outputId": "26559e79-0995-4208-985b-4f02385331e1"
      },
      "source": [
        "y_pred = linear_SVC_classifier.predict(X_test)\n",
        "print(f\"Accuracy: {100 * accuracy_score(y_test,y_pred)}%\\n\")\n",
        "cf_matrix = confusion_matrix(y_test,y_pred)\n",
        "print(\"Confusion Matrix:\\n\")\n",
        "print(cf_matrix)\n",
        "print(\"\\nClassification Report:\\n\")\n",
        "print(classification_report(y_test,y_pred))"
      ],
      "execution_count": 215,
      "outputs": [
        {
          "output_type": "stream",
          "name": "stdout",
          "text": [
            "Accuracy: 86.79245283018868%\n",
            "\n",
            "Confusion Matrix:\n",
            "\n",
            "[[31 13]\n",
            " [ 1 61]]\n",
            "\n",
            "Classification Report:\n",
            "\n",
            "              precision    recall  f1-score   support\n",
            "\n",
            "           b       0.97      0.70      0.82        44\n",
            "           g       0.82      0.98      0.90        62\n",
            "\n",
            "    accuracy                           0.87       106\n",
            "   macro avg       0.90      0.84      0.86       106\n",
            "weighted avg       0.88      0.87      0.86       106\n",
            "\n"
          ]
        }
      ]
    },
    {
      "cell_type": "code",
      "metadata": {
        "colab": {
          "base_uri": "https://localhost:8080/",
          "height": 0
        },
        "id": "y40DvjlRIxnM",
        "outputId": "ceee2824-0aa2-4635-d0b3-8bf78cc3b1e2"
      },
      "source": [
        "sns.heatmap(cf_matrix, annot=True)"
      ],
      "execution_count": 216,
      "outputs": [
        {
          "output_type": "execute_result",
          "data": {
            "text/plain": [
              "<matplotlib.axes._subplots.AxesSubplot at 0x7f6e0d2a1bd0>"
            ]
          },
          "metadata": {},
          "execution_count": 216
        },
        {
          "output_type": "display_data",
          "data": {
            "image/png": "[encoded data removed]",
            "text/plain": [
              "<Figure size 432x288 with 2 Axes>"
            ]
          },
          "metadata": {
            "needs_background": "light"
          }
        }
      ]
    },
    {
      "cell_type": "markdown",
      "metadata": {
        "id": "9QivxdVQtb3j"
      },
      "source": [
        "###train size : test size = 60% : 40%"
      ]
    },
    {
      "cell_type": "code",
      "metadata": {
        "id": "byTYsnjkoeE7"
      },
      "source": [
        "X_train, X_test, y_train, y_test = train_test_split(X, y, test_size=0.4, random_state=0)    # 60% training data, 40% testing data"
      ],
      "execution_count": 217,
      "outputs": []
    },
    {
      "cell_type": "code",
      "metadata": {
        "colab": {
          "base_uri": "https://localhost:8080/"
        },
        "id": "xX2Lhz1YqsxO",
        "outputId": "14ecd418-bce7-4783-cd40-6d2945c9bd4a"
      },
      "source": [
        "print(len(X_train))\n",
        "print(len(y_test))"
      ],
      "execution_count": 218,
      "outputs": [
        {
          "output_type": "stream",
          "name": "stdout",
          "text": [
            "210\n",
            "141\n"
          ]
        }
      ]
    },
    {
      "cell_type": "code",
      "metadata": {
        "colab": {
          "base_uri": "https://localhost:8080/"
        },
        "id": "bxdC6K2yq2Fc",
        "outputId": "06e8adfd-b2c8-4a4e-9d6a-186b66cafb3c"
      },
      "source": [
        "linear_SVC_classifier.fit(X_train, y_train)"
      ],
      "execution_count": 219,
      "outputs": [
        {
          "output_type": "execute_result",
          "data": {
            "text/plain": [
              "SVC(kernel='linear')"
            ]
          },
          "metadata": {},
          "execution_count": 219
        }
      ]
    },
    {
      "cell_type": "code",
      "metadata": {
        "colab": {
          "base_uri": "https://localhost:8080/"
        },
        "id": "lW82hDkIrBB0",
        "outputId": "42d8a9ba-9489-43c8-f196-b64d29882e19"
      },
      "source": [
        "y_pred = linear_SVC_classifier.predict(X_test)\n",
        "print(f\"Accuracy: {100 * accuracy_score(y_test,y_pred)}%\\n\")\n",
        "cf_matrix = confusion_matrix(y_test,y_pred)\n",
        "print(\"Confusion Matrix:\")\n",
        "print(cf_matrix)\n",
        "print(\"\\nClassification Report:\\n\")\n",
        "print(classification_report(y_test,y_pred))"
      ],
      "execution_count": 220,
      "outputs": [
        {
          "output_type": "stream",
          "name": "stdout",
          "text": [
            "Accuracy: 84.39716312056737%\n",
            "\n",
            "Confusion Matrix:\n",
            "[[38 19]\n",
            " [ 3 81]]\n",
            "\n",
            "Classification Report:\n",
            "\n",
            "              precision    recall  f1-score   support\n",
            "\n",
            "           b       0.93      0.67      0.78        57\n",
            "           g       0.81      0.96      0.88        84\n",
            "\n",
            "    accuracy                           0.84       141\n",
            "   macro avg       0.87      0.82      0.83       141\n",
            "weighted avg       0.86      0.84      0.84       141\n",
            "\n"
          ]
        }
      ]
    },
    {
      "cell_type": "code",
      "metadata": {
        "colab": {
          "base_uri": "https://localhost:8080/",
          "height": 0
        },
        "id": "qq177Be9JfUx",
        "outputId": "f54f1262-8131-4777-91be-1f94b3d934c9"
      },
      "source": [
        "sns.heatmap(cf_matrix, annot=True)"
      ],
      "execution_count": 221,
      "outputs": [
        {
          "output_type": "execute_result",
          "data": {
            "text/plain": [
              "<matplotlib.axes._subplots.AxesSubplot at 0x7f6e0d250250>"
            ]
          },
          "metadata": {},
          "execution_count": 221
        },
        {
          "output_type": "display_data",
          "data": {
            "image/png": "[encoded data removed]",
            "text/plain": [
              "<Figure size 432x288 with 2 Axes>"
            ]
          },
          "metadata": {
            "needs_background": "light"
          }
        }
      ]
    },
    {
      "cell_type": "markdown",
      "metadata": {
        "id": "vtIHBJ-ztjAa"
      },
      "source": [
        "###train size : test size = 50% : 50%"
      ]
    },
    {
      "cell_type": "code",
      "metadata": {
        "id": "AWnKUAbFrIrg"
      },
      "source": [
        "X_train, X_test, y_train, y_test = train_test_split(X, y, test_size=0.5, random_state=0)    # 50% training data, 50% testing data"
      ],
      "execution_count": 222,
      "outputs": []
    },
    {
      "cell_type": "code",
      "metadata": {
        "colab": {
          "base_uri": "https://localhost:8080/"
        },
        "id": "1gqMQLX5rVWJ",
        "outputId": "e2514a00-63fa-4a18-ac18-e1560dd684e9"
      },
      "source": [
        "print(len(X_train))\n",
        "print(len(y_test))"
      ],
      "execution_count": 223,
      "outputs": [
        {
          "output_type": "stream",
          "name": "stdout",
          "text": [
            "175\n",
            "176\n"
          ]
        }
      ]
    },
    {
      "cell_type": "code",
      "metadata": {
        "colab": {
          "base_uri": "https://localhost:8080/"
        },
        "id": "CLh08xzDrZK7",
        "outputId": "e401606f-cb01-4a15-fc11-dc026889afae"
      },
      "source": [
        "linear_SVC_classifier.fit(X_train, y_train)"
      ],
      "execution_count": 224,
      "outputs": [
        {
          "output_type": "execute_result",
          "data": {
            "text/plain": [
              "SVC(kernel='linear')"
            ]
          },
          "metadata": {},
          "execution_count": 224
        }
      ]
    },
    {
      "cell_type": "code",
      "metadata": {
        "colab": {
          "base_uri": "https://localhost:8080/"
        },
        "id": "RjxYX9AxrcCe",
        "outputId": "8c52da21-430f-4e1a-e32d-9e4217ba105f"
      },
      "source": [
        "y_pred = linear_SVC_classifier.predict(X_test)\n",
        "print(f\"Accuracy: {100 * accuracy_score(y_test,y_pred)}%\\n\")\n",
        "cf_matrix = confusion_matrix(y_test,y_pred)\n",
        "print(\"Confusion Matrix:\")\n",
        "print(cf_matrix)\n",
        "print(\"\\nClassification Report:\\n\")\n",
        "print(classification_report(y_test,y_pred))"
      ],
      "execution_count": 225,
      "outputs": [
        {
          "output_type": "stream",
          "name": "stdout",
          "text": [
            "Accuracy: 81.25%\n",
            "\n",
            "Confusion Matrix:\n",
            "[[44 31]\n",
            " [ 2 99]]\n",
            "\n",
            "Classification Report:\n",
            "\n",
            "              precision    recall  f1-score   support\n",
            "\n",
            "           b       0.96      0.59      0.73        75\n",
            "           g       0.76      0.98      0.86       101\n",
            "\n",
            "    accuracy                           0.81       176\n",
            "   macro avg       0.86      0.78      0.79       176\n",
            "weighted avg       0.84      0.81      0.80       176\n",
            "\n"
          ]
        }
      ]
    },
    {
      "cell_type": "code",
      "metadata": {
        "colab": {
          "base_uri": "https://localhost:8080/",
          "height": 0
        },
        "id": "kir1mpavJwPF",
        "outputId": "3102ed98-80e8-4d1b-e9e8-3ff1c0304719"
      },
      "source": [
        "sns.heatmap(cf_matrix, annot=True)"
      ],
      "execution_count": 226,
      "outputs": [
        {
          "output_type": "execute_result",
          "data": {
            "text/plain": [
              "<matplotlib.axes._subplots.AxesSubplot at 0x7f6e0d167f90>"
            ]
          },
          "metadata": {},
          "execution_count": 226
        },
        {
          "output_type": "display_data",
          "data": {
            "image/png": "[encoded data removed]",
            "text/plain": [
              "<Figure size 432x288 with 2 Axes>"
            ]
          },
          "metadata": {
            "needs_background": "light"
          }
        }
      ]
    },
    {
      "cell_type": "markdown",
      "metadata": {
        "id": "_DUTZL7PuRBY"
      },
      "source": [
        "###train size : test size = 40% : 60%"
      ]
    },
    {
      "cell_type": "code",
      "metadata": {
        "id": "3Qg-IL-ore12"
      },
      "source": [
        "X_train, X_test, y_train, y_test = train_test_split(X, y, test_size=0.6, random_state=0)"
      ],
      "execution_count": 227,
      "outputs": []
    },
    {
      "cell_type": "code",
      "metadata": {
        "colab": {
          "base_uri": "https://localhost:8080/"
        },
        "id": "awDsuvs6u3qi",
        "outputId": "554cac53-1a91-4a63-80bd-db698c3ff7d4"
      },
      "source": [
        "print(len(X_train))\n",
        "print(len(y_test))"
      ],
      "execution_count": 228,
      "outputs": [
        {
          "output_type": "stream",
          "name": "stdout",
          "text": [
            "140\n",
            "211\n"
          ]
        }
      ]
    },
    {
      "cell_type": "code",
      "metadata": {
        "colab": {
          "base_uri": "https://localhost:8080/"
        },
        "id": "7UY094g0u5Fa",
        "outputId": "7dfd1426-b2ec-4dfa-9375-560647dd329a"
      },
      "source": [
        "linear_SVC_classifier.fit(X_train, y_train)"
      ],
      "execution_count": 229,
      "outputs": [
        {
          "output_type": "execute_result",
          "data": {
            "text/plain": [
              "SVC(kernel='linear')"
            ]
          },
          "metadata": {},
          "execution_count": 229
        }
      ]
    },
    {
      "cell_type": "code",
      "metadata": {
        "colab": {
          "base_uri": "https://localhost:8080/"
        },
        "id": "ndqXoRb5u5eN",
        "outputId": "10fb6b02-7f9e-45fa-ac73-f746e6a2a250"
      },
      "source": [
        "y_pred = linear_SVC_classifier.predict(X_test)\n",
        "print(f\"Accuracy: {100 * accuracy_score(y_test,y_pred)}%\\n\")\n",
        "cf_matrix = confusion_matrix(y_test,y_pred)\n",
        "print(\"Confusion Matrix:\\n\")\n",
        "print(cf_matrix)\n",
        "print(\"\\nClassification Report:\\n\")\n",
        "print(classification_report(y_test,y_pred))"
      ],
      "execution_count": 230,
      "outputs": [
        {
          "output_type": "stream",
          "name": "stdout",
          "text": [
            "Accuracy: 79.14691943127961%\n",
            "\n",
            "Confusion Matrix:\n",
            "\n",
            "[[ 45  43]\n",
            " [  1 122]]\n",
            "\n",
            "Classification Report:\n",
            "\n",
            "              precision    recall  f1-score   support\n",
            "\n",
            "           b       0.98      0.51      0.67        88\n",
            "           g       0.74      0.99      0.85       123\n",
            "\n",
            "    accuracy                           0.79       211\n",
            "   macro avg       0.86      0.75      0.76       211\n",
            "weighted avg       0.84      0.79      0.77       211\n",
            "\n"
          ]
        }
      ]
    },
    {
      "cell_type": "code",
      "metadata": {
        "colab": {
          "base_uri": "https://localhost:8080/",
          "height": 0
        },
        "id": "OKBSumWNJ-_N",
        "outputId": "77176e6b-b697-4c7f-8be1-0bfadf842321"
      },
      "source": [
        "sns.heatmap(cf_matrix, annot=True)"
      ],
      "execution_count": 231,
      "outputs": [
        {
          "output_type": "execute_result",
          "data": {
            "text/plain": [
              "<matplotlib.axes._subplots.AxesSubplot at 0x7f6e0d09c7d0>"
            ]
          },
          "metadata": {},
          "execution_count": 231
        },
        {
          "output_type": "display_data",
          "data": {
            "image/png": "[encoded data removed]",
            "text/plain": [
              "<Figure size 432x288 with 2 Axes>"
            ]
          },
          "metadata": {
            "needs_background": "light"
          }
        }
      ]
    },
    {
      "cell_type": "markdown",
      "metadata": {
        "id": "uVRjkAJpubp4"
      },
      "source": [
        "###train size : test size = 30% : 70%"
      ]
    },
    {
      "cell_type": "code",
      "metadata": {
        "id": "hXJjbLzzufUe"
      },
      "source": [
        "X_train, X_test, y_train, y_test = train_test_split(X, y, test_size=0.7, random_state=0)"
      ],
      "execution_count": 232,
      "outputs": []
    },
    {
      "cell_type": "code",
      "metadata": {
        "colab": {
          "base_uri": "https://localhost:8080/"
        },
        "id": "vg0wRwNAvIOv",
        "outputId": "dbb7e023-cd7f-474c-fefe-f93ab8f27a9f"
      },
      "source": [
        "print(len(X_train))\n",
        "print(len(y_test))"
      ],
      "execution_count": 233,
      "outputs": [
        {
          "output_type": "stream",
          "name": "stdout",
          "text": [
            "105\n",
            "246\n"
          ]
        }
      ]
    },
    {
      "cell_type": "code",
      "metadata": {
        "colab": {
          "base_uri": "https://localhost:8080/"
        },
        "id": "tIbcruvzvKS4",
        "outputId": "b8fc71ae-6003-4b73-fc9d-2a4710b86f2d"
      },
      "source": [
        "linear_SVC_classifier.fit(X_train, y_train)"
      ],
      "execution_count": 234,
      "outputs": [
        {
          "output_type": "execute_result",
          "data": {
            "text/plain": [
              "SVC(kernel='linear')"
            ]
          },
          "metadata": {},
          "execution_count": 234
        }
      ]
    },
    {
      "cell_type": "code",
      "metadata": {
        "colab": {
          "base_uri": "https://localhost:8080/"
        },
        "id": "hMVVnNiHvNWU",
        "outputId": "23678c6a-8575-43b4-cb5c-4630c92c212d"
      },
      "source": [
        "y_pred = linear_SVC_classifier.predict(X_test)\n",
        "print(f\"Accuracy: {100 * accuracy_score(y_test,y_pred)}%\\n\")\n",
        "cf_matrix = confusion_matrix(y_test,y_pred)\n",
        "print(\"Confusion Matrix:\\n\")\n",
        "print(cf_matrix)\n",
        "print(\"\\nClassification Report:\\n\")\n",
        "print(classification_report(y_test,y_pred))"
      ],
      "execution_count": 235,
      "outputs": [
        {
          "output_type": "stream",
          "name": "stdout",
          "text": [
            "Accuracy: 83.73983739837398%\n",
            "\n",
            "Confusion Matrix:\n",
            "\n",
            "[[ 62  38]\n",
            " [  2 144]]\n",
            "\n",
            "Classification Report:\n",
            "\n",
            "              precision    recall  f1-score   support\n",
            "\n",
            "           b       0.97      0.62      0.76       100\n",
            "           g       0.79      0.99      0.88       146\n",
            "\n",
            "    accuracy                           0.84       246\n",
            "   macro avg       0.88      0.80      0.82       246\n",
            "weighted avg       0.86      0.84      0.83       246\n",
            "\n"
          ]
        }
      ]
    },
    {
      "cell_type": "code",
      "metadata": {
        "colab": {
          "base_uri": "https://localhost:8080/",
          "height": 0
        },
        "id": "L4hpwH1mKLaB",
        "outputId": "e98fb480-df67-4f55-c12b-91ab2703f9a8"
      },
      "source": [
        "sns.heatmap(cf_matrix, annot=True)"
      ],
      "execution_count": 236,
      "outputs": [
        {
          "output_type": "execute_result",
          "data": {
            "text/plain": [
              "<matplotlib.axes._subplots.AxesSubplot at 0x7f6e0d09c650>"
            ]
          },
          "metadata": {},
          "execution_count": 236
        },
        {
          "output_type": "display_data",
          "data": {
            "image/png": "[encoded data removed]",
            "text/plain": [
              "<Figure size 432x288 with 2 Axes>"
            ]
          },
          "metadata": {
            "needs_background": "light"
          }
        }
      ]
    },
    {
      "cell_type": "markdown",
      "metadata": {
        "id": "5hf2ptivvrm3"
      },
      "source": [
        "##Polynomial SVC Classifier"
      ]
    },
    {
      "cell_type": "code",
      "metadata": {
        "colab": {
          "base_uri": "https://localhost:8080/"
        },
        "id": "ijDDu4I8vxSx",
        "outputId": "b11947ed-d06e-4694-fa48-c4d18e1ace7c"
      },
      "source": [
        "poly_SVC_classifier = SVC(kernel='poly')\n",
        "poly_SVC_classifier"
      ],
      "execution_count": 237,
      "outputs": [
        {
          "output_type": "execute_result",
          "data": {
            "text/plain": [
              "SVC(kernel='poly')"
            ]
          },
          "metadata": {},
          "execution_count": 237
        }
      ]
    },
    {
      "cell_type": "markdown",
      "metadata": {
        "id": "xdzH5e34KrlH"
      },
      "source": [
        "###train size : test size = 70% : 30%"
      ]
    },
    {
      "cell_type": "code",
      "metadata": {
        "id": "cDqmyEsGwBqH"
      },
      "source": [
        "X_train, X_test, y_train, y_test = train_test_split(X, y, test_size=0.3, random_state=0)"
      ],
      "execution_count": 238,
      "outputs": []
    },
    {
      "cell_type": "code",
      "metadata": {
        "colab": {
          "base_uri": "https://localhost:8080/"
        },
        "id": "jKQr6npgwdz_",
        "outputId": "8808afe0-9b64-4240-9f8b-76b3c3ecf005"
      },
      "source": [
        "print(len(X_train))\n",
        "print(len(y_test))"
      ],
      "execution_count": 239,
      "outputs": [
        {
          "output_type": "stream",
          "name": "stdout",
          "text": [
            "245\n",
            "106\n"
          ]
        }
      ]
    },
    {
      "cell_type": "code",
      "metadata": {
        "colab": {
          "base_uri": "https://localhost:8080/"
        },
        "id": "-hw_qWKmwg69",
        "outputId": "0320c037-6c3f-4fb3-f7e4-d843673efd27"
      },
      "source": [
        "poly_SVC_classifier.fit(X_train, y_train)"
      ],
      "execution_count": 240,
      "outputs": [
        {
          "output_type": "execute_result",
          "data": {
            "text/plain": [
              "SVC(kernel='poly')"
            ]
          },
          "metadata": {},
          "execution_count": 240
        }
      ]
    },
    {
      "cell_type": "code",
      "metadata": {
        "colab": {
          "base_uri": "https://localhost:8080/"
        },
        "id": "CtXhT503wlmn",
        "outputId": "44b1b2e8-d6d0-40d8-9cc2-26639f60c1dc"
      },
      "source": [
        "y_pred = poly_SVC_classifier.predict(X_test)\n",
        "print(f\"Accuracy: {100 * accuracy_score(y_test,y_pred)}%\\n\")\n",
        "cf_matrix = confusion_matrix(y_test,y_pred)\n",
        "print(\"Confusion Matrix:\\n\", cf_matrix)\n",
        "print(\"\\nClassification Report:\\n\")\n",
        "print(classification_report(y_test,y_pred))"
      ],
      "execution_count": 241,
      "outputs": [
        {
          "output_type": "stream",
          "name": "stdout",
          "text": [
            "Accuracy: 92.45283018867924%\n",
            "\n",
            "Confusion Matrix:\n",
            " [[38  6]\n",
            " [ 2 60]]\n",
            "\n",
            "Classification Report:\n",
            "\n",
            "              precision    recall  f1-score   support\n",
            "\n",
            "           b       0.95      0.86      0.90        44\n",
            "           g       0.91      0.97      0.94        62\n",
            "\n",
            "    accuracy                           0.92       106\n",
            "   macro avg       0.93      0.92      0.92       106\n",
            "weighted avg       0.93      0.92      0.92       106\n",
            "\n"
          ]
        }
      ]
    },
    {
      "cell_type": "code",
      "metadata": {
        "colab": {
          "base_uri": "https://localhost:8080/",
          "height": 0
        },
        "id": "gNA-aKPIwpep",
        "outputId": "35f84dcc-110b-4cb2-8a6d-98f1caac9da7"
      },
      "source": [
        "sns.heatmap(cf_matrix, annot=True)"
      ],
      "execution_count": 242,
      "outputs": [
        {
          "output_type": "execute_result",
          "data": {
            "text/plain": [
              "<matplotlib.axes._subplots.AxesSubplot at 0x7f6e0cf672d0>"
            ]
          },
          "metadata": {},
          "execution_count": 242
        },
        {
          "output_type": "display_data",
          "data": {
            "image/png": "[encoded data removed]",
            "text/plain": [
              "<Figure size 432x288 with 2 Axes>"
            ]
          },
          "metadata": {
            "needs_background": "light"
          }
        }
      ]
    },
    {
      "cell_type": "markdown",
      "metadata": {
        "id": "t9eIdiSxK0ci"
      },
      "source": [
        "### train size : test size = 60% : 40%\n",
        "\n"
      ]
    },
    {
      "cell_type": "code",
      "metadata": {
        "id": "va6XPODxKxnR"
      },
      "source": [
        "X_train, X_test, y_train, y_test = train_test_split(X, y, test_size=0.4, random_state=0)"
      ],
      "execution_count": 243,
      "outputs": []
    },
    {
      "cell_type": "code",
      "metadata": {
        "colab": {
          "base_uri": "https://localhost:8080/"
        },
        "id": "ofj_NUoRLHcI",
        "outputId": "e91054dc-18c2-479a-8e6c-50682a2d5749"
      },
      "source": [
        "print(len(X_train))\n",
        "print(len(y_test))"
      ],
      "execution_count": 244,
      "outputs": [
        {
          "output_type": "stream",
          "name": "stdout",
          "text": [
            "210\n",
            "141\n"
          ]
        }
      ]
    },
    {
      "cell_type": "code",
      "metadata": {
        "colab": {
          "base_uri": "https://localhost:8080/"
        },
        "id": "vipfMG7RLLGf",
        "outputId": "408cda51-16af-453a-93f6-23f3c2717c3d"
      },
      "source": [
        "poly_SVC_classifier.fit(X_train, y_train)"
      ],
      "execution_count": 245,
      "outputs": [
        {
          "output_type": "execute_result",
          "data": {
            "text/plain": [
              "SVC(kernel='poly')"
            ]
          },
          "metadata": {},
          "execution_count": 245
        }
      ]
    },
    {
      "cell_type": "code",
      "metadata": {
        "colab": {
          "base_uri": "https://localhost:8080/"
        },
        "id": "sfLMjJenLNs5",
        "outputId": "139f4c60-b044-4590-8762-98f146c42f1d"
      },
      "source": [
        "y_pred = poly_SVC_classifier.predict(X_test)\n",
        "print(f\"Accuracy: {100 * accuracy_score(y_test,y_pred)}%\\n\")\n",
        "cf_matrix = confusion_matrix(y_test,y_pred)\n",
        "print(\"Confusion Matrix:\\n\", cf_matrix)\n",
        "print(\"\\nClassification Report:\\n\")\n",
        "print(classification_report(y_test,y_pred))"
      ],
      "execution_count": 246,
      "outputs": [
        {
          "output_type": "stream",
          "name": "stdout",
          "text": [
            "Accuracy: 75.88652482269504%\n",
            "\n",
            "Confusion Matrix:\n",
            " [[23 34]\n",
            " [ 0 84]]\n",
            "\n",
            "Classification Report:\n",
            "\n",
            "              precision    recall  f1-score   support\n",
            "\n",
            "           b       1.00      0.40      0.57        57\n",
            "           g       0.71      1.00      0.83        84\n",
            "\n",
            "    accuracy                           0.76       141\n",
            "   macro avg       0.86      0.70      0.70       141\n",
            "weighted avg       0.83      0.76      0.73       141\n",
            "\n"
          ]
        }
      ]
    },
    {
      "cell_type": "code",
      "metadata": {
        "colab": {
          "base_uri": "https://localhost:8080/",
          "height": 0
        },
        "id": "cZzK_HdXLRJL",
        "outputId": "388f1dd3-5bb6-4024-dfef-1a1061d35cb8"
      },
      "source": [
        "sns.heatmap(cf_matrix, annot=True)"
      ],
      "execution_count": 247,
      "outputs": [
        {
          "output_type": "execute_result",
          "data": {
            "text/plain": [
              "<matplotlib.axes._subplots.AxesSubplot at 0x7f6e0cf08bd0>"
            ]
          },
          "metadata": {},
          "execution_count": 247
        },
        {
          "output_type": "display_data",
          "data": {
            "image/png": "[encoded data removed]",
            "text/plain": [
              "<Figure size 432x288 with 2 Axes>"
            ]
          },
          "metadata": {
            "needs_background": "light"
          }
        }
      ]
    },
    {
      "cell_type": "markdown",
      "metadata": {
        "id": "sXPRxOMwPnis"
      },
      "source": [
        "###train size : test size = 50% : 50%"
      ]
    },
    {
      "cell_type": "code",
      "metadata": {
        "id": "3YMOwUCnLUqN"
      },
      "source": [
        "X_train, X_test, y_train, y_test = train_test_split(X, y, test_size=0.5, random_state=0)"
      ],
      "execution_count": 248,
      "outputs": []
    },
    {
      "cell_type": "code",
      "metadata": {
        "colab": {
          "base_uri": "https://localhost:8080/"
        },
        "id": "MbcPfogDQRcy",
        "outputId": "fd0ada1e-6f19-495d-e617-616e63900838"
      },
      "source": [
        "print(len(X_train))\n",
        "print(len(y_test))"
      ],
      "execution_count": 249,
      "outputs": [
        {
          "output_type": "stream",
          "name": "stdout",
          "text": [
            "175\n",
            "176\n"
          ]
        }
      ]
    },
    {
      "cell_type": "code",
      "metadata": {
        "colab": {
          "base_uri": "https://localhost:8080/"
        },
        "id": "GY13xbAtPzAx",
        "outputId": "6109a718-5a49-42da-e804-7bfec017cf3e"
      },
      "source": [
        "poly_SVC_classifier.fit(X_train, y_train)"
      ],
      "execution_count": 250,
      "outputs": [
        {
          "output_type": "execute_result",
          "data": {
            "text/plain": [
              "SVC(kernel='poly')"
            ]
          },
          "metadata": {},
          "execution_count": 250
        }
      ]
    },
    {
      "cell_type": "code",
      "metadata": {
        "colab": {
          "base_uri": "https://localhost:8080/"
        },
        "id": "_iMpV0nrP1sk",
        "outputId": "88b6223f-e7c2-4b1d-8796-fa3f6d3b7346"
      },
      "source": [
        "y_pred = poly_SVC_classifier.predict(X_test)\n",
        "print(f\"Accuracy: {100 * accuracy_score(y_test,y_pred)}%\\n\")\n",
        "cf_matrix = confusion_matrix(y_test,y_pred)\n",
        "print(\"Confusion Matrix:\\n\", cf_matrix)\n",
        "print(\"\\nClassification Report:\\n\")\n",
        "print(classification_report(y_test,y_pred))"
      ],
      "execution_count": 251,
      "outputs": [
        {
          "output_type": "stream",
          "name": "stdout",
          "text": [
            "Accuracy: 65.3409090909091%\n",
            "\n",
            "Confusion Matrix:\n",
            " [[ 14  61]\n",
            " [  0 101]]\n",
            "\n",
            "Classification Report:\n",
            "\n",
            "              precision    recall  f1-score   support\n",
            "\n",
            "           b       1.00      0.19      0.31        75\n",
            "           g       0.62      1.00      0.77       101\n",
            "\n",
            "    accuracy                           0.65       176\n",
            "   macro avg       0.81      0.59      0.54       176\n",
            "weighted avg       0.78      0.65      0.57       176\n",
            "\n"
          ]
        }
      ]
    },
    {
      "cell_type": "code",
      "metadata": {
        "colab": {
          "base_uri": "https://localhost:8080/",
          "height": 0
        },
        "id": "OmiPH8coP4_L",
        "outputId": "9d45d94d-1969-4204-ff8f-a85a1209dc1d"
      },
      "source": [
        "sns.heatmap(cf_matrix, annot=True)"
      ],
      "execution_count": 252,
      "outputs": [
        {
          "output_type": "execute_result",
          "data": {
            "text/plain": [
              "<matplotlib.axes._subplots.AxesSubplot at 0x7f6e0ce33ed0>"
            ]
          },
          "metadata": {},
          "execution_count": 252
        },
        {
          "output_type": "display_data",
          "data": {
            "image/png": "[encoded data removed]",
            "text/plain": [
              "<Figure size 432x288 with 2 Axes>"
            ]
          },
          "metadata": {
            "needs_background": "light"
          }
        }
      ]
    },
    {
      "cell_type": "markdown",
      "metadata": {
        "id": "CNOPsATkP-YP"
      },
      "source": [
        "###train size : test size = 40% : 60%"
      ]
    },
    {
      "cell_type": "code",
      "metadata": {
        "id": "eZvlV2e-P8i8"
      },
      "source": [
        "X_train, X_test, y_train, y_test = train_test_split(X, y, test_size=0.6, random_state=0)"
      ],
      "execution_count": 253,
      "outputs": []
    },
    {
      "cell_type": "code",
      "metadata": {
        "colab": {
          "base_uri": "https://localhost:8080/"
        },
        "id": "cimNFtrQQX36",
        "outputId": "53afdf56-4915-40ac-8cc1-ceee751bfdc1"
      },
      "source": [
        "print(len(X_train))\n",
        "print(len(y_test))"
      ],
      "execution_count": 254,
      "outputs": [
        {
          "output_type": "stream",
          "name": "stdout",
          "text": [
            "140\n",
            "211\n"
          ]
        }
      ]
    },
    {
      "cell_type": "code",
      "metadata": {
        "colab": {
          "base_uri": "https://localhost:8080/"
        },
        "id": "-pu2cbPEQFbb",
        "outputId": "c390e07f-68a5-418f-b955-32393265e938"
      },
      "source": [
        "poly_SVC_classifier.fit(X_train, y_train)"
      ],
      "execution_count": 255,
      "outputs": [
        {
          "output_type": "execute_result",
          "data": {
            "text/plain": [
              "SVC(kernel='poly')"
            ]
          },
          "metadata": {},
          "execution_count": 255
        }
      ]
    },
    {
      "cell_type": "code",
      "metadata": {
        "colab": {
          "base_uri": "https://localhost:8080/"
        },
        "id": "fh9SGX0SQICS",
        "outputId": "6f57ca5c-d6b5-4229-d6ca-778e4c5c0c2a"
      },
      "source": [
        "y_pred = poly_SVC_classifier.predict(X_test)\n",
        "print(f\"Accuracy: {100 * accuracy_score(y_test,y_pred)}%\\n\")\n",
        "cf_matrix = confusion_matrix(y_test,y_pred)\n",
        "print(\"Confusion Matrix:\\n\", cf_matrix)\n",
        "print(\"\\nClassification Report:\\n\")\n",
        "print(classification_report(y_test,y_pred))"
      ],
      "execution_count": 256,
      "outputs": [
        {
          "output_type": "stream",
          "name": "stdout",
          "text": [
            "Accuracy: 63.507109004739334%\n",
            "\n",
            "Confusion Matrix:\n",
            " [[ 11  77]\n",
            " [  0 123]]\n",
            "\n",
            "Classification Report:\n",
            "\n",
            "              precision    recall  f1-score   support\n",
            "\n",
            "           b       1.00      0.12      0.22        88\n",
            "           g       0.61      1.00      0.76       123\n",
            "\n",
            "    accuracy                           0.64       211\n",
            "   macro avg       0.81      0.56      0.49       211\n",
            "weighted avg       0.78      0.64      0.54       211\n",
            "\n"
          ]
        }
      ]
    },
    {
      "cell_type": "code",
      "metadata": {
        "colab": {
          "base_uri": "https://localhost:8080/",
          "height": 0
        },
        "id": "ZPZCuXr9QOMC",
        "outputId": "0a80ec66-de38-45df-e9f9-8be95c93071f"
      },
      "source": [
        "sns.heatmap(cf_matrix, annot=True)"
      ],
      "execution_count": 257,
      "outputs": [
        {
          "output_type": "execute_result",
          "data": {
            "text/plain": [
              "<matplotlib.axes._subplots.AxesSubplot at 0x7f6e0cd5f710>"
            ]
          },
          "metadata": {},
          "execution_count": 257
        },
        {
          "output_type": "display_data",
          "data": {
            "image/png": "[encoded data removed]",
            "text/plain": [
              "<Figure size 432x288 with 2 Axes>"
            ]
          },
          "metadata": {
            "needs_background": "light"
          }
        }
      ]
    },
    {
      "cell_type": "markdown",
      "metadata": {
        "id": "yEY00GE1QnYf"
      },
      "source": [
        "###train size : test size = 30% : 70%"
      ]
    },
    {
      "cell_type": "code",
      "metadata": {
        "id": "3P_TSK7RQnYg"
      },
      "source": [
        "X_train, X_test, y_train, y_test = train_test_split(X, y, test_size=0.7, random_state=0)"
      ],
      "execution_count": 258,
      "outputs": []
    },
    {
      "cell_type": "code",
      "metadata": {
        "colab": {
          "base_uri": "https://localhost:8080/"
        },
        "id": "Ln1wL3n6QnYh",
        "outputId": "93280555-5f3c-4e03-af35-a24e80c6bded"
      },
      "source": [
        "print(len(X_train))\n",
        "print(len(y_test))"
      ],
      "execution_count": 259,
      "outputs": [
        {
          "output_type": "stream",
          "name": "stdout",
          "text": [
            "105\n",
            "246\n"
          ]
        }
      ]
    },
    {
      "cell_type": "code",
      "metadata": {
        "colab": {
          "base_uri": "https://localhost:8080/"
        },
        "id": "LpAA7mlJQnYi",
        "outputId": "ef1071e5-f742-4dbb-d5da-d0e9093eb94a"
      },
      "source": [
        "poly_SVC_classifier.fit(X_train, y_train)"
      ],
      "execution_count": 260,
      "outputs": [
        {
          "output_type": "execute_result",
          "data": {
            "text/plain": [
              "SVC(kernel='poly')"
            ]
          },
          "metadata": {},
          "execution_count": 260
        }
      ]
    },
    {
      "cell_type": "code",
      "metadata": {
        "colab": {
          "base_uri": "https://localhost:8080/"
        },
        "id": "avv5dzhPQnYj",
        "outputId": "b32e6c51-26ab-46c7-a9fe-83a7a63a1887"
      },
      "source": [
        "y_pred = poly_SVC_classifier.predict(X_test)\n",
        "print(f\"Accuracy: {100 * accuracy_score(y_test,y_pred)}%\\n\")\n",
        "cf_matrix = confusion_matrix(y_test,y_pred)\n",
        "print(\"Confusion Matrix:\\n\", cf_matrix)\n",
        "print(\"\\nClassification Report:\\n\")\n",
        "print(classification_report(y_test,y_pred))"
      ],
      "execution_count": 261,
      "outputs": [
        {
          "output_type": "stream",
          "name": "stdout",
          "text": [
            "Accuracy: 63.82113821138211%\n",
            "\n",
            "Confusion Matrix:\n",
            " [[ 11  89]\n",
            " [  0 146]]\n",
            "\n",
            "Classification Report:\n",
            "\n",
            "              precision    recall  f1-score   support\n",
            "\n",
            "           b       1.00      0.11      0.20       100\n",
            "           g       0.62      1.00      0.77       146\n",
            "\n",
            "    accuracy                           0.64       246\n",
            "   macro avg       0.81      0.56      0.48       246\n",
            "weighted avg       0.78      0.64      0.54       246\n",
            "\n"
          ]
        }
      ]
    },
    {
      "cell_type": "code",
      "metadata": {
        "colab": {
          "base_uri": "https://localhost:8080/",
          "height": 0
        },
        "id": "bl1F4P8cQnYk",
        "outputId": "8d6bba25-28a3-4ed4-f2b2-00215e2ae680"
      },
      "source": [
        "sns.heatmap(cf_matrix, annot=True)"
      ],
      "execution_count": 262,
      "outputs": [
        {
          "output_type": "execute_result",
          "data": {
            "text/plain": [
              "<matplotlib.axes._subplots.AxesSubplot at 0x7f6e0cdb6b50>"
            ]
          },
          "metadata": {},
          "execution_count": 262
        },
        {
          "output_type": "display_data",
          "data": {
            "image/png": "[encoded data removed]",
            "text/plain": [
              "<Figure size 432x288 with 2 Axes>"
            ]
          },
          "metadata": {
            "needs_background": "light"
          }
        }
      ]
    },
    {
      "cell_type": "markdown",
      "metadata": {
        "id": "P8DpYUr2RB27"
      },
      "source": [
        "##Gaussain SVC Classifier"
      ]
    },
    {
      "cell_type": "code",
      "metadata": {
        "colab": {
          "base_uri": "https://localhost:8080/"
        },
        "id": "UEVaIMePRB28",
        "outputId": "3872cbe0-f0b0-46b3-c0a5-bb6af27d6d2a"
      },
      "source": [
        "gaussain_SVC_classifier = SVC(kernel='rbf')\n",
        "gaussain_SVC_classifier"
      ],
      "execution_count": 263,
      "outputs": [
        {
          "output_type": "execute_result",
          "data": {
            "text/plain": [
              "SVC()"
            ]
          },
          "metadata": {},
          "execution_count": 263
        }
      ]
    },
    {
      "cell_type": "markdown",
      "metadata": {
        "id": "C6S9uzq7RB28"
      },
      "source": [
        "###train size : test size = 70% : 30%"
      ]
    },
    {
      "cell_type": "code",
      "metadata": {
        "id": "Ma4JfHLQRB28"
      },
      "source": [
        "X_train, X_test, y_train, y_test = train_test_split(X, y, test_size=0.3, random_state=0)"
      ],
      "execution_count": 264,
      "outputs": []
    },
    {
      "cell_type": "code",
      "metadata": {
        "colab": {
          "base_uri": "https://localhost:8080/"
        },
        "id": "vFqtk1N0RB29",
        "outputId": "7935ddf6-e77c-4872-d67d-22e0dd5c8bd2"
      },
      "source": [
        "print(len(X_train))\n",
        "print(len(y_test))"
      ],
      "execution_count": 265,
      "outputs": [
        {
          "output_type": "stream",
          "name": "stdout",
          "text": [
            "245\n",
            "106\n"
          ]
        }
      ]
    },
    {
      "cell_type": "code",
      "metadata": {
        "colab": {
          "base_uri": "https://localhost:8080/"
        },
        "id": "H9KrIZFvRB29",
        "outputId": "e68b15f1-5042-4a49-f7e3-5f82d51f8c05"
      },
      "source": [
        "gaussain_SVC_classifier.fit(X_train, y_train)"
      ],
      "execution_count": 266,
      "outputs": [
        {
          "output_type": "execute_result",
          "data": {
            "text/plain": [
              "SVC()"
            ]
          },
          "metadata": {},
          "execution_count": 266
        }
      ]
    },
    {
      "cell_type": "code",
      "metadata": {
        "colab": {
          "base_uri": "https://localhost:8080/"
        },
        "id": "EFj7muvzRB29",
        "outputId": "cc33861d-4da8-44a8-cc3d-6f8193114cb3"
      },
      "source": [
        "y_pred = gaussain_SVC_classifier.predict(X_test)\n",
        "print(f\"Accuracy: {100 * accuracy_score(y_test,y_pred)}%\\n\")\n",
        "cf_matrix = confusion_matrix(y_test,y_pred)\n",
        "print(\"Confusion Matrix:\\n\", cf_matrix)\n",
        "print(\"\\nClassification Report:\\n\")\n",
        "print(classification_report(y_test,y_pred))"
      ],
      "execution_count": 267,
      "outputs": [
        {
          "output_type": "stream",
          "name": "stdout",
          "text": [
            "Accuracy: 95.28301886792453%\n",
            "\n",
            "Confusion Matrix:\n",
            " [[40  4]\n",
            " [ 1 61]]\n",
            "\n",
            "Classification Report:\n",
            "\n",
            "              precision    recall  f1-score   support\n",
            "\n",
            "           b       0.98      0.91      0.94        44\n",
            "           g       0.94      0.98      0.96        62\n",
            "\n",
            "    accuracy                           0.95       106\n",
            "   macro avg       0.96      0.95      0.95       106\n",
            "weighted avg       0.95      0.95      0.95       106\n",
            "\n"
          ]
        }
      ]
    },
    {
      "cell_type": "code",
      "metadata": {
        "colab": {
          "base_uri": "https://localhost:8080/",
          "height": 0
        },
        "id": "bOpy3nrWRB29",
        "outputId": "e09533b8-a401-4099-e5b6-4b6b83baae29"
      },
      "source": [
        "sns.heatmap(cf_matrix, annot=True)"
      ],
      "execution_count": 268,
      "outputs": [
        {
          "output_type": "execute_result",
          "data": {
            "text/plain": [
              "<matplotlib.axes._subplots.AxesSubplot at 0x7f6e0cc8f450>"
            ]
          },
          "metadata": {},
          "execution_count": 268
        },
        {
          "output_type": "display_data",
          "data": {
            "image/png": "[encoded data removed]",
            "text/plain": [
              "<Figure size 432x288 with 2 Axes>"
            ]
          },
          "metadata": {
            "needs_background": "light"
          }
        }
      ]
    },
    {
      "cell_type": "markdown",
      "metadata": {
        "id": "s3rHVPrdRB29"
      },
      "source": [
        "### train size : test size = 60% : 40%\n",
        "\n"
      ]
    },
    {
      "cell_type": "code",
      "metadata": {
        "id": "G3Qt2hNfRB29"
      },
      "source": [
        "X_train, X_test, y_train, y_test = train_test_split(X, y, test_size=0.4, random_state=0)"
      ],
      "execution_count": 269,
      "outputs": []
    },
    {
      "cell_type": "code",
      "metadata": {
        "colab": {
          "base_uri": "https://localhost:8080/"
        },
        "id": "pyOTNtVIRB29",
        "outputId": "f4843d3a-6e1e-4761-c261-447dd214fc34"
      },
      "source": [
        "print(len(X_train))\n",
        "print(len(y_test))"
      ],
      "execution_count": 270,
      "outputs": [
        {
          "output_type": "stream",
          "name": "stdout",
          "text": [
            "210\n",
            "141\n"
          ]
        }
      ]
    },
    {
      "cell_type": "code",
      "metadata": {
        "colab": {
          "base_uri": "https://localhost:8080/"
        },
        "id": "HH5FE0F9RB2-",
        "outputId": "aca686df-5a5c-435f-87b7-081723fd9df8"
      },
      "source": [
        "gaussain_SVC_classifier.fit(X_train, y_train)"
      ],
      "execution_count": 271,
      "outputs": [
        {
          "output_type": "execute_result",
          "data": {
            "text/plain": [
              "SVC()"
            ]
          },
          "metadata": {},
          "execution_count": 271
        }
      ]
    },
    {
      "cell_type": "code",
      "metadata": {
        "colab": {
          "base_uri": "https://localhost:8080/"
        },
        "id": "S-vECiDBRB2-",
        "outputId": "57bea499-04d2-4753-929e-5fffe9fac2aa"
      },
      "source": [
        "y_pred = gaussain_SVC_classifier.predict(X_test)\n",
        "print(f\"Accuracy: {100 * accuracy_score(y_test,y_pred)}%\\n\")\n",
        "cf_matrix = confusion_matrix(y_test,y_pred)\n",
        "print(\"Confusion Matrix:\\n\", cf_matrix)\n",
        "print(\"\\nClassification Report:\\n\")\n",
        "print(classification_report(y_test,y_pred))"
      ],
      "execution_count": 272,
      "outputs": [
        {
          "output_type": "stream",
          "name": "stdout",
          "text": [
            "Accuracy: 94.32624113475178%\n",
            "\n",
            "Confusion Matrix:\n",
            " [[50  7]\n",
            " [ 1 83]]\n",
            "\n",
            "Classification Report:\n",
            "\n",
            "              precision    recall  f1-score   support\n",
            "\n",
            "           b       0.98      0.88      0.93        57\n",
            "           g       0.92      0.99      0.95        84\n",
            "\n",
            "    accuracy                           0.94       141\n",
            "   macro avg       0.95      0.93      0.94       141\n",
            "weighted avg       0.95      0.94      0.94       141\n",
            "\n"
          ]
        }
      ]
    },
    {
      "cell_type": "code",
      "metadata": {
        "colab": {
          "base_uri": "https://localhost:8080/",
          "height": 0
        },
        "id": "W0P9yQYmRB2-",
        "outputId": "d9eddbf7-fd9c-434f-b251-aec743a5fee0"
      },
      "source": [
        "sns.heatmap(cf_matrix, annot=True)"
      ],
      "execution_count": 273,
      "outputs": [
        {
          "output_type": "execute_result",
          "data": {
            "text/plain": [
              "<matplotlib.axes._subplots.AxesSubplot at 0x7f6e0cbcf3d0>"
            ]
          },
          "metadata": {},
          "execution_count": 273
        },
        {
          "output_type": "display_data",
          "data": {
            "image/png": "[encoded data removed]",
            "text/plain": [
              "<Figure size 432x288 with 2 Axes>"
            ]
          },
          "metadata": {
            "needs_background": "light"
          }
        }
      ]
    },
    {
      "cell_type": "markdown",
      "metadata": {
        "id": "UYE6eJdSRB2-"
      },
      "source": [
        "###train size : test size = 50% : 50%"
      ]
    },
    {
      "cell_type": "code",
      "metadata": {
        "id": "oUHFyBqGRB2-"
      },
      "source": [
        "X_train, X_test, y_train, y_test = train_test_split(X, y, test_size=0.5, random_state=0)"
      ],
      "execution_count": 274,
      "outputs": []
    },
    {
      "cell_type": "code",
      "metadata": {
        "colab": {
          "base_uri": "https://localhost:8080/"
        },
        "id": "5CJknD73RB2-",
        "outputId": "a95b811c-ee53-4b59-ea54-24796ac7610f"
      },
      "source": [
        "print(len(X_train))\n",
        "print(len(y_test))"
      ],
      "execution_count": 275,
      "outputs": [
        {
          "output_type": "stream",
          "name": "stdout",
          "text": [
            "175\n",
            "176\n"
          ]
        }
      ]
    },
    {
      "cell_type": "code",
      "metadata": {
        "colab": {
          "base_uri": "https://localhost:8080/"
        },
        "id": "JXJe_gdDRB2_",
        "outputId": "5783332d-3cc0-43ec-e2b0-621102780aca"
      },
      "source": [
        "gaussain_SVC_classifier.fit(X_train, y_train)"
      ],
      "execution_count": 276,
      "outputs": [
        {
          "output_type": "execute_result",
          "data": {
            "text/plain": [
              "SVC()"
            ]
          },
          "metadata": {},
          "execution_count": 276
        }
      ]
    },
    {
      "cell_type": "code",
      "metadata": {
        "colab": {
          "base_uri": "https://localhost:8080/"
        },
        "id": "wMuLxvdzRB2_",
        "outputId": "92662b00-1a29-4846-c480-37185a852988"
      },
      "source": [
        "y_pred = gaussain_SVC_classifier.predict(X_test)\n",
        "print(f\"Accuracy: {100 * accuracy_score(y_test,y_pred)}%\\n\")\n",
        "cf_matrix = confusion_matrix(y_test,y_pred)\n",
        "print(\"Confusion Matrix:\\n\", cf_matrix)\n",
        "print(\"\\nClassification Report:\\n\")\n",
        "print(classification_report(y_test,y_pred))"
      ],
      "execution_count": 277,
      "outputs": [
        {
          "output_type": "stream",
          "name": "stdout",
          "text": [
            "Accuracy: 93.75%\n",
            "\n",
            "Confusion Matrix:\n",
            " [[ 65  10]\n",
            " [  1 100]]\n",
            "\n",
            "Classification Report:\n",
            "\n",
            "              precision    recall  f1-score   support\n",
            "\n",
            "           b       0.98      0.87      0.92        75\n",
            "           g       0.91      0.99      0.95       101\n",
            "\n",
            "    accuracy                           0.94       176\n",
            "   macro avg       0.95      0.93      0.93       176\n",
            "weighted avg       0.94      0.94      0.94       176\n",
            "\n"
          ]
        }
      ]
    },
    {
      "cell_type": "code",
      "metadata": {
        "colab": {
          "base_uri": "https://localhost:8080/",
          "height": 0
        },
        "id": "mT5Ov5XYRB2_",
        "outputId": "dcd985a0-af37-4487-f51f-599cadc0131d"
      },
      "source": [
        "sns.heatmap(cf_matrix, annot=True)"
      ],
      "execution_count": 278,
      "outputs": [
        {
          "output_type": "execute_result",
          "data": {
            "text/plain": [
              "<matplotlib.axes._subplots.AxesSubplot at 0x7f6e0cafe390>"
            ]
          },
          "metadata": {},
          "execution_count": 278
        },
        {
          "output_type": "display_data",
          "data": {
            "image/png": "[encoded data removed]",
            "text/plain": [
              "<Figure size 432x288 with 2 Axes>"
            ]
          },
          "metadata": {
            "needs_background": "light"
          }
        }
      ]
    },
    {
      "cell_type": "markdown",
      "metadata": {
        "id": "ieGdb76lRB2_"
      },
      "source": [
        "###train size : test size = 40% : 60%"
      ]
    },
    {
      "cell_type": "code",
      "metadata": {
        "id": "MCXESfLURB2_"
      },
      "source": [
        "X_train, X_test, y_train, y_test = train_test_split(X, y, test_size=0.6, random_state=0)"
      ],
      "execution_count": 279,
      "outputs": []
    },
    {
      "cell_type": "code",
      "metadata": {
        "colab": {
          "base_uri": "https://localhost:8080/"
        },
        "id": "kCPKlPk-RB2_",
        "outputId": "a073bf15-34c7-45c2-d1fb-a33c593aefb8"
      },
      "source": [
        "print(len(X_train))\n",
        "print(len(y_test))"
      ],
      "execution_count": 280,
      "outputs": [
        {
          "output_type": "stream",
          "name": "stdout",
          "text": [
            "140\n",
            "211\n"
          ]
        }
      ]
    },
    {
      "cell_type": "code",
      "metadata": {
        "colab": {
          "base_uri": "https://localhost:8080/"
        },
        "id": "c1azAUf6RB2_",
        "outputId": "580d8263-4c79-4b29-ad8c-12f4deffeb04"
      },
      "source": [
        "gaussain_SVC_classifier.fit(X_train, y_train)"
      ],
      "execution_count": 281,
      "outputs": [
        {
          "output_type": "execute_result",
          "data": {
            "text/plain": [
              "SVC()"
            ]
          },
          "metadata": {},
          "execution_count": 281
        }
      ]
    },
    {
      "cell_type": "code",
      "metadata": {
        "colab": {
          "base_uri": "https://localhost:8080/"
        },
        "id": "JVnJQSGhRB3A",
        "outputId": "601e5283-68e5-4fe0-ba18-6f0a93079fb7"
      },
      "source": [
        "y_pred = gaussain_SVC_classifier.predict(X_test)\n",
        "print(f\"Accuracy: {100 * accuracy_score(y_test,y_pred)}%\\n\")\n",
        "cf_matrix = confusion_matrix(y_test,y_pred)\n",
        "print(\"Confusion Matrix:\\n\", cf_matrix)\n",
        "print(\"\\nClassification Report:\\n\")\n",
        "print(classification_report(y_test,y_pred))"
      ],
      "execution_count": 282,
      "outputs": [
        {
          "output_type": "stream",
          "name": "stdout",
          "text": [
            "Accuracy: 90.99526066350711%\n",
            "\n",
            "Confusion Matrix:\n",
            " [[ 69  19]\n",
            " [  0 123]]\n",
            "\n",
            "Classification Report:\n",
            "\n",
            "              precision    recall  f1-score   support\n",
            "\n",
            "           b       1.00      0.78      0.88        88\n",
            "           g       0.87      1.00      0.93       123\n",
            "\n",
            "    accuracy                           0.91       211\n",
            "   macro avg       0.93      0.89      0.90       211\n",
            "weighted avg       0.92      0.91      0.91       211\n",
            "\n"
          ]
        }
      ]
    },
    {
      "cell_type": "code",
      "metadata": {
        "colab": {
          "base_uri": "https://localhost:8080/",
          "height": 0
        },
        "id": "egb0ZBmKRB3B",
        "outputId": "48c1b3c7-821d-484e-8c93-7c7ca86ea221"
      },
      "source": [
        "sns.heatmap(cf_matrix, annot=True)"
      ],
      "execution_count": 283,
      "outputs": [
        {
          "output_type": "execute_result",
          "data": {
            "text/plain": [
              "<matplotlib.axes._subplots.AxesSubplot at 0x7f6e0ca1e850>"
            ]
          },
          "metadata": {},
          "execution_count": 283
        },
        {
          "output_type": "display_data",
          "data": {
            "image/png": "[encoded data removed]",
            "text/plain": [
              "<Figure size 432x288 with 2 Axes>"
            ]
          },
          "metadata": {
            "needs_background": "light"
          }
        }
      ]
    },
    {
      "cell_type": "markdown",
      "metadata": {
        "id": "snAaf7KvRB3B"
      },
      "source": [
        "###train size : test size = 30% : 70%"
      ]
    },
    {
      "cell_type": "code",
      "metadata": {
        "id": "XHFkc7qpRB3B"
      },
      "source": [
        "X_train, X_test, y_train, y_test = train_test_split(X, y, test_size=0.7, random_state=0)"
      ],
      "execution_count": 284,
      "outputs": []
    },
    {
      "cell_type": "code",
      "metadata": {
        "colab": {
          "base_uri": "https://localhost:8080/"
        },
        "id": "o7R7YRBaRB3C",
        "outputId": "ae5cb89e-6fac-4350-e75a-cd5aa9ed9a9b"
      },
      "source": [
        "print(len(X_train))\n",
        "print(len(y_test))"
      ],
      "execution_count": 285,
      "outputs": [
        {
          "output_type": "stream",
          "name": "stdout",
          "text": [
            "105\n",
            "246\n"
          ]
        }
      ]
    },
    {
      "cell_type": "code",
      "metadata": {
        "colab": {
          "base_uri": "https://localhost:8080/"
        },
        "id": "1KgUANvTRB3C",
        "outputId": "2e297f11-8078-41e1-cbaf-1383ce3faeb3"
      },
      "source": [
        "gaussain_SVC_classifier.fit(X_train, y_train)"
      ],
      "execution_count": 286,
      "outputs": [
        {
          "output_type": "execute_result",
          "data": {
            "text/plain": [
              "SVC()"
            ]
          },
          "metadata": {},
          "execution_count": 286
        }
      ]
    },
    {
      "cell_type": "code",
      "metadata": {
        "colab": {
          "base_uri": "https://localhost:8080/"
        },
        "id": "CJzGj_8VRB3C",
        "outputId": "09706d42-b8b2-402e-d946-73c8a7681a38"
      },
      "source": [
        "y_pred = gaussain_SVC_classifier.predict(X_test)\n",
        "print(f\"Accuracy: {100 * accuracy_score(y_test,y_pred)}%\\n\")\n",
        "cf_matrix = confusion_matrix(y_test,y_pred)\n",
        "print(\"Confusion Matrix:\\n\", cf_matrix)\n",
        "print(\"\\nClassification Report:\\n\")\n",
        "print(classification_report(y_test,y_pred))"
      ],
      "execution_count": 287,
      "outputs": [
        {
          "output_type": "stream",
          "name": "stdout",
          "text": [
            "Accuracy: 90.2439024390244%\n",
            "\n",
            "Confusion Matrix:\n",
            " [[ 76  24]\n",
            " [  0 146]]\n",
            "\n",
            "Classification Report:\n",
            "\n",
            "              precision    recall  f1-score   support\n",
            "\n",
            "           b       1.00      0.76      0.86       100\n",
            "           g       0.86      1.00      0.92       146\n",
            "\n",
            "    accuracy                           0.90       246\n",
            "   macro avg       0.93      0.88      0.89       246\n",
            "weighted avg       0.92      0.90      0.90       246\n",
            "\n"
          ]
        }
      ]
    },
    {
      "cell_type": "code",
      "metadata": {
        "colab": {
          "base_uri": "https://localhost:8080/",
          "height": 0
        },
        "id": "ZPQmrKcuRB3C",
        "outputId": "0c3c3794-6b00-4e19-9f5c-ff0cf85ce8f4"
      },
      "source": [
        "sns.heatmap(cf_matrix, annot=True)"
      ],
      "execution_count": 288,
      "outputs": [
        {
          "output_type": "execute_result",
          "data": {
            "text/plain": [
              "<matplotlib.axes._subplots.AxesSubplot at 0x7f6e0c9ca390>"
            ]
          },
          "metadata": {},
          "execution_count": 288
        },
        {
          "output_type": "display_data",
          "data": {
            "image/png": "[encoded data removed]",
            "text/plain": [
              "<Figure size 432x288 with 2 Axes>"
            ]
          },
          "metadata": {
            "needs_background": "light"
          }
        }
      ]
    },
    {
      "cell_type": "markdown",
      "metadata": {
        "id": "6Uq5AA4VSNWk"
      },
      "source": [
        "##Sigmoid SVC Classifier"
      ]
    },
    {
      "cell_type": "code",
      "metadata": {
        "colab": {
          "base_uri": "https://localhost:8080/"
        },
        "id": "a5p2Efy0SNWt",
        "outputId": "0a495a7f-3119-4f76-8fcf-6ca204a43a16"
      },
      "source": [
        "sigmoid_SVC_classifier = SVC(kernel='sigmoid')\n",
        "sigmoid_SVC_classifier"
      ],
      "execution_count": 289,
      "outputs": [
        {
          "output_type": "execute_result",
          "data": {
            "text/plain": [
              "SVC(kernel='sigmoid')"
            ]
          },
          "metadata": {},
          "execution_count": 289
        }
      ]
    },
    {
      "cell_type": "markdown",
      "metadata": {
        "id": "rMny6tMeSNWt"
      },
      "source": [
        "###train size : test size = 70% : 30%"
      ]
    },
    {
      "cell_type": "code",
      "metadata": {
        "id": "uCT65Da1SNWt"
      },
      "source": [
        "X_train, X_test, y_train, y_test = train_test_split(X, y, test_size=0.3, random_state=0)"
      ],
      "execution_count": 290,
      "outputs": []
    },
    {
      "cell_type": "code",
      "metadata": {
        "colab": {
          "base_uri": "https://localhost:8080/"
        },
        "id": "i4gMCShxSNWt",
        "outputId": "f3a5d5d6-a2bb-417c-a8a9-33803147b690"
      },
      "source": [
        "print(len(X_train))\n",
        "print(len(y_test))"
      ],
      "execution_count": 291,
      "outputs": [
        {
          "output_type": "stream",
          "name": "stdout",
          "text": [
            "245\n",
            "106\n"
          ]
        }
      ]
    },
    {
      "cell_type": "code",
      "metadata": {
        "colab": {
          "base_uri": "https://localhost:8080/"
        },
        "id": "HdlZDuSESNWt",
        "outputId": "bdf7fa85-12b9-4eb3-c076-d45ed5879675"
      },
      "source": [
        "sigmoid_SVC_classifier.fit(X_train, y_train)"
      ],
      "execution_count": 292,
      "outputs": [
        {
          "output_type": "execute_result",
          "data": {
            "text/plain": [
              "SVC(kernel='sigmoid')"
            ]
          },
          "metadata": {},
          "execution_count": 292
        }
      ]
    },
    {
      "cell_type": "code",
      "metadata": {
        "colab": {
          "base_uri": "https://localhost:8080/"
        },
        "id": "dvL_dMXKSNWt",
        "outputId": "b951b614-b586-4989-fb3f-c59d6b6e9c7a"
      },
      "source": [
        "y_pred = sigmoid_SVC_classifier.predict(X_test)\n",
        "print(f\"Accuracy: {100 * accuracy_score(y_test,y_pred)}%\\n\")\n",
        "cf_matrix = confusion_matrix(y_test,y_pred)\n",
        "print(\"Confusion Matrix:\\n\", cf_matrix)\n",
        "print(\"\\nClassification Report:\\n\")\n",
        "print(classification_report(y_test,y_pred))"
      ],
      "execution_count": 293,
      "outputs": [
        {
          "output_type": "stream",
          "name": "stdout",
          "text": [
            "Accuracy: 84.90566037735849%\n",
            "\n",
            "Confusion Matrix:\n",
            " [[29 15]\n",
            " [ 1 61]]\n",
            "\n",
            "Classification Report:\n",
            "\n",
            "              precision    recall  f1-score   support\n",
            "\n",
            "           b       0.97      0.66      0.78        44\n",
            "           g       0.80      0.98      0.88        62\n",
            "\n",
            "    accuracy                           0.85       106\n",
            "   macro avg       0.88      0.82      0.83       106\n",
            "weighted avg       0.87      0.85      0.84       106\n",
            "\n"
          ]
        }
      ]
    },
    {
      "cell_type": "code",
      "metadata": {
        "colab": {
          "base_uri": "https://localhost:8080/",
          "height": 283
        },
        "id": "yj8fmXO6SNWt",
        "outputId": "215294a6-35ea-4da6-db23-f6ae97e44906"
      },
      "source": [
        "sns.heatmap(cf_matrix, annot=True)"
      ],
      "execution_count": 294,
      "outputs": [
        {
          "output_type": "execute_result",
          "data": {
            "text/plain": [
              "<matplotlib.axes._subplots.AxesSubplot at 0x7f6e0d22b490>"
            ]
          },
          "metadata": {},
          "execution_count": 294
        },
        {
          "output_type": "display_data",
          "data": {
            "image/png": "[encoded data removed]",
            "text/plain": [
              "<Figure size 432x288 with 2 Axes>"
            ]
          },
          "metadata": {
            "needs_background": "light"
          }
        }
      ]
    },
    {
      "cell_type": "markdown",
      "metadata": {
        "id": "7gw5tyyASNWu"
      },
      "source": [
        "### train size : test size = 60% : 40%\n",
        "\n"
      ]
    },
    {
      "cell_type": "code",
      "metadata": {
        "id": "x9SfkggRSNWu"
      },
      "source": [
        "X_train, X_test, y_train, y_test = train_test_split(X, y, test_size=0.4, random_state=0)"
      ],
      "execution_count": 295,
      "outputs": []
    },
    {
      "cell_type": "code",
      "metadata": {
        "colab": {
          "base_uri": "https://localhost:8080/"
        },
        "id": "u7ewbnHASNWu",
        "outputId": "4fc1a656-062c-46e5-fd1b-556496e6afae"
      },
      "source": [
        "print(len(X_train))\n",
        "print(len(y_test))"
      ],
      "execution_count": 296,
      "outputs": [
        {
          "output_type": "stream",
          "name": "stdout",
          "text": [
            "210\n",
            "141\n"
          ]
        }
      ]
    },
    {
      "cell_type": "code",
      "metadata": {
        "colab": {
          "base_uri": "https://localhost:8080/"
        },
        "id": "3unjHKxuSNWu",
        "outputId": "051ff822-0cf0-4ab5-8fea-3e908219426d"
      },
      "source": [
        "sigmoid_SVC_classifier.fit(X_train, y_train)"
      ],
      "execution_count": 297,
      "outputs": [
        {
          "output_type": "execute_result",
          "data": {
            "text/plain": [
              "SVC(kernel='sigmoid')"
            ]
          },
          "metadata": {},
          "execution_count": 297
        }
      ]
    },
    {
      "cell_type": "code",
      "metadata": {
        "colab": {
          "base_uri": "https://localhost:8080/"
        },
        "id": "tQJ5AMSFSNWu",
        "outputId": "bce71efb-ba03-487e-f368-6fccac197c7d"
      },
      "source": [
        "y_pred = sigmoid_SVC_classifier.predict(X_test)\n",
        "print(f\"Accuracy: {100 * accuracy_score(y_test,y_pred)}%\\n\")\n",
        "cf_matrix = confusion_matrix(y_test,y_pred)\n",
        "print(\"Confusion Matrix:\\n\", cf_matrix)\n",
        "print(\"\\nClassification Report:\\n\")\n",
        "print(classification_report(y_test,y_pred))"
      ],
      "execution_count": 298,
      "outputs": [
        {
          "output_type": "stream",
          "name": "stdout",
          "text": [
            "Accuracy: 82.97872340425532%\n",
            "\n",
            "Confusion Matrix:\n",
            " [[34 23]\n",
            " [ 1 83]]\n",
            "\n",
            "Classification Report:\n",
            "\n",
            "              precision    recall  f1-score   support\n",
            "\n",
            "           b       0.97      0.60      0.74        57\n",
            "           g       0.78      0.99      0.87        84\n",
            "\n",
            "    accuracy                           0.83       141\n",
            "   macro avg       0.88      0.79      0.81       141\n",
            "weighted avg       0.86      0.83      0.82       141\n",
            "\n"
          ]
        }
      ]
    },
    {
      "cell_type": "code",
      "metadata": {
        "colab": {
          "base_uri": "https://localhost:8080/",
          "height": 282
        },
        "id": "_QJuwa16SNWu",
        "outputId": "705c5d13-8a63-4c33-a5ec-813e5e95934c"
      },
      "source": [
        "sns.heatmap(cf_matrix, annot=True)"
      ],
      "execution_count": 299,
      "outputs": [
        {
          "output_type": "execute_result",
          "data": {
            "text/plain": [
              "<matplotlib.axes._subplots.AxesSubplot at 0x7f6e0c865b10>"
            ]
          },
          "metadata": {},
          "execution_count": 299
        },
        {
          "output_type": "display_data",
          "data": {
            "image/png": "[encoded data removed]",
            "text/plain": [
              "<Figure size 432x288 with 2 Axes>"
            ]
          },
          "metadata": {
            "needs_background": "light"
          }
        }
      ]
    },
    {
      "cell_type": "markdown",
      "metadata": {
        "id": "2Xas1zovSNWu"
      },
      "source": [
        "###train size : test size = 50% : 50%"
      ]
    },
    {
      "cell_type": "code",
      "metadata": {
        "id": "RAFP65YJSNWv"
      },
      "source": [
        "X_train, X_test, y_train, y_test = train_test_split(X, y, test_size=0.5, random_state=0)"
      ],
      "execution_count": 300,
      "outputs": []
    },
    {
      "cell_type": "code",
      "metadata": {
        "colab": {
          "base_uri": "https://localhost:8080/"
        },
        "id": "pc73jFMdSNWv",
        "outputId": "e37989d9-6421-4f69-87ae-bb188dd2033b"
      },
      "source": [
        "print(len(X_train))\n",
        "print(len(y_test))"
      ],
      "execution_count": 301,
      "outputs": [
        {
          "output_type": "stream",
          "name": "stdout",
          "text": [
            "175\n",
            "176\n"
          ]
        }
      ]
    },
    {
      "cell_type": "code",
      "metadata": {
        "colab": {
          "base_uri": "https://localhost:8080/"
        },
        "id": "y5PXq8MVSNWv",
        "outputId": "a319d250-6a54-4ac8-bf18-5830ce57edc2"
      },
      "source": [
        "sigmoid_SVC_classifier.fit(X_train, y_train)"
      ],
      "execution_count": 302,
      "outputs": [
        {
          "output_type": "execute_result",
          "data": {
            "text/plain": [
              "SVC(kernel='sigmoid')"
            ]
          },
          "metadata": {},
          "execution_count": 302
        }
      ]
    },
    {
      "cell_type": "code",
      "metadata": {
        "colab": {
          "base_uri": "https://localhost:8080/"
        },
        "id": "3DneA8noSNWv",
        "outputId": "fd25fa8a-1780-4a08-bb89-195e3deb3bb1"
      },
      "source": [
        "y_pred = sigmoid_SVC_classifier.predict(X_test)\n",
        "print(f\"Accuracy: {100 * accuracy_score(y_test,y_pred)}%\\n\")\n",
        "cf_matrix = confusion_matrix(y_test,y_pred)\n",
        "print(\"Confusion Matrix:\\n\", cf_matrix)\n",
        "print(\"\\nClassification Report:\\n\")\n",
        "print(classification_report(y_test,y_pred))"
      ],
      "execution_count": 303,
      "outputs": [
        {
          "output_type": "stream",
          "name": "stdout",
          "text": [
            "Accuracy: 83.52272727272727%\n",
            "\n",
            "Confusion Matrix:\n",
            " [[48 27]\n",
            " [ 2 99]]\n",
            "\n",
            "Classification Report:\n",
            "\n",
            "              precision    recall  f1-score   support\n",
            "\n",
            "           b       0.96      0.64      0.77        75\n",
            "           g       0.79      0.98      0.87       101\n",
            "\n",
            "    accuracy                           0.84       176\n",
            "   macro avg       0.87      0.81      0.82       176\n",
            "weighted avg       0.86      0.84      0.83       176\n",
            "\n"
          ]
        }
      ]
    },
    {
      "cell_type": "code",
      "metadata": {
        "colab": {
          "base_uri": "https://localhost:8080/",
          "height": 282
        },
        "id": "Q0s5UGJ9SNWv",
        "outputId": "d6fdfe4f-a310-4e6b-fdb2-a00888749c3a"
      },
      "source": [
        "sns.heatmap(cf_matrix, annot=True)"
      ],
      "execution_count": 304,
      "outputs": [
        {
          "output_type": "execute_result",
          "data": {
            "text/plain": [
              "<matplotlib.axes._subplots.AxesSubplot at 0x7f6e0c798f10>"
            ]
          },
          "metadata": {},
          "execution_count": 304
        },
        {
          "output_type": "display_data",
          "data": {
            "image/png": "[encoded data removed]",
            "text/plain": [
              "<Figure size 432x288 with 2 Axes>"
            ]
          },
          "metadata": {
            "needs_background": "light"
          }
        }
      ]
    },
    {
      "cell_type": "markdown",
      "metadata": {
        "id": "3C2gQPBSSNWv"
      },
      "source": [
        "###train size : test size = 40% : 60%"
      ]
    },
    {
      "cell_type": "code",
      "metadata": {
        "id": "ajAx2BU6SNWv"
      },
      "source": [
        "X_train, X_test, y_train, y_test = train_test_split(X, y, test_size=0.6, random_state=0)"
      ],
      "execution_count": 305,
      "outputs": []
    },
    {
      "cell_type": "code",
      "metadata": {
        "colab": {
          "base_uri": "https://localhost:8080/"
        },
        "id": "16QPfQgxSNWw",
        "outputId": "82cc29f7-d1d9-4a61-e231-be504f3dc87a"
      },
      "source": [
        "print(len(X_train))\n",
        "print(len(y_test))"
      ],
      "execution_count": 306,
      "outputs": [
        {
          "output_type": "stream",
          "name": "stdout",
          "text": [
            "140\n",
            "211\n"
          ]
        }
      ]
    },
    {
      "cell_type": "code",
      "metadata": {
        "colab": {
          "base_uri": "https://localhost:8080/"
        },
        "id": "4WlNHr3ZSNWw",
        "outputId": "a9204266-7ac6-48d1-c323-a76701e409f6"
      },
      "source": [
        "sigmoid_SVC_classifier.fit(X_train, y_train)"
      ],
      "execution_count": 307,
      "outputs": [
        {
          "output_type": "execute_result",
          "data": {
            "text/plain": [
              "SVC(kernel='sigmoid')"
            ]
          },
          "metadata": {},
          "execution_count": 307
        }
      ]
    },
    {
      "cell_type": "code",
      "metadata": {
        "colab": {
          "base_uri": "https://localhost:8080/"
        },
        "id": "KPsRIMwISNWw",
        "outputId": "f707047a-b0e4-485a-c48a-eb5557a3937f"
      },
      "source": [
        "y_pred = sigmoid_SVC_classifier.predict(X_test)\n",
        "print(f\"Accuracy: {100 * accuracy_score(y_test,y_pred)}%\\n\")\n",
        "cf_matrix = confusion_matrix(y_test,y_pred)\n",
        "print(\"Confusion Matrix:\\n\", cf_matrix)\n",
        "print(\"\\nClassification Report:\\n\")\n",
        "print(classification_report(y_test,y_pred))"
      ],
      "execution_count": 308,
      "outputs": [
        {
          "output_type": "stream",
          "name": "stdout",
          "text": [
            "Accuracy: 81.99052132701422%\n",
            "\n",
            "Confusion Matrix:\n",
            " [[ 51  37]\n",
            " [  1 122]]\n",
            "\n",
            "Classification Report:\n",
            "\n",
            "              precision    recall  f1-score   support\n",
            "\n",
            "           b       0.98      0.58      0.73        88\n",
            "           g       0.77      0.99      0.87       123\n",
            "\n",
            "    accuracy                           0.82       211\n",
            "   macro avg       0.87      0.79      0.80       211\n",
            "weighted avg       0.86      0.82      0.81       211\n",
            "\n"
          ]
        }
      ]
    },
    {
      "cell_type": "code",
      "metadata": {
        "colab": {
          "base_uri": "https://localhost:8080/",
          "height": 283
        },
        "id": "_mfpItxeSNWw",
        "outputId": "dd441577-265b-4860-b128-c79c8730802b"
      },
      "source": [
        "sns.heatmap(cf_matrix, annot=True)"
      ],
      "execution_count": 309,
      "outputs": [
        {
          "output_type": "execute_result",
          "data": {
            "text/plain": [
              "<matplotlib.axes._subplots.AxesSubplot at 0x7f6e0c735d50>"
            ]
          },
          "metadata": {},
          "execution_count": 309
        },
        {
          "output_type": "display_data",
          "data": {
            "image/png": "[encoded data removed]",
            "text/plain": [
              "<Figure size 432x288 with 2 Axes>"
            ]
          },
          "metadata": {
            "needs_background": "light"
          }
        }
      ]
    },
    {
      "cell_type": "markdown",
      "metadata": {
        "id": "ff-pzGyMSNWw"
      },
      "source": [
        "###train size : test size = 30% : 70%"
      ]
    },
    {
      "cell_type": "code",
      "metadata": {
        "id": "-FzRrrtSSNWw"
      },
      "source": [
        "X_train, X_test, y_train, y_test = train_test_split(X, y, test_size=0.7, random_state=0)"
      ],
      "execution_count": 310,
      "outputs": []
    },
    {
      "cell_type": "code",
      "metadata": {
        "colab": {
          "base_uri": "https://localhost:8080/"
        },
        "id": "yXWszrj_SNWw",
        "outputId": "d2c45c9f-6e23-49c8-fd93-334db8ef8c01"
      },
      "source": [
        "print(len(X_train))\n",
        "print(len(y_test))"
      ],
      "execution_count": 311,
      "outputs": [
        {
          "output_type": "stream",
          "name": "stdout",
          "text": [
            "105\n",
            "246\n"
          ]
        }
      ]
    },
    {
      "cell_type": "code",
      "metadata": {
        "colab": {
          "base_uri": "https://localhost:8080/"
        },
        "id": "UnfGohVqSNWw",
        "outputId": "ea41badc-04a4-4992-fc25-b89ccfe83104"
      },
      "source": [
        "sigmoid_SVC_classifier.fit(X_train, y_train)"
      ],
      "execution_count": 312,
      "outputs": [
        {
          "output_type": "execute_result",
          "data": {
            "text/plain": [
              "SVC(kernel='sigmoid')"
            ]
          },
          "metadata": {},
          "execution_count": 312
        }
      ]
    },
    {
      "cell_type": "code",
      "metadata": {
        "colab": {
          "base_uri": "https://localhost:8080/"
        },
        "id": "KsF4lP47SNWx",
        "outputId": "795612b9-beab-4100-bff7-57a70f77893b"
      },
      "source": [
        "y_pred = sigmoid_SVC_classifier.predict(X_test)\n",
        "print(f\"Accuracy: {100 * accuracy_score(y_test,y_pred)}%\\n\")\n",
        "cf_matrix = confusion_matrix(y_test,y_pred)\n",
        "print(\"Confusion Matrix:\\n\", cf_matrix)\n",
        "print(\"\\nClassification Report:\\n\")\n",
        "print(classification_report(y_test,y_pred))"
      ],
      "execution_count": 313,
      "outputs": [
        {
          "output_type": "stream",
          "name": "stdout",
          "text": [
            "Accuracy: 82.11382113821138%\n",
            "\n",
            "Confusion Matrix:\n",
            " [[ 56  44]\n",
            " [  0 146]]\n",
            "\n",
            "Classification Report:\n",
            "\n",
            "              precision    recall  f1-score   support\n",
            "\n",
            "           b       1.00      0.56      0.72       100\n",
            "           g       0.77      1.00      0.87       146\n",
            "\n",
            "    accuracy                           0.82       246\n",
            "   macro avg       0.88      0.78      0.79       246\n",
            "weighted avg       0.86      0.82      0.81       246\n",
            "\n"
          ]
        }
      ]
    },
    {
      "cell_type": "code",
      "metadata": {
        "colab": {
          "base_uri": "https://localhost:8080/",
          "height": 282
        },
        "id": "4c8quXQGSNWx",
        "outputId": "34336340-21c3-4cd7-ac8b-7814476c5516"
      },
      "source": [
        "sns.heatmap(cf_matrix, annot=True)"
      ],
      "execution_count": 314,
      "outputs": [
        {
          "output_type": "execute_result",
          "data": {
            "text/plain": [
              "<matplotlib.axes._subplots.AxesSubplot at 0x7f6e0c735c90>"
            ]
          },
          "metadata": {},
          "execution_count": 314
        },
        {
          "output_type": "display_data",
          "data": {
            "image/png": "[encoded data removed]",
            "text/plain": [
              "<Figure size 432x288 with 2 Axes>"
            ]
          },
          "metadata": {
            "needs_background": "light"
          }
        }
      ]
    },
    {
      "cell_type": "markdown",
      "metadata": {
        "id": "BNVRVINWlbdL"
      },
      "source": [
        "#Decision Tree"
      ]
    },
    {
      "cell_type": "code",
      "metadata": {
        "id": "eNE-8xaXliwi"
      },
      "source": [
        "from sklearn.tree import DecisionTreeClassifier\n",
        "clf = DecisionTreeClassifier()"
      ],
      "execution_count": 315,
      "outputs": []
    },
    {
      "cell_type": "markdown",
      "metadata": {
        "id": "uN7XNa4xmYzy"
      },
      "source": [
        "###train size : test size = 70% : 30%\n"
      ]
    },
    {
      "cell_type": "code",
      "metadata": {
        "id": "Jb6b0wvbmYzy"
      },
      "source": [
        "X_train, X_test, y_train, y_test = train_test_split(X, y, test_size=0.3, random_state=0)    # 70% training data, 30% testing data"
      ],
      "execution_count": 316,
      "outputs": []
    },
    {
      "cell_type": "code",
      "metadata": {
        "colab": {
          "base_uri": "https://localhost:8080/"
        },
        "id": "CoOdV8fimYzy",
        "outputId": "f7685603-4dbf-4a28-8b36-94cd31910ad2"
      },
      "source": [
        "print(len(X_train))\n",
        "print(len(y_test))"
      ],
      "execution_count": 317,
      "outputs": [
        {
          "output_type": "stream",
          "name": "stdout",
          "text": [
            "245\n",
            "106\n"
          ]
        }
      ]
    },
    {
      "cell_type": "code",
      "metadata": {
        "id": "p5FfJHgDmYzy"
      },
      "source": [
        "clf = clf.fit(X_train,y_train)\n",
        "y_pred = clf.predict(X_test)"
      ],
      "execution_count": 318,
      "outputs": []
    },
    {
      "cell_type": "code",
      "metadata": {
        "colab": {
          "base_uri": "https://localhost:8080/"
        },
        "id": "6znN42asmYzz",
        "outputId": "822c6029-5ff0-4d9b-9e07-e4dbdc0a3bbb"
      },
      "source": [
        "print(f\"Accuracy: {100 * accuracy_score(y_test,y_pred)}%\\n\")\n",
        "cf_matrix = confusion_matrix(y_test,y_pred)\n",
        "print(\"Confusion Matrix:\\n\")\n",
        "print(cf_matrix)\n",
        "print(\"\\nClassification Report:\\n\")\n",
        "print(classification_report(y_test,y_pred))"
      ],
      "execution_count": 319,
      "outputs": [
        {
          "output_type": "stream",
          "name": "stdout",
          "text": [
            "Accuracy: 88.67924528301887%\n",
            "\n",
            "Confusion Matrix:\n",
            "\n",
            "[[35  9]\n",
            " [ 3 59]]\n",
            "\n",
            "Classification Report:\n",
            "\n",
            "              precision    recall  f1-score   support\n",
            "\n",
            "           b       0.92      0.80      0.85        44\n",
            "           g       0.87      0.95      0.91        62\n",
            "\n",
            "    accuracy                           0.89       106\n",
            "   macro avg       0.89      0.87      0.88       106\n",
            "weighted avg       0.89      0.89      0.89       106\n",
            "\n"
          ]
        }
      ]
    },
    {
      "cell_type": "code",
      "metadata": {
        "colab": {
          "base_uri": "https://localhost:8080/",
          "height": 0
        },
        "id": "lmoQRflFmYzz",
        "outputId": "beb3e28b-fc8f-48c2-ee4b-14c8c40b0354"
      },
      "source": [
        "sns.heatmap(cf_matrix, annot=True)"
      ],
      "execution_count": 320,
      "outputs": [
        {
          "output_type": "execute_result",
          "data": {
            "text/plain": [
              "<matplotlib.axes._subplots.AxesSubplot at 0x7f6e0c610850>"
            ]
          },
          "metadata": {},
          "execution_count": 320
        },
        {
          "output_type": "display_data",
          "data": {
            "image/png": "[encoded data removed]",
            "text/plain": [
              "<Figure size 432x288 with 2 Axes>"
            ]
          },
          "metadata": {
            "needs_background": "light"
          }
        }
      ]
    },
    {
      "cell_type": "markdown",
      "metadata": {
        "id": "H2DNh2o7mYzz"
      },
      "source": [
        "###train size : test size = 60% : 40%"
      ]
    },
    {
      "cell_type": "code",
      "metadata": {
        "id": "cB98kPkWmYzz"
      },
      "source": [
        "X_train, X_test, y_train, y_test = train_test_split(X, y, test_size=0.4, random_state=0)    # 60% training data, 40% testing data"
      ],
      "execution_count": 321,
      "outputs": []
    },
    {
      "cell_type": "code",
      "metadata": {
        "colab": {
          "base_uri": "https://localhost:8080/"
        },
        "id": "0YgZMi8-mYzz",
        "outputId": "51c6310a-4ed2-430b-ed10-f8a0c2022e9d"
      },
      "source": [
        "print(len(X_train))\n",
        "print(len(y_test))"
      ],
      "execution_count": 322,
      "outputs": [
        {
          "output_type": "stream",
          "name": "stdout",
          "text": [
            "210\n",
            "141\n"
          ]
        }
      ]
    },
    {
      "cell_type": "code",
      "metadata": {
        "id": "1--h-YvEmYzz"
      },
      "source": [
        "clf = clf.fit(X_train,y_train)\n",
        "y_pred = clf.predict(X_test)"
      ],
      "execution_count": 323,
      "outputs": []
    },
    {
      "cell_type": "code",
      "metadata": {
        "colab": {
          "base_uri": "https://localhost:8080/"
        },
        "id": "uFnKPP12mYzz",
        "outputId": "9816ebcd-ffad-4655-c686-5e42e1fd0d1f"
      },
      "source": [
        "print(f\"Accuracy: {100 * accuracy_score(y_test,y_pred)}%\\n\")\n",
        "cf_matrix = confusion_matrix(y_test,y_pred)\n",
        "print(\"Confusion Matrix:\")\n",
        "print(cf_matrix)\n",
        "print(\"\\nClassification Report:\\n\")\n",
        "print(classification_report(y_test,y_pred))"
      ],
      "execution_count": 324,
      "outputs": [
        {
          "output_type": "stream",
          "name": "stdout",
          "text": [
            "Accuracy: 88.65248226950354%\n",
            "\n",
            "Confusion Matrix:\n",
            "[[45 12]\n",
            " [ 4 80]]\n",
            "\n",
            "Classification Report:\n",
            "\n",
            "              precision    recall  f1-score   support\n",
            "\n",
            "           b       0.92      0.79      0.85        57\n",
            "           g       0.87      0.95      0.91        84\n",
            "\n",
            "    accuracy                           0.89       141\n",
            "   macro avg       0.89      0.87      0.88       141\n",
            "weighted avg       0.89      0.89      0.88       141\n",
            "\n"
          ]
        }
      ]
    },
    {
      "cell_type": "code",
      "metadata": {
        "colab": {
          "base_uri": "https://localhost:8080/",
          "height": 0
        },
        "id": "nqzwFWUwmYz0",
        "outputId": "4aea885c-79af-4fd3-a81e-6fa92cde0699"
      },
      "source": [
        "sns.heatmap(cf_matrix, annot=True)"
      ],
      "execution_count": 325,
      "outputs": [
        {
          "output_type": "execute_result",
          "data": {
            "text/plain": [
              "<matplotlib.axes._subplots.AxesSubplot at 0x7f6e0c527510>"
            ]
          },
          "metadata": {},
          "execution_count": 325
        },
        {
          "output_type": "display_data",
          "data": {
            "image/png": "[encoded data removed]",
            "text/plain": [
              "<Figure size 432x288 with 2 Axes>"
            ]
          },
          "metadata": {
            "needs_background": "light"
          }
        }
      ]
    },
    {
      "cell_type": "markdown",
      "metadata": {
        "id": "4T4zO6qcmYz0"
      },
      "source": [
        "###train size : test size = 50% : 50%"
      ]
    },
    {
      "cell_type": "code",
      "metadata": {
        "id": "FAs9ApKjmYz0"
      },
      "source": [
        "X_train, X_test, y_train, y_test = train_test_split(X, y, test_size=0.5, random_state=0)    # 50% training data, 50% testing data"
      ],
      "execution_count": 326,
      "outputs": []
    },
    {
      "cell_type": "code",
      "metadata": {
        "colab": {
          "base_uri": "https://localhost:8080/"
        },
        "id": "r79FGwo6mYz0",
        "outputId": "143a5966-e91e-46ee-d589-cec272fd6cbf"
      },
      "source": [
        "print(len(X_train))\n",
        "print(len(y_test))"
      ],
      "execution_count": 327,
      "outputs": [
        {
          "output_type": "stream",
          "name": "stdout",
          "text": [
            "175\n",
            "176\n"
          ]
        }
      ]
    },
    {
      "cell_type": "code",
      "metadata": {
        "id": "l-vRjjpGmYz0"
      },
      "source": [
        "clf = clf.fit(X_train,y_train)\n",
        "y_pred = clf.predict(X_test)"
      ],
      "execution_count": 328,
      "outputs": []
    },
    {
      "cell_type": "code",
      "metadata": {
        "colab": {
          "base_uri": "https://localhost:8080/"
        },
        "id": "JVav9UZvmYz0",
        "outputId": "476d46fe-a56e-48a3-e61f-90ab9f76c24f"
      },
      "source": [
        "print(f\"Accuracy: {100 * accuracy_score(y_test,y_pred)}%\\n\")\n",
        "cf_matrix = confusion_matrix(y_test,y_pred)\n",
        "print(\"Confusion Matrix:\")\n",
        "print(cf_matrix)\n",
        "print(\"\\nClassification Report:\\n\")\n",
        "print(classification_report(y_test,y_pred))"
      ],
      "execution_count": 329,
      "outputs": [
        {
          "output_type": "stream",
          "name": "stdout",
          "text": [
            "Accuracy: 89.20454545454545%\n",
            "\n",
            "Confusion Matrix:\n",
            "[[62 13]\n",
            " [ 6 95]]\n",
            "\n",
            "Classification Report:\n",
            "\n",
            "              precision    recall  f1-score   support\n",
            "\n",
            "           b       0.91      0.83      0.87        75\n",
            "           g       0.88      0.94      0.91       101\n",
            "\n",
            "    accuracy                           0.89       176\n",
            "   macro avg       0.90      0.88      0.89       176\n",
            "weighted avg       0.89      0.89      0.89       176\n",
            "\n"
          ]
        }
      ]
    },
    {
      "cell_type": "code",
      "metadata": {
        "colab": {
          "base_uri": "https://localhost:8080/",
          "height": 0
        },
        "id": "7HCAb65nmYz0",
        "outputId": "d6bb6d85-b063-4311-c134-6b06d46dfeec"
      },
      "source": [
        "sns.heatmap(cf_matrix, annot=True)"
      ],
      "execution_count": 330,
      "outputs": [
        {
          "output_type": "execute_result",
          "data": {
            "text/plain": [
              "<matplotlib.axes._subplots.AxesSubplot at 0x7f6e0c4c33d0>"
            ]
          },
          "metadata": {},
          "execution_count": 330
        },
        {
          "output_type": "display_data",
          "data": {
            "image/png": "[encoded data removed]",
            "text/plain": [
              "<Figure size 432x288 with 2 Axes>"
            ]
          },
          "metadata": {
            "needs_background": "light"
          }
        }
      ]
    },
    {
      "cell_type": "markdown",
      "metadata": {
        "id": "_t0Gk_vcmYz0"
      },
      "source": [
        "###train size : test size = 40% : 60%"
      ]
    },
    {
      "cell_type": "code",
      "metadata": {
        "id": "kbE-57gumYz1"
      },
      "source": [
        "X_train, X_test, y_train, y_test = train_test_split(X, y, test_size=0.6, random_state=0)"
      ],
      "execution_count": 331,
      "outputs": []
    },
    {
      "cell_type": "code",
      "metadata": {
        "colab": {
          "base_uri": "https://localhost:8080/"
        },
        "id": "eFt8RlLKmYz1",
        "outputId": "13a43882-ae32-49e5-d4bc-75fb5ca2d36e"
      },
      "source": [
        "print(len(X_train))\n",
        "print(len(y_test))"
      ],
      "execution_count": 332,
      "outputs": [
        {
          "output_type": "stream",
          "name": "stdout",
          "text": [
            "140\n",
            "211\n"
          ]
        }
      ]
    },
    {
      "cell_type": "code",
      "metadata": {
        "id": "RhtUEkEwmYz1"
      },
      "source": [
        "clf = clf.fit(X_train,y_train)\n",
        "y_pred = clf.predict(X_test)"
      ],
      "execution_count": 333,
      "outputs": []
    },
    {
      "cell_type": "code",
      "metadata": {
        "colab": {
          "base_uri": "https://localhost:8080/"
        },
        "id": "WPJGsatgmYz1",
        "outputId": "b5c1ebb8-95dc-4eed-f81b-7b29fcf79cbc"
      },
      "source": [
        "print(f\"Accuracy: {100 * accuracy_score(y_test,y_pred)}%\\n\")\n",
        "cf_matrix = confusion_matrix(y_test,y_pred)\n",
        "print(\"Confusion Matrix:\\n\")\n",
        "print(cf_matrix)\n",
        "print(\"\\nClassification Report:\\n\")\n",
        "print(classification_report(y_test,y_pred))"
      ],
      "execution_count": 334,
      "outputs": [
        {
          "output_type": "stream",
          "name": "stdout",
          "text": [
            "Accuracy: 89.0995260663507%\n",
            "\n",
            "Confusion Matrix:\n",
            "\n",
            "[[ 68  20]\n",
            " [  3 120]]\n",
            "\n",
            "Classification Report:\n",
            "\n",
            "              precision    recall  f1-score   support\n",
            "\n",
            "           b       0.96      0.77      0.86        88\n",
            "           g       0.86      0.98      0.91       123\n",
            "\n",
            "    accuracy                           0.89       211\n",
            "   macro avg       0.91      0.87      0.88       211\n",
            "weighted avg       0.90      0.89      0.89       211\n",
            "\n"
          ]
        }
      ]
    },
    {
      "cell_type": "code",
      "metadata": {
        "colab": {
          "base_uri": "https://localhost:8080/",
          "height": 0
        },
        "id": "bBUKNz4OmYz1",
        "outputId": "1f1b3cc3-2f35-4b6b-c270-8758b4623a2e"
      },
      "source": [
        "sns.heatmap(cf_matrix, annot=True)"
      ],
      "execution_count": 335,
      "outputs": [
        {
          "output_type": "execute_result",
          "data": {
            "text/plain": [
              "<matplotlib.axes._subplots.AxesSubplot at 0x7f6e0c3f2e10>"
            ]
          },
          "metadata": {},
          "execution_count": 335
        },
        {
          "output_type": "display_data",
          "data": {
            "image/png": "[encoded data removed]",
            "text/plain": [
              "<Figure size 432x288 with 2 Axes>"
            ]
          },
          "metadata": {
            "needs_background": "light"
          }
        }
      ]
    },
    {
      "cell_type": "markdown",
      "metadata": {
        "id": "_YCJgowBmYz1"
      },
      "source": [
        "###train size : test size = 30% : 70%"
      ]
    },
    {
      "cell_type": "code",
      "metadata": {
        "id": "Prx-JW33mYz2"
      },
      "source": [
        "X_train, X_test, y_train, y_test = train_test_split(X, y, test_size=0.7, random_state=0)"
      ],
      "execution_count": 336,
      "outputs": []
    },
    {
      "cell_type": "code",
      "metadata": {
        "colab": {
          "base_uri": "https://localhost:8080/"
        },
        "id": "dOPxgVHOmYz2",
        "outputId": "5d7c6e42-e6ab-497c-a3ed-17f58976c13d"
      },
      "source": [
        "print(len(X_train))\n",
        "print(len(y_test))"
      ],
      "execution_count": 337,
      "outputs": [
        {
          "output_type": "stream",
          "name": "stdout",
          "text": [
            "105\n",
            "246\n"
          ]
        }
      ]
    },
    {
      "cell_type": "code",
      "metadata": {
        "id": "STHoC_YEmYz2"
      },
      "source": [
        "clf = clf.fit(X_train,y_train)\n",
        "y_pred = clf.predict(X_test)"
      ],
      "execution_count": 338,
      "outputs": []
    },
    {
      "cell_type": "code",
      "metadata": {
        "colab": {
          "base_uri": "https://localhost:8080/"
        },
        "id": "ftzVTyWNmYz2",
        "outputId": "fe34d8c1-772a-4474-d666-59165b7893c5"
      },
      "source": [
        "print(f\"Accuracy: {100 * accuracy_score(y_test,y_pred)}%\\n\")\n",
        "cf_matrix = confusion_matrix(y_test,y_pred)\n",
        "print(\"Confusion Matrix:\\n\")\n",
        "print(cf_matrix)\n",
        "print(\"\\nClassification Report:\\n\")\n",
        "print(classification_report(y_test,y_pred))"
      ],
      "execution_count": 339,
      "outputs": [
        {
          "output_type": "stream",
          "name": "stdout",
          "text": [
            "Accuracy: 87.39837398373984%\n",
            "\n",
            "Confusion Matrix:\n",
            "\n",
            "[[ 79  21]\n",
            " [ 10 136]]\n",
            "\n",
            "Classification Report:\n",
            "\n",
            "              precision    recall  f1-score   support\n",
            "\n",
            "           b       0.89      0.79      0.84       100\n",
            "           g       0.87      0.93      0.90       146\n",
            "\n",
            "    accuracy                           0.87       246\n",
            "   macro avg       0.88      0.86      0.87       246\n",
            "weighted avg       0.87      0.87      0.87       246\n",
            "\n"
          ]
        }
      ]
    },
    {
      "cell_type": "code",
      "metadata": {
        "colab": {
          "base_uri": "https://localhost:8080/",
          "height": 0
        },
        "id": "SgyIKD6pmYz2",
        "outputId": "2b76fdaa-b55f-41e9-b6f2-e4fba7410fe0"
      },
      "source": [
        "sns.heatmap(cf_matrix, annot=True)"
      ],
      "execution_count": 340,
      "outputs": [
        {
          "output_type": "execute_result",
          "data": {
            "text/plain": [
              "<matplotlib.axes._subplots.AxesSubplot at 0x7f6e0c325250>"
            ]
          },
          "metadata": {},
          "execution_count": 340
        },
        {
          "output_type": "display_data",
          "data": {
            "image/png": "[encoded data removed]",
            "text/plain": [
              "<Figure size 432x288 with 2 Axes>"
            ]
          },
          "metadata": {
            "needs_background": "light"
          }
        }
      ]
    },
    {
      "cell_type": "markdown",
      "metadata": {
        "id": "UHu0SjospdlA"
      },
      "source": [
        "#Random Forest Classifier"
      ]
    },
    {
      "cell_type": "code",
      "metadata": {
        "colab": {
          "base_uri": "https://localhost:8080/"
        },
        "id": "GL75W2eZpdlR",
        "outputId": "4776c9ac-a0d3-410c-f5fc-cc7f455a13d1"
      },
      "source": [
        "rfc_classifier = RandomForestClassifier(n_estimators=20)\n",
        "rfc_classifier"
      ],
      "execution_count": 341,
      "outputs": [
        {
          "output_type": "execute_result",
          "data": {
            "text/plain": [
              "RandomForestClassifier(n_estimators=20)"
            ]
          },
          "metadata": {},
          "execution_count": 341
        }
      ]
    },
    {
      "cell_type": "markdown",
      "metadata": {
        "id": "Tw1axynhwnJ8"
      },
      "source": [
        "###train size : test size = 70% : 30%\n"
      ]
    },
    {
      "cell_type": "code",
      "metadata": {
        "id": "YVSEaxvownKP"
      },
      "source": [
        "X_train, X_test, y_train, y_test = train_test_split(X, y, test_size=0.3, random_state=0)    # 70% training data, 30% testing data"
      ],
      "execution_count": 342,
      "outputs": []
    },
    {
      "cell_type": "code",
      "metadata": {
        "colab": {
          "base_uri": "https://localhost:8080/"
        },
        "id": "9_23B2-6wnKQ",
        "outputId": "80dc5f20-0330-43f9-e994-2fb5b5be57c7"
      },
      "source": [
        "print(len(X_train))\n",
        "print(len(y_test))"
      ],
      "execution_count": 343,
      "outputs": [
        {
          "output_type": "stream",
          "name": "stdout",
          "text": [
            "245\n",
            "106\n"
          ]
        }
      ]
    },
    {
      "cell_type": "code",
      "metadata": {
        "colab": {
          "base_uri": "https://localhost:8080/"
        },
        "id": "6yeMLkrEwnKQ",
        "outputId": "ae262ae4-21b3-4e43-98c9-ae02ec4560cc"
      },
      "source": [
        "rfc_classifier.fit(X_train, y_train)"
      ],
      "execution_count": 344,
      "outputs": [
        {
          "output_type": "execute_result",
          "data": {
            "text/plain": [
              "RandomForestClassifier(n_estimators=20)"
            ]
          },
          "metadata": {},
          "execution_count": 344
        }
      ]
    },
    {
      "cell_type": "code",
      "metadata": {
        "colab": {
          "base_uri": "https://localhost:8080/"
        },
        "id": "s2SZmzDwwnKR",
        "outputId": "2142f731-f2a8-406c-e77a-5c6265c88eef"
      },
      "source": [
        "y_pred = rfc_classifier.predict(X_test)\n",
        "print(f\"Accuracy: {100 * accuracy_score(y_test,y_pred)}%\\n\")\n",
        "cf_matrix = confusion_matrix(y_test,y_pred)\n",
        "print(\"Confusion Matrix:\\n\")\n",
        "print(cf_matrix)\n",
        "print(\"\\nClassification Report:\\n\")\n",
        "print(classification_report(y_test,y_pred))"
      ],
      "execution_count": 345,
      "outputs": [
        {
          "output_type": "stream",
          "name": "stdout",
          "text": [
            "Accuracy: 92.45283018867924%\n",
            "\n",
            "Confusion Matrix:\n",
            "\n",
            "[[39  5]\n",
            " [ 3 59]]\n",
            "\n",
            "Classification Report:\n",
            "\n",
            "              precision    recall  f1-score   support\n",
            "\n",
            "           b       0.93      0.89      0.91        44\n",
            "           g       0.92      0.95      0.94        62\n",
            "\n",
            "    accuracy                           0.92       106\n",
            "   macro avg       0.93      0.92      0.92       106\n",
            "weighted avg       0.92      0.92      0.92       106\n",
            "\n"
          ]
        }
      ]
    },
    {
      "cell_type": "code",
      "metadata": {
        "colab": {
          "base_uri": "https://localhost:8080/",
          "height": 0
        },
        "id": "0HL_D1X7wnKR",
        "outputId": "afd344c8-348b-48be-df30-d78b4625c05d"
      },
      "source": [
        "sns.heatmap(cf_matrix, annot=True)"
      ],
      "execution_count": 346,
      "outputs": [
        {
          "output_type": "execute_result",
          "data": {
            "text/plain": [
              "<matplotlib.axes._subplots.AxesSubplot at 0x7f6e0c259490>"
            ]
          },
          "metadata": {},
          "execution_count": 346
        },
        {
          "output_type": "display_data",
          "data": {
            "image/png": "[encoded data removed]",
            "text/plain": [
              "<Figure size 432x288 with 2 Axes>"
            ]
          },
          "metadata": {
            "needs_background": "light"
          }
        }
      ]
    },
    {
      "cell_type": "markdown",
      "metadata": {
        "id": "REs3N5eUwnKR"
      },
      "source": [
        "###train size : test size = 60% : 40%"
      ]
    },
    {
      "cell_type": "code",
      "metadata": {
        "id": "sVjoUCSHwnKR"
      },
      "source": [
        "X_train, X_test, y_train, y_test = train_test_split(X, y, test_size=0.4, random_state=0)    # 60% training data, 40% testing data"
      ],
      "execution_count": 347,
      "outputs": []
    },
    {
      "cell_type": "code",
      "metadata": {
        "colab": {
          "base_uri": "https://localhost:8080/"
        },
        "id": "aOOdAVMPwnKS",
        "outputId": "9b47d9f4-bb90-44b9-a8e8-7a0b08cf57fa"
      },
      "source": [
        "print(len(X_train))\n",
        "print(len(y_test))"
      ],
      "execution_count": 348,
      "outputs": [
        {
          "output_type": "stream",
          "name": "stdout",
          "text": [
            "210\n",
            "141\n"
          ]
        }
      ]
    },
    {
      "cell_type": "code",
      "metadata": {
        "colab": {
          "base_uri": "https://localhost:8080/"
        },
        "id": "2rjgkRQnwnKS",
        "outputId": "56beb3bd-987c-473a-f91e-aeadd00c92e3"
      },
      "source": [
        "rfc_classifier.fit(X_train, y_train)"
      ],
      "execution_count": 349,
      "outputs": [
        {
          "output_type": "execute_result",
          "data": {
            "text/plain": [
              "RandomForestClassifier(n_estimators=20)"
            ]
          },
          "metadata": {},
          "execution_count": 349
        }
      ]
    },
    {
      "cell_type": "code",
      "metadata": {
        "colab": {
          "base_uri": "https://localhost:8080/"
        },
        "id": "1kIV2pCxwnKS",
        "outputId": "80b1cc59-b8bd-41da-b866-aeab1618d529"
      },
      "source": [
        "y_pred = rfc_classifier.predict(X_test)\n",
        "print(f\"Accuracy: {100 * accuracy_score(y_test,y_pred)}%\\n\")\n",
        "cf_matrix = confusion_matrix(y_test,y_pred)\n",
        "print(\"Confusion Matrix:\")\n",
        "print(cf_matrix)\n",
        "print(\"\\nClassification Report:\\n\")\n",
        "print(classification_report(y_test,y_pred))"
      ],
      "execution_count": 350,
      "outputs": [
        {
          "output_type": "stream",
          "name": "stdout",
          "text": [
            "Accuracy: 90.78014184397163%\n",
            "\n",
            "Confusion Matrix:\n",
            "[[47 10]\n",
            " [ 3 81]]\n",
            "\n",
            "Classification Report:\n",
            "\n",
            "              precision    recall  f1-score   support\n",
            "\n",
            "           b       0.94      0.82      0.88        57\n",
            "           g       0.89      0.96      0.93        84\n",
            "\n",
            "    accuracy                           0.91       141\n",
            "   macro avg       0.92      0.89      0.90       141\n",
            "weighted avg       0.91      0.91      0.91       141\n",
            "\n"
          ]
        }
      ]
    },
    {
      "cell_type": "code",
      "metadata": {
        "colab": {
          "base_uri": "https://localhost:8080/",
          "height": 0
        },
        "id": "DFMwQJZRwnKT",
        "outputId": "ca0bb93c-63f2-4b91-be6a-0c65fe6ef5a5"
      },
      "source": [
        "sns.heatmap(cf_matrix, annot=True)"
      ],
      "execution_count": 351,
      "outputs": [
        {
          "output_type": "execute_result",
          "data": {
            "text/plain": [
              "<matplotlib.axes._subplots.AxesSubplot at 0x7f6e0c1f3ad0>"
            ]
          },
          "metadata": {},
          "execution_count": 351
        },
        {
          "output_type": "display_data",
          "data": {
            "image/png": "[encoded data removed]",
            "text/plain": [
              "<Figure size 432x288 with 2 Axes>"
            ]
          },
          "metadata": {
            "needs_background": "light"
          }
        }
      ]
    },
    {
      "cell_type": "markdown",
      "metadata": {
        "id": "HIHnFskWwnKT"
      },
      "source": [
        "###train size : test size = 50% : 50%"
      ]
    },
    {
      "cell_type": "code",
      "metadata": {
        "id": "JVCDHPxfwnKT"
      },
      "source": [
        "X_train, X_test, y_train, y_test = train_test_split(X, y, test_size=0.5, random_state=0)    # 50% training data, 50% testing data"
      ],
      "execution_count": 352,
      "outputs": []
    },
    {
      "cell_type": "code",
      "metadata": {
        "colab": {
          "base_uri": "https://localhost:8080/"
        },
        "id": "xWEXA-t4wnKT",
        "outputId": "2a4bfbd4-af30-4932-dcd8-ec9eb08a0a4f"
      },
      "source": [
        "print(len(X_train))\n",
        "print(len(y_test))"
      ],
      "execution_count": 353,
      "outputs": [
        {
          "output_type": "stream",
          "name": "stdout",
          "text": [
            "175\n",
            "176\n"
          ]
        }
      ]
    },
    {
      "cell_type": "code",
      "metadata": {
        "colab": {
          "base_uri": "https://localhost:8080/"
        },
        "id": "mABmH5pUwnKU",
        "outputId": "17e85d92-ce44-4bc9-9cf5-f343ff083784"
      },
      "source": [
        "rfc_classifier.fit(X_train, y_train)"
      ],
      "execution_count": 354,
      "outputs": [
        {
          "output_type": "execute_result",
          "data": {
            "text/plain": [
              "RandomForestClassifier(n_estimators=20)"
            ]
          },
          "metadata": {},
          "execution_count": 354
        }
      ]
    },
    {
      "cell_type": "code",
      "metadata": {
        "colab": {
          "base_uri": "https://localhost:8080/"
        },
        "id": "zIujZzZRwnKU",
        "outputId": "8b4bb926-3e25-4047-9e39-d721218f0d33"
      },
      "source": [
        "y_pred = rfc_classifier.predict(X_test)\n",
        "print(f\"Accuracy: {100 * accuracy_score(y_test,y_pred)}%\\n\")\n",
        "cf_matrix = confusion_matrix(y_test,y_pred)\n",
        "print(\"Confusion Matrix:\")\n",
        "print(cf_matrix)\n",
        "print(\"\\nClassification Report:\\n\")\n",
        "print(classification_report(y_test,y_pred))"
      ],
      "execution_count": 355,
      "outputs": [
        {
          "output_type": "stream",
          "name": "stdout",
          "text": [
            "Accuracy: 90.3409090909091%\n",
            "\n",
            "Confusion Matrix:\n",
            "[[62 13]\n",
            " [ 4 97]]\n",
            "\n",
            "Classification Report:\n",
            "\n",
            "              precision    recall  f1-score   support\n",
            "\n",
            "           b       0.94      0.83      0.88        75\n",
            "           g       0.88      0.96      0.92       101\n",
            "\n",
            "    accuracy                           0.90       176\n",
            "   macro avg       0.91      0.89      0.90       176\n",
            "weighted avg       0.91      0.90      0.90       176\n",
            "\n"
          ]
        }
      ]
    },
    {
      "cell_type": "code",
      "metadata": {
        "colab": {
          "base_uri": "https://localhost:8080/",
          "height": 0
        },
        "id": "yoY8Ec-ewnKU",
        "outputId": "715877e8-c2ea-4359-b327-6a65ce7ead6d"
      },
      "source": [
        "sns.heatmap(cf_matrix, annot=True)"
      ],
      "execution_count": 356,
      "outputs": [
        {
          "output_type": "execute_result",
          "data": {
            "text/plain": [
              "<matplotlib.axes._subplots.AxesSubplot at 0x7f6e0c11b5d0>"
            ]
          },
          "metadata": {},
          "execution_count": 356
        },
        {
          "output_type": "display_data",
          "data": {
            "image/png": "[encoded data removed]",
            "text/plain": [
              "<Figure size 432x288 with 2 Axes>"
            ]
          },
          "metadata": {
            "needs_background": "light"
          }
        }
      ]
    },
    {
      "cell_type": "markdown",
      "metadata": {
        "id": "Lvq26KHYwnKV"
      },
      "source": [
        "###train size : test size = 40% : 60%"
      ]
    },
    {
      "cell_type": "code",
      "metadata": {
        "id": "Xa7mJ3K5wnKV"
      },
      "source": [
        "X_train, X_test, y_train, y_test = train_test_split(X, y, test_size=0.6, random_state=0)"
      ],
      "execution_count": 357,
      "outputs": []
    },
    {
      "cell_type": "code",
      "metadata": {
        "colab": {
          "base_uri": "https://localhost:8080/"
        },
        "id": "gai-g3rFwnKV",
        "outputId": "138af1e4-70fd-45b8-cf8d-584e431e71ec"
      },
      "source": [
        "print(len(X_train))\n",
        "print(len(y_test))"
      ],
      "execution_count": 358,
      "outputs": [
        {
          "output_type": "stream",
          "name": "stdout",
          "text": [
            "140\n",
            "211\n"
          ]
        }
      ]
    },
    {
      "cell_type": "code",
      "metadata": {
        "colab": {
          "base_uri": "https://localhost:8080/"
        },
        "id": "s88A7-_5wnKW",
        "outputId": "262024c2-0633-418f-b726-60a7848a05c6"
      },
      "source": [
        "rfc_classifier.fit(X_train, y_train)"
      ],
      "execution_count": 359,
      "outputs": [
        {
          "output_type": "execute_result",
          "data": {
            "text/plain": [
              "RandomForestClassifier(n_estimators=20)"
            ]
          },
          "metadata": {},
          "execution_count": 359
        }
      ]
    },
    {
      "cell_type": "code",
      "metadata": {
        "colab": {
          "base_uri": "https://localhost:8080/"
        },
        "id": "SlYWfxtNwnKW",
        "outputId": "17589697-f377-4619-ade2-5c1069ce783d"
      },
      "source": [
        "y_pred = rfc_classifier.predict(X_test)\n",
        "print(f\"Accuracy: {100 * accuracy_score(y_test,y_pred)}%\\n\")\n",
        "cf_matrix = confusion_matrix(y_test,y_pred)\n",
        "print(\"Confusion Matrix:\\n\")\n",
        "print(cf_matrix)\n",
        "print(\"\\nClassification Report:\\n\")\n",
        "print(classification_report(y_test,y_pred))"
      ],
      "execution_count": 360,
      "outputs": [
        {
          "output_type": "stream",
          "name": "stdout",
          "text": [
            "Accuracy: 93.36492890995261%\n",
            "\n",
            "Confusion Matrix:\n",
            "\n",
            "[[ 76  12]\n",
            " [  2 121]]\n",
            "\n",
            "Classification Report:\n",
            "\n",
            "              precision    recall  f1-score   support\n",
            "\n",
            "           b       0.97      0.86      0.92        88\n",
            "           g       0.91      0.98      0.95       123\n",
            "\n",
            "    accuracy                           0.93       211\n",
            "   macro avg       0.94      0.92      0.93       211\n",
            "weighted avg       0.94      0.93      0.93       211\n",
            "\n"
          ]
        }
      ]
    },
    {
      "cell_type": "code",
      "metadata": {
        "colab": {
          "base_uri": "https://localhost:8080/",
          "height": 0
        },
        "id": "cPqzllU4wnKW",
        "outputId": "ef0d8393-7303-4ff6-a825-64a6b813ea44"
      },
      "source": [
        "sns.heatmap(cf_matrix, annot=True)"
      ],
      "execution_count": 361,
      "outputs": [
        {
          "output_type": "execute_result",
          "data": {
            "text/plain": [
              "<matplotlib.axes._subplots.AxesSubplot at 0x7f6e0c0c72d0>"
            ]
          },
          "metadata": {},
          "execution_count": 361
        },
        {
          "output_type": "display_data",
          "data": {
            "image/png": "[encoded data removed]",
            "text/plain": [
              "<Figure size 432x288 with 2 Axes>"
            ]
          },
          "metadata": {
            "needs_background": "light"
          }
        }
      ]
    },
    {
      "cell_type": "markdown",
      "metadata": {
        "id": "4hnlCAb3wnKX"
      },
      "source": [
        "###train size : test size = 30% : 70%"
      ]
    },
    {
      "cell_type": "code",
      "metadata": {
        "id": "erO7gkhfwnKX"
      },
      "source": [
        "X_train, X_test, y_train, y_test = train_test_split(X, y, test_size=0.7, random_state=0)"
      ],
      "execution_count": 362,
      "outputs": []
    },
    {
      "cell_type": "code",
      "metadata": {
        "colab": {
          "base_uri": "https://localhost:8080/"
        },
        "id": "ZH8m11M6wnKX",
        "outputId": "6fe38ec5-a513-4f31-a403-7fc6bf241806"
      },
      "source": [
        "print(len(X_train))\n",
        "print(len(y_test))"
      ],
      "execution_count": 363,
      "outputs": [
        {
          "output_type": "stream",
          "name": "stdout",
          "text": [
            "105\n",
            "246\n"
          ]
        }
      ]
    },
    {
      "cell_type": "code",
      "metadata": {
        "colab": {
          "base_uri": "https://localhost:8080/"
        },
        "id": "X9gSDD0mwnKX",
        "outputId": "ee7eda44-ab99-4551-ddf4-2432b8dd411b"
      },
      "source": [
        "rfc_classifier.fit(X_train, y_train)"
      ],
      "execution_count": 364,
      "outputs": [
        {
          "output_type": "execute_result",
          "data": {
            "text/plain": [
              "RandomForestClassifier(n_estimators=20)"
            ]
          },
          "metadata": {},
          "execution_count": 364
        }
      ]
    },
    {
      "cell_type": "code",
      "metadata": {
        "colab": {
          "base_uri": "https://localhost:8080/"
        },
        "id": "eNqw7qBJwnKY",
        "outputId": "6e49150a-92cf-4311-c1be-190369a91088"
      },
      "source": [
        "y_pred = rfc_classifier.predict(X_test)\n",
        "print(f\"Accuracy: {100 * accuracy_score(y_test,y_pred)}%\\n\")\n",
        "cf_matrix = confusion_matrix(y_test,y_pred)\n",
        "print(\"Confusion Matrix:\\n\")\n",
        "print(cf_matrix)\n",
        "print(\"\\nClassification Report:\\n\")\n",
        "print(classification_report(y_test,y_pred))"
      ],
      "execution_count": 365,
      "outputs": [
        {
          "output_type": "stream",
          "name": "stdout",
          "text": [
            "Accuracy: 91.46341463414635%\n",
            "\n",
            "Confusion Matrix:\n",
            "\n",
            "[[ 83  17]\n",
            " [  4 142]]\n",
            "\n",
            "Classification Report:\n",
            "\n",
            "              precision    recall  f1-score   support\n",
            "\n",
            "           b       0.95      0.83      0.89       100\n",
            "           g       0.89      0.97      0.93       146\n",
            "\n",
            "    accuracy                           0.91       246\n",
            "   macro avg       0.92      0.90      0.91       246\n",
            "weighted avg       0.92      0.91      0.91       246\n",
            "\n"
          ]
        }
      ]
    },
    {
      "cell_type": "code",
      "metadata": {
        "colab": {
          "base_uri": "https://localhost:8080/",
          "height": 283
        },
        "id": "9NCRZnjRwnKY",
        "outputId": "6dec4b83-1f87-45f7-ddfb-f1d9dda12e51"
      },
      "source": [
        "sns.heatmap(cf_matrix, annot=True)"
      ],
      "execution_count": 366,
      "outputs": [
        {
          "output_type": "execute_result",
          "data": {
            "text/plain": [
              "<matplotlib.axes._subplots.AxesSubplot at 0x7f6e0bfd9ad0>"
            ]
          },
          "metadata": {},
          "execution_count": 366
        },
        {
          "output_type": "display_data",
          "data": {
            "image/png": "[encoded data removed]",
            "text/plain": [
              "<Figure size 432x288 with 2 Axes>"
            ]
          },
          "metadata": {
            "needs_background": "light"
          }
        }
      ]
    },
    {
      "cell_type": "markdown",
      "metadata": {
        "id": "bWMKgm7Mi1WM"
      },
      "source": [
        "#Naive Bayes"
      ]
    },
    {
      "cell_type": "code",
      "metadata": {
        "id": "IBEsCA7EjH-9"
      },
      "source": [
        "from sklearn.naive_bayes import GaussianNB\n",
        "gnb = GaussianNB()"
      ],
      "execution_count": 367,
      "outputs": []
    },
    {
      "cell_type": "markdown",
      "metadata": {
        "id": "zSZvnMjxkHoR"
      },
      "source": [
        "###train size : test size = 70% : 30%\n"
      ]
    },
    {
      "cell_type": "code",
      "metadata": {
        "id": "EMY35aXlkHoR"
      },
      "source": [
        "X_train, X_test, y_train, y_test = train_test_split(X, y, test_size=0.3, random_state=0)    # 70% training data, 30% testing data"
      ],
      "execution_count": 368,
      "outputs": []
    },
    {
      "cell_type": "code",
      "metadata": {
        "colab": {
          "base_uri": "https://localhost:8080/"
        },
        "id": "MW_qeQqukHoS",
        "outputId": "db156146-3d5f-4427-e5f0-ef704e1bc77d"
      },
      "source": [
        "print(len(X_train))\n",
        "print(len(y_test))"
      ],
      "execution_count": 369,
      "outputs": [
        {
          "output_type": "stream",
          "name": "stdout",
          "text": [
            "245\n",
            "106\n"
          ]
        }
      ]
    },
    {
      "cell_type": "code",
      "metadata": {
        "colab": {
          "base_uri": "https://localhost:8080/"
        },
        "id": "Mcfle3eNkHoS",
        "outputId": "e3b67194-d6db-4f91-9cd2-5dd877fe1a83"
      },
      "source": [
        "gnb.fit(X_train, y_train)"
      ],
      "execution_count": 370,
      "outputs": [
        {
          "output_type": "execute_result",
          "data": {
            "text/plain": [
              "GaussianNB()"
            ]
          },
          "metadata": {},
          "execution_count": 370
        }
      ]
    },
    {
      "cell_type": "code",
      "metadata": {
        "colab": {
          "base_uri": "https://localhost:8080/"
        },
        "id": "jwQzCxqPkHoS",
        "outputId": "9668aa6e-9553-4e94-bc2e-fe6ae0d8b524"
      },
      "source": [
        "y_pred = gnb.predict(X_test)\n",
        "print(f\"Accuracy: {100 * accuracy_score(y_test,y_pred)}%\\n\")\n",
        "cf_matrix = confusion_matrix(y_test,y_pred)\n",
        "print(\"Confusion Matrix:\\n\")\n",
        "print(cf_matrix)\n",
        "print(\"\\nClassification Report:\\n\")\n",
        "print(classification_report(y_test,y_pred))"
      ],
      "execution_count": 371,
      "outputs": [
        {
          "output_type": "stream",
          "name": "stdout",
          "text": [
            "Accuracy: 93.39622641509435%\n",
            "\n",
            "Confusion Matrix:\n",
            "\n",
            "[[38  6]\n",
            " [ 1 61]]\n",
            "\n",
            "Classification Report:\n",
            "\n",
            "              precision    recall  f1-score   support\n",
            "\n",
            "           b       0.97      0.86      0.92        44\n",
            "           g       0.91      0.98      0.95        62\n",
            "\n",
            "    accuracy                           0.93       106\n",
            "   macro avg       0.94      0.92      0.93       106\n",
            "weighted avg       0.94      0.93      0.93       106\n",
            "\n"
          ]
        }
      ]
    },
    {
      "cell_type": "code",
      "metadata": {
        "colab": {
          "base_uri": "https://localhost:8080/",
          "height": 0
        },
        "id": "RQFiiFqXkHoS",
        "outputId": "f3dae22f-da21-49fe-d13d-deaf21e7d8cb"
      },
      "source": [
        "sns.heatmap(cf_matrix, annot=True)"
      ],
      "execution_count": 372,
      "outputs": [
        {
          "output_type": "execute_result",
          "data": {
            "text/plain": [
              "<matplotlib.axes._subplots.AxesSubplot at 0x7f6e0bf885d0>"
            ]
          },
          "metadata": {},
          "execution_count": 372
        },
        {
          "output_type": "display_data",
          "data": {
            "image/png": "[encoded data removed]",
            "text/plain": [
              "<Figure size 432x288 with 2 Axes>"
            ]
          },
          "metadata": {
            "needs_background": "light"
          }
        }
      ]
    },
    {
      "cell_type": "markdown",
      "metadata": {
        "id": "dq7aXFIHkePi"
      },
      "source": [
        "###train size : test size = 60% : 40%"
      ]
    },
    {
      "cell_type": "code",
      "metadata": {
        "id": "R5gydR-ukePi"
      },
      "source": [
        "X_train, X_test, y_train, y_test = train_test_split(X, y, test_size=0.4, random_state=0)    # 60% training data, 40% testing data"
      ],
      "execution_count": 373,
      "outputs": []
    },
    {
      "cell_type": "code",
      "metadata": {
        "colab": {
          "base_uri": "https://localhost:8080/"
        },
        "id": "G8Y6w2TUkePj",
        "outputId": "17b4d41c-a35a-4f99-c2dc-66e03920a435"
      },
      "source": [
        "print(len(X_train))\n",
        "print(len(y_test))"
      ],
      "execution_count": 374,
      "outputs": [
        {
          "output_type": "stream",
          "name": "stdout",
          "text": [
            "210\n",
            "141\n"
          ]
        }
      ]
    },
    {
      "cell_type": "code",
      "metadata": {
        "colab": {
          "base_uri": "https://localhost:8080/"
        },
        "id": "FkbRNM9CkePj",
        "outputId": "59853f8f-9d07-4fdd-f966-3c2ac26e24bb"
      },
      "source": [
        "gnb.fit(X_train, y_train)"
      ],
      "execution_count": 375,
      "outputs": [
        {
          "output_type": "execute_result",
          "data": {
            "text/plain": [
              "GaussianNB()"
            ]
          },
          "metadata": {},
          "execution_count": 375
        }
      ]
    },
    {
      "cell_type": "code",
      "metadata": {
        "colab": {
          "base_uri": "https://localhost:8080/"
        },
        "id": "exixPWsQkePj",
        "outputId": "e07960db-3289-4d7d-eae7-c301fdaa809b"
      },
      "source": [
        "y_pred = gnb.predict(X_test)\n",
        "print(f\"Accuracy: {100 * accuracy_score(y_test,y_pred)}%\\n\")\n",
        "cf_matrix = confusion_matrix(y_test,y_pred)\n",
        "print(\"Confusion Matrix:\")\n",
        "print(cf_matrix)\n",
        "print(\"\\nClassification Report:\\n\")\n",
        "print(classification_report(y_test,y_pred))"
      ],
      "execution_count": 376,
      "outputs": [
        {
          "output_type": "stream",
          "name": "stdout",
          "text": [
            "Accuracy: 87.2340425531915%\n",
            "\n",
            "Confusion Matrix:\n",
            "[[44 13]\n",
            " [ 5 79]]\n",
            "\n",
            "Classification Report:\n",
            "\n",
            "              precision    recall  f1-score   support\n",
            "\n",
            "           b       0.90      0.77      0.83        57\n",
            "           g       0.86      0.94      0.90        84\n",
            "\n",
            "    accuracy                           0.87       141\n",
            "   macro avg       0.88      0.86      0.86       141\n",
            "weighted avg       0.87      0.87      0.87       141\n",
            "\n"
          ]
        }
      ]
    },
    {
      "cell_type": "code",
      "metadata": {
        "colab": {
          "base_uri": "https://localhost:8080/",
          "height": 0
        },
        "id": "ZbFuB1KSkePj",
        "outputId": "a66d2844-b650-4fa4-c22e-d65bc4a01655"
      },
      "source": [
        "sns.heatmap(cf_matrix, annot=True)"
      ],
      "execution_count": 377,
      "outputs": [
        {
          "output_type": "execute_result",
          "data": {
            "text/plain": [
              "<matplotlib.axes._subplots.AxesSubplot at 0x7f6e0be9ee50>"
            ]
          },
          "metadata": {},
          "execution_count": 377
        },
        {
          "output_type": "display_data",
          "data": {
            "image/png": "[encoded data removed]",
            "text/plain": [
              "<Figure size 432x288 with 2 Axes>"
            ]
          },
          "metadata": {
            "needs_background": "light"
          }
        }
      ]
    },
    {
      "cell_type": "markdown",
      "metadata": {
        "id": "tlfSUl0ZkePk"
      },
      "source": [
        "###train size : test size = 50% : 50%"
      ]
    },
    {
      "cell_type": "code",
      "metadata": {
        "id": "eHl8ogmVkePk"
      },
      "source": [
        "X_train, X_test, y_train, y_test = train_test_split(X, y, test_size=0.5, random_state=0)    # 50% training data, 50% testing data"
      ],
      "execution_count": 378,
      "outputs": []
    },
    {
      "cell_type": "code",
      "metadata": {
        "colab": {
          "base_uri": "https://localhost:8080/"
        },
        "id": "T9ph5Qn6kePk",
        "outputId": "e323276f-b9b2-4223-8b03-ef54e0a3678b"
      },
      "source": [
        "print(len(X_train))\n",
        "print(len(y_test))"
      ],
      "execution_count": 379,
      "outputs": [
        {
          "output_type": "stream",
          "name": "stdout",
          "text": [
            "175\n",
            "176\n"
          ]
        }
      ]
    },
    {
      "cell_type": "code",
      "metadata": {
        "id": "4j7qZcESkePk"
      },
      "source": [
        "gnb.fit(X_train, y_train)\n",
        "y_pred = gnb.predict(X_test)"
      ],
      "execution_count": 380,
      "outputs": []
    },
    {
      "cell_type": "code",
      "metadata": {
        "colab": {
          "base_uri": "https://localhost:8080/"
        },
        "id": "ZiBgUY0SkePk",
        "outputId": "a3fd822f-2194-4354-e4b2-79aa42e10c43"
      },
      "source": [
        "print(f\"Accuracy: {100 * accuracy_score(y_test,y_pred)}%\\n\")\n",
        "cf_matrix = confusion_matrix(y_test,y_pred)\n",
        "print(\"Confusion Matrix:\")\n",
        "print(cf_matrix)\n",
        "print(\"\\nClassification Report:\\n\")\n",
        "print(classification_report(y_test,y_pred))"
      ],
      "execution_count": 381,
      "outputs": [
        {
          "output_type": "stream",
          "name": "stdout",
          "text": [
            "Accuracy: 86.36363636363636%\n",
            "\n",
            "Confusion Matrix:\n",
            "[[58 17]\n",
            " [ 7 94]]\n",
            "\n",
            "Classification Report:\n",
            "\n",
            "              precision    recall  f1-score   support\n",
            "\n",
            "           b       0.89      0.77      0.83        75\n",
            "           g       0.85      0.93      0.89       101\n",
            "\n",
            "    accuracy                           0.86       176\n",
            "   macro avg       0.87      0.85      0.86       176\n",
            "weighted avg       0.87      0.86      0.86       176\n",
            "\n"
          ]
        }
      ]
    },
    {
      "cell_type": "code",
      "metadata": {
        "colab": {
          "base_uri": "https://localhost:8080/",
          "height": 0
        },
        "id": "SI1H6rAkkePl",
        "outputId": "8d60f795-6dc0-4919-ae0e-05de15ec3364"
      },
      "source": [
        "sns.heatmap(cf_matrix, annot=True)"
      ],
      "execution_count": 382,
      "outputs": [
        {
          "output_type": "execute_result",
          "data": {
            "text/plain": [
              "<matplotlib.axes._subplots.AxesSubplot at 0x7f6e0be47cd0>"
            ]
          },
          "metadata": {},
          "execution_count": 382
        },
        {
          "output_type": "display_data",
          "data": {
            "image/png": "[encoded data removed]",
            "text/plain": [
              "<Figure size 432x288 with 2 Axes>"
            ]
          },
          "metadata": {
            "needs_background": "light"
          }
        }
      ]
    },
    {
      "cell_type": "markdown",
      "metadata": {
        "id": "6k8CwX7wkePl"
      },
      "source": [
        "###train size : test size = 40% : 60%"
      ]
    },
    {
      "cell_type": "code",
      "metadata": {
        "id": "sUEG0-iHkePl"
      },
      "source": [
        "X_train, X_test, y_train, y_test = train_test_split(X, y, test_size=0.6, random_state=0)"
      ],
      "execution_count": 383,
      "outputs": []
    },
    {
      "cell_type": "code",
      "metadata": {
        "colab": {
          "base_uri": "https://localhost:8080/"
        },
        "id": "CMcH1EtnkePl",
        "outputId": "70c833f9-d4b8-4d39-cb60-7c0c30deb666"
      },
      "source": [
        "print(len(X_train))\n",
        "print(len(y_test))"
      ],
      "execution_count": 384,
      "outputs": [
        {
          "output_type": "stream",
          "name": "stdout",
          "text": [
            "140\n",
            "211\n"
          ]
        }
      ]
    },
    {
      "cell_type": "code",
      "metadata": {
        "id": "_c4emaSDkePl"
      },
      "source": [
        "gnb.fit(X_train, y_train)\n",
        "y_pred = gnb.predict(X_test)"
      ],
      "execution_count": 385,
      "outputs": []
    },
    {
      "cell_type": "code",
      "metadata": {
        "colab": {
          "base_uri": "https://localhost:8080/"
        },
        "id": "ys3TvI8rkePl",
        "outputId": "3f222b2f-de96-428e-cace-3bd081afa12b"
      },
      "source": [
        "print(f\"Accuracy: {100 * accuracy_score(y_test,y_pred)}%\\n\")\n",
        "cf_matrix = confusion_matrix(y_test,y_pred)\n",
        "print(\"Confusion Matrix:\\n\")\n",
        "print(cf_matrix)\n",
        "print(\"\\nClassification Report:\\n\")\n",
        "print(classification_report(y_test,y_pred))"
      ],
      "execution_count": 386,
      "outputs": [
        {
          "output_type": "stream",
          "name": "stdout",
          "text": [
            "Accuracy: 86.25592417061611%\n",
            "\n",
            "Confusion Matrix:\n",
            "\n",
            "[[ 67  21]\n",
            " [  8 115]]\n",
            "\n",
            "Classification Report:\n",
            "\n",
            "              precision    recall  f1-score   support\n",
            "\n",
            "           b       0.89      0.76      0.82        88\n",
            "           g       0.85      0.93      0.89       123\n",
            "\n",
            "    accuracy                           0.86       211\n",
            "   macro avg       0.87      0.85      0.86       211\n",
            "weighted avg       0.87      0.86      0.86       211\n",
            "\n"
          ]
        }
      ]
    },
    {
      "cell_type": "code",
      "metadata": {
        "colab": {
          "base_uri": "https://localhost:8080/",
          "height": 0
        },
        "id": "HfviQhFNkePl",
        "outputId": "50448333-3e4e-46a4-99ec-9af94e862af8"
      },
      "source": [
        "sns.heatmap(cf_matrix, annot=True)"
      ],
      "execution_count": 387,
      "outputs": [
        {
          "output_type": "execute_result",
          "data": {
            "text/plain": [
              "<matplotlib.axes._subplots.AxesSubplot at 0x7f6e0bdd1910>"
            ]
          },
          "metadata": {},
          "execution_count": 387
        },
        {
          "output_type": "display_data",
          "data": {
            "image/png": "[encoded data removed]",
            "text/plain": [
              "<Figure size 432x288 with 2 Axes>"
            ]
          },
          "metadata": {
            "needs_background": "light"
          }
        }
      ]
    },
    {
      "cell_type": "markdown",
      "metadata": {
        "id": "rOEVH_dYkePl"
      },
      "source": [
        "###train size : test size = 30% : 70%"
      ]
    },
    {
      "cell_type": "code",
      "metadata": {
        "id": "6ElRUMcgkePm"
      },
      "source": [
        "X_train, X_test, y_train, y_test = train_test_split(X, y, test_size=0.7, random_state=0)"
      ],
      "execution_count": 388,
      "outputs": []
    },
    {
      "cell_type": "code",
      "metadata": {
        "colab": {
          "base_uri": "https://localhost:8080/"
        },
        "id": "khD7IBTQkePm",
        "outputId": "38850204-3289-4650-b534-beb356105b1b"
      },
      "source": [
        "print(len(X_train))\n",
        "print(len(y_test))"
      ],
      "execution_count": 389,
      "outputs": [
        {
          "output_type": "stream",
          "name": "stdout",
          "text": [
            "105\n",
            "246\n"
          ]
        }
      ]
    },
    {
      "cell_type": "code",
      "metadata": {
        "id": "33LKHeMTkePm"
      },
      "source": [
        "gnb.fit(X_train, y_train)\n",
        "y_pred = gnb.predict(X_test)"
      ],
      "execution_count": 390,
      "outputs": []
    },
    {
      "cell_type": "code",
      "metadata": {
        "colab": {
          "base_uri": "https://localhost:8080/"
        },
        "id": "NtLaZXCbkePm",
        "outputId": "ffc0d670-055c-469e-a89f-f4482477817c"
      },
      "source": [
        "print(f\"Accuracy: {100 * accuracy_score(y_test,y_pred)}%\\n\")\n",
        "cf_matrix = confusion_matrix(y_test,y_pred)\n",
        "print(\"Confusion Matrix:\\n\")\n",
        "print(cf_matrix)\n",
        "print(\"\\nClassification Report:\\n\")\n",
        "print(classification_report(y_test,y_pred))"
      ],
      "execution_count": 391,
      "outputs": [
        {
          "output_type": "stream",
          "name": "stdout",
          "text": [
            "Accuracy: 87.39837398373984%\n",
            "\n",
            "Confusion Matrix:\n",
            "\n",
            "[[ 73  27]\n",
            " [  4 142]]\n",
            "\n",
            "Classification Report:\n",
            "\n",
            "              precision    recall  f1-score   support\n",
            "\n",
            "           b       0.95      0.73      0.82       100\n",
            "           g       0.84      0.97      0.90       146\n",
            "\n",
            "    accuracy                           0.87       246\n",
            "   macro avg       0.89      0.85      0.86       246\n",
            "weighted avg       0.88      0.87      0.87       246\n",
            "\n"
          ]
        }
      ]
    },
    {
      "cell_type": "code",
      "metadata": {
        "colab": {
          "base_uri": "https://localhost:8080/",
          "height": 0
        },
        "id": "OdBGNs7ykePm",
        "outputId": "3a665e01-fed9-44f9-c0aa-0434625ab6b8"
      },
      "source": [
        "sns.heatmap(cf_matrix, annot=True)"
      ],
      "execution_count": 392,
      "outputs": [
        {
          "output_type": "execute_result",
          "data": {
            "text/plain": [
              "<matplotlib.axes._subplots.AxesSubplot at 0x7f6e0bc96d10>"
            ]
          },
          "metadata": {},
          "execution_count": 392
        },
        {
          "output_type": "display_data",
          "data": {
            "image/png": "[encoded data removed]",
            "text/plain": [
              "<Figure size 432x288 with 2 Axes>"
            ]
          },
          "metadata": {
            "needs_background": "light"
          }
        }
      ]
    }
  ]
}