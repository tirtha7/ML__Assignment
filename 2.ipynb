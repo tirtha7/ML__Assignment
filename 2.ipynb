{
  "nbformat": 4,
  "nbformat_minor": 0,
  "metadata": {
    "colab": {
      "name": "2.ipynb",
      "provenance": []
    },
    "kernelspec": {
      "name": "python3",
      "display_name": "Python 3"
    },
    "language_info": {
      "name": "python"
    }
  },
  "cells": [
    {
      "cell_type": "markdown",
      "metadata": {
        "id": "dPmRn0OO3EZR"
      },
      "source": [
        "***![2.jpg](data:image/jpeg;base64,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)***"
      ]
    },
    {
      "cell_type": "markdown",
      "metadata": {
        "id": "TiWyvY-bwIBl"
      },
      "source": [
        "### ***IRIS***"
      ]
    },
    {
      "cell_type": "code",
      "metadata": {
        "id": "kj2_jAh5v_Cp"
      },
      "source": [
        "import numpy as np\n",
        "import pandas as pd\n",
        "from sklearn import datasets\n",
        "from sklearn.metrics import accuracy_score, classification_report, confusion_matrix\n",
        "from sklearn.model_selection import train_test_split\n",
        "from sklearn.svm import SVC\n",
        "import seaborn as sns\n",
        "from sklearn.neural_network import MLPClassifier\n",
        "\n",
        "iris = datasets.load_iris()"
      ],
      "execution_count": 3,
      "outputs": []
    },
    {
      "cell_type": "code",
      "metadata": {
        "colab": {
          "base_uri": "https://localhost:8080/",
          "height": 203
        },
        "id": "DQkKPUIIxcub",
        "outputId": "5ab85047-6752-44b0-f53c-1a99238b6a29"
      },
      "source": [
        "df = pd.DataFrame(data=iris.data, columns=iris.feature_names)\n",
        "df.head()"
      ],
      "execution_count": 4,
      "outputs": [
        {
          "output_type": "execute_result",
          "data": {
            "text/html": [
              "<div>\n",
              "<style scoped>\n",
              "    .dataframe tbody tr th:only-of-type {\n",
              "        vertical-align: middle;\n",
              "    }\n",
              "\n",
              "    .dataframe tbody tr th {\n",
              "        vertical-align: top;\n",
              "    }\n",
              "\n",
              "    .dataframe thead th {\n",
              "        text-align: right;\n",
              "    }\n",
              "</style>\n",
              "<table border=\"1\" class=\"dataframe\">\n",
              "  <thead>\n",
              "    <tr style=\"text-align: right;\">\n",
              "      <th></th>\n",
              "      <th>sepal length (cm)</th>\n",
              "      <th>sepal width (cm)</th>\n",
              "      <th>petal length (cm)</th>\n",
              "      <th>petal width (cm)</th>\n",
              "    </tr>\n",
              "  </thead>\n",
              "  <tbody>\n",
              "    <tr>\n",
              "      <th>0</th>\n",
              "      <td>5.1</td>\n",
              "      <td>3.5</td>\n",
              "      <td>1.4</td>\n",
              "      <td>0.2</td>\n",
              "    </tr>\n",
              "    <tr>\n",
              "      <th>1</th>\n",
              "      <td>4.9</td>\n",
              "      <td>3.0</td>\n",
              "      <td>1.4</td>\n",
              "      <td>0.2</td>\n",
              "    </tr>\n",
              "    <tr>\n",
              "      <th>2</th>\n",
              "      <td>4.7</td>\n",
              "      <td>3.2</td>\n",
              "      <td>1.3</td>\n",
              "      <td>0.2</td>\n",
              "    </tr>\n",
              "    <tr>\n",
              "      <th>3</th>\n",
              "      <td>4.6</td>\n",
              "      <td>3.1</td>\n",
              "      <td>1.5</td>\n",
              "      <td>0.2</td>\n",
              "    </tr>\n",
              "    <tr>\n",
              "      <th>4</th>\n",
              "      <td>5.0</td>\n",
              "      <td>3.6</td>\n",
              "      <td>1.4</td>\n",
              "      <td>0.2</td>\n",
              "    </tr>\n",
              "  </tbody>\n",
              "</table>\n",
              "</div>"
            ],
            "text/plain": [
              "   sepal length (cm)  sepal width (cm)  petal length (cm)  petal width (cm)\n",
              "0                5.1               3.5                1.4               0.2\n",
              "1                4.9               3.0                1.4               0.2\n",
              "2                4.7               3.2                1.3               0.2\n",
              "3                4.6               3.1                1.5               0.2\n",
              "4                5.0               3.6                1.4               0.2"
            ]
          },
          "metadata": {},
          "execution_count": 4
        }
      ]
    },
    {
      "cell_type": "code",
      "metadata": {
        "colab": {
          "base_uri": "https://localhost:8080/",
          "height": 203
        },
        "id": "ze-6sA8Rxov6",
        "outputId": "1c05529d-88f4-4789-8263-55f0e0903d3b"
      },
      "source": [
        "df[\"target\"] = iris.target\n",
        "df.head()"
      ],
      "execution_count": 5,
      "outputs": [
        {
          "output_type": "execute_result",
          "data": {
            "text/html": [
              "<div>\n",
              "<style scoped>\n",
              "    .dataframe tbody tr th:only-of-type {\n",
              "        vertical-align: middle;\n",
              "    }\n",
              "\n",
              "    .dataframe tbody tr th {\n",
              "        vertical-align: top;\n",
              "    }\n",
              "\n",
              "    .dataframe thead th {\n",
              "        text-align: right;\n",
              "    }\n",
              "</style>\n",
              "<table border=\"1\" class=\"dataframe\">\n",
              "  <thead>\n",
              "    <tr style=\"text-align: right;\">\n",
              "      <th></th>\n",
              "      <th>sepal length (cm)</th>\n",
              "      <th>sepal width (cm)</th>\n",
              "      <th>petal length (cm)</th>\n",
              "      <th>petal width (cm)</th>\n",
              "      <th>target</th>\n",
              "    </tr>\n",
              "  </thead>\n",
              "  <tbody>\n",
              "    <tr>\n",
              "      <th>0</th>\n",
              "      <td>5.1</td>\n",
              "      <td>3.5</td>\n",
              "      <td>1.4</td>\n",
              "      <td>0.2</td>\n",
              "      <td>0</td>\n",
              "    </tr>\n",
              "    <tr>\n",
              "      <th>1</th>\n",
              "      <td>4.9</td>\n",
              "      <td>3.0</td>\n",
              "      <td>1.4</td>\n",
              "      <td>0.2</td>\n",
              "      <td>0</td>\n",
              "    </tr>\n",
              "    <tr>\n",
              "      <th>2</th>\n",
              "      <td>4.7</td>\n",
              "      <td>3.2</td>\n",
              "      <td>1.3</td>\n",
              "      <td>0.2</td>\n",
              "      <td>0</td>\n",
              "    </tr>\n",
              "    <tr>\n",
              "      <th>3</th>\n",
              "      <td>4.6</td>\n",
              "      <td>3.1</td>\n",
              "      <td>1.5</td>\n",
              "      <td>0.2</td>\n",
              "      <td>0</td>\n",
              "    </tr>\n",
              "    <tr>\n",
              "      <th>4</th>\n",
              "      <td>5.0</td>\n",
              "      <td>3.6</td>\n",
              "      <td>1.4</td>\n",
              "      <td>0.2</td>\n",
              "      <td>0</td>\n",
              "    </tr>\n",
              "  </tbody>\n",
              "</table>\n",
              "</div>"
            ],
            "text/plain": [
              "   sepal length (cm)  sepal width (cm)  ...  petal width (cm)  target\n",
              "0                5.1               3.5  ...               0.2       0\n",
              "1                4.9               3.0  ...               0.2       0\n",
              "2                4.7               3.2  ...               0.2       0\n",
              "3                4.6               3.1  ...               0.2       0\n",
              "4                5.0               3.6  ...               0.2       0\n",
              "\n",
              "[5 rows x 5 columns]"
            ]
          },
          "metadata": {},
          "execution_count": 5
        }
      ]
    },
    {
      "cell_type": "code",
      "metadata": {
        "colab": {
          "base_uri": "https://localhost:8080/",
          "height": 203
        },
        "id": "b34Ml8fsxrxj",
        "outputId": "9e3bedba-147a-43bc-fc16-c7a096d55e3a"
      },
      "source": [
        "df[\"flower_names\"] = df.target.apply(lambda x: iris.target_names[x])\n",
        "df.head()"
      ],
      "execution_count": 6,
      "outputs": [
        {
          "output_type": "execute_result",
          "data": {
            "text/html": [
              "<div>\n",
              "<style scoped>\n",
              "    .dataframe tbody tr th:only-of-type {\n",
              "        vertical-align: middle;\n",
              "    }\n",
              "\n",
              "    .dataframe tbody tr th {\n",
              "        vertical-align: top;\n",
              "    }\n",
              "\n",
              "    .dataframe thead th {\n",
              "        text-align: right;\n",
              "    }\n",
              "</style>\n",
              "<table border=\"1\" class=\"dataframe\">\n",
              "  <thead>\n",
              "    <tr style=\"text-align: right;\">\n",
              "      <th></th>\n",
              "      <th>sepal length (cm)</th>\n",
              "      <th>sepal width (cm)</th>\n",
              "      <th>petal length (cm)</th>\n",
              "      <th>petal width (cm)</th>\n",
              "      <th>target</th>\n",
              "      <th>flower_names</th>\n",
              "    </tr>\n",
              "  </thead>\n",
              "  <tbody>\n",
              "    <tr>\n",
              "      <th>0</th>\n",
              "      <td>5.1</td>\n",
              "      <td>3.5</td>\n",
              "      <td>1.4</td>\n",
              "      <td>0.2</td>\n",
              "      <td>0</td>\n",
              "      <td>setosa</td>\n",
              "    </tr>\n",
              "    <tr>\n",
              "      <th>1</th>\n",
              "      <td>4.9</td>\n",
              "      <td>3.0</td>\n",
              "      <td>1.4</td>\n",
              "      <td>0.2</td>\n",
              "      <td>0</td>\n",
              "      <td>setosa</td>\n",
              "    </tr>\n",
              "    <tr>\n",
              "      <th>2</th>\n",
              "      <td>4.7</td>\n",
              "      <td>3.2</td>\n",
              "      <td>1.3</td>\n",
              "      <td>0.2</td>\n",
              "      <td>0</td>\n",
              "      <td>setosa</td>\n",
              "    </tr>\n",
              "    <tr>\n",
              "      <th>3</th>\n",
              "      <td>4.6</td>\n",
              "      <td>3.1</td>\n",
              "      <td>1.5</td>\n",
              "      <td>0.2</td>\n",
              "      <td>0</td>\n",
              "      <td>setosa</td>\n",
              "    </tr>\n",
              "    <tr>\n",
              "      <th>4</th>\n",
              "      <td>5.0</td>\n",
              "      <td>3.6</td>\n",
              "      <td>1.4</td>\n",
              "      <td>0.2</td>\n",
              "      <td>0</td>\n",
              "      <td>setosa</td>\n",
              "    </tr>\n",
              "  </tbody>\n",
              "</table>\n",
              "</div>"
            ],
            "text/plain": [
              "   sepal length (cm)  sepal width (cm)  ...  target  flower_names\n",
              "0                5.1               3.5  ...       0        setosa\n",
              "1                4.9               3.0  ...       0        setosa\n",
              "2                4.7               3.2  ...       0        setosa\n",
              "3                4.6               3.1  ...       0        setosa\n",
              "4                5.0               3.6  ...       0        setosa\n",
              "\n",
              "[5 rows x 6 columns]"
            ]
          },
          "metadata": {},
          "execution_count": 6
        }
      ]
    },
    {
      "cell_type": "code",
      "metadata": {
        "colab": {
          "base_uri": "https://localhost:8080/"
        },
        "id": "lu_BNRYNxror",
        "outputId": "9d32ec42-87bd-4840-db8f-296a195eef35"
      },
      "source": [
        "X = df.drop([\"target\", \"flower_names\"], axis=\"columns\")\n",
        "y = df.target\n",
        "print(X.head())\n",
        "print(y.head())"
      ],
      "execution_count": 7,
      "outputs": [
        {
          "output_type": "stream",
          "name": "stdout",
          "text": [
            "   sepal length (cm)  sepal width (cm)  petal length (cm)  petal width (cm)\n",
            "0                5.1               3.5                1.4               0.2\n",
            "1                4.9               3.0                1.4               0.2\n",
            "2                4.7               3.2                1.3               0.2\n",
            "3                4.6               3.1                1.5               0.2\n",
            "4                5.0               3.6                1.4               0.2\n",
            "0    0\n",
            "1    0\n",
            "2    0\n",
            "3    0\n",
            "4    0\n",
            "Name: target, dtype: int64\n"
          ]
        }
      ]
    },
    {
      "cell_type": "code",
      "metadata": {
        "id": "-KhceGgVx3YT"
      },
      "source": [
        "X_train, X_test, y_train, y_test = train_test_split(X,y,train_size=0.7,test_size=0.30,random_state=10)"
      ],
      "execution_count": 8,
      "outputs": []
    },
    {
      "cell_type": "code",
      "metadata": {
        "id": "t0rKAMhLyHWt"
      },
      "source": [
        "from sklearn.preprocessing import StandardScaler\n",
        "\n",
        "sc = StandardScaler()\n",
        "X_train = sc.fit_transform(X_train)\n",
        "X_test = sc.transform(X_test)"
      ],
      "execution_count": 9,
      "outputs": []
    },
    {
      "cell_type": "code",
      "metadata": {
        "colab": {
          "base_uri": "https://localhost:8080/"
        },
        "id": "xlLX7xfAyHUb",
        "outputId": "c199367f-37cd-45d2-f55a-dfc20f5e5081"
      },
      "source": [
        "classifier = MLPClassifier()\n",
        "classifier.fit(X_train,y_train)\n",
        "\n",
        "y_pred = classifier.predict(X_test)"
      ],
      "execution_count": 11,
      "outputs": [
        {
          "output_type": "stream",
          "name": "stderr",
          "text": [
            "/usr/local/lib/python3.7/dist-packages/sklearn/neural_network/_multilayer_perceptron.py:696: ConvergenceWarning: Stochastic Optimizer: Maximum iterations (200) reached and the optimization hasn't converged yet.\n",
            "  ConvergenceWarning,\n"
          ]
        }
      ]
    },
    {
      "cell_type": "code",
      "metadata": {
        "colab": {
          "base_uri": "https://localhost:8080/",
          "height": 690
        },
        "id": "ffOp6D1mwGzF",
        "outputId": "73ea77fb-1c39-4ce3-bcc4-e0d048188196"
      },
      "source": [
        "print(\"Confusion Matrix:\")\n",
        "print(confusion_matrix(y_test, y_pred))\n",
        "\n",
        "print(\"--------------------------------------------------\")\n",
        "print(\"--------------------------------------------------\")\n",
        "\n",
        "\n",
        "print(\"Performance Evaluation\")\n",
        "print(classification_report(y_test, y_pred))\n",
        "\n",
        "\n",
        "print(\"--------------------------------------------------\")\n",
        "print(\"--------------------------------------------------\")\n",
        "\n",
        "print(\"Accuracy:\")\n",
        "print(accuracy_score(y_test, y_pred))\n",
        "\n",
        "import matplotlib.pyplot as plt\n",
        "from sklearn.metrics import plot_confusion_matrix\n",
        "plot_confusion_matrix(classifier, X_test, y_test)\n",
        "plt.show()"
      ],
      "execution_count": 12,
      "outputs": [
        {
          "output_type": "stream",
          "name": "stdout",
          "text": [
            "Confusion Matrix:\n",
            "[[13  1  0]\n",
            " [ 0 16  1]\n",
            " [ 0  0 14]]\n",
            "--------------------------------------------------\n",
            "--------------------------------------------------\n",
            "Performance Evaluation\n",
            "              precision    recall  f1-score   support\n",
            "\n",
            "           0       1.00      0.93      0.96        14\n",
            "           1       0.94      0.94      0.94        17\n",
            "           2       0.93      1.00      0.97        14\n",
            "\n",
            "    accuracy                           0.96        45\n",
            "   macro avg       0.96      0.96      0.96        45\n",
            "weighted avg       0.96      0.96      0.96        45\n",
            "\n",
            "--------------------------------------------------\n",
            "--------------------------------------------------\n",
            "Accuracy:\n",
            "0.9555555555555556\n"
          ]
        },
        {
          "output_type": "stream",
          "name": "stderr",
          "text": [
            "/usr/local/lib/python3.7/dist-packages/sklearn/utils/deprecation.py:87: FutureWarning: Function plot_confusion_matrix is deprecated; Function `plot_confusion_matrix` is deprecated in 1.0 and will be removed in 1.2. Use one of the class methods: ConfusionMatrixDisplay.from_predictions or ConfusionMatrixDisplay.from_estimator.\n",
            "  warnings.warn(msg, category=FutureWarning)\n"
          ]
        },
        {
          "output_type": "display_data",
          "data": {
            "image/png": "[encoded data removed]",
            "text/plain": [
              "<Figure size 432x288 with 2 Axes>"
            ]
          },
          "metadata": {
            "needs_background": "light"
          }
        }
      ]
    },
    {
      "cell_type": "markdown",
      "metadata": {
        "id": "dnZNHR8cysBL"
      },
      "source": [
        "### ***Diabetes dataset***"
      ]
    },
    {
      "cell_type": "code",
      "metadata": {
        "id": "GzS7eaD0yqod"
      },
      "source": [
        "from sklearn.datasets import load_diabetes\n",
        "dataset = load_diabetes()"
      ],
      "execution_count": 14,
      "outputs": []
    },
    {
      "cell_type": "code",
      "metadata": {
        "id": "rxWR_9iGy3hS"
      },
      "source": [
        "X = np.delete(dataset.data,1,1)\n",
        "y = dataset.data[:,1]"
      ],
      "execution_count": 15,
      "outputs": []
    },
    {
      "cell_type": "code",
      "metadata": {
        "id": "7jR2HwhRy3dC"
      },
      "source": [
        "data_sex_type = np.unique(y);\n",
        "y = list(map(lambda x : 'M' if x == data_sex_type[0] else 'F' , y));\n",
        "\n",
        "target_name = ['M','F']\n",
        "feature_name = list(filter(lambda x : x != 'sex',dataset.feature_names));"
      ],
      "execution_count": 16,
      "outputs": []
    },
    {
      "cell_type": "code",
      "metadata": {
        "id": "hZAS76Nly3Uz"
      },
      "source": [
        "X_train , X_test , y_train , y_test = train_test_split(X,y,test_size = 0.3)"
      ],
      "execution_count": 17,
      "outputs": []
    },
    {
      "cell_type": "code",
      "metadata": {
        "id": "5M-lESKyzNBC"
      },
      "source": [
        "from sklearn.neural_network import MLPClassifier\n",
        "classifier = MLPClassifier(max_iter=100)"
      ],
      "execution_count": 18,
      "outputs": []
    },
    {
      "cell_type": "code",
      "metadata": {
        "colab": {
          "base_uri": "https://localhost:8080/"
        },
        "id": "mNX9ZIuTzM6q",
        "outputId": "330d4bd0-b542-4b38-ae56-fd090799782f"
      },
      "source": [
        "from pprint import pprint\n",
        "print('Parameters currently in use:\\n')\n",
        "pprint(classifier.get_params())"
      ],
      "execution_count": 20,
      "outputs": [
        {
          "output_type": "stream",
          "name": "stdout",
          "text": [
            "Parameters currently in use:\n",
            "\n",
            "{'activation': 'relu',\n",
            " 'alpha': 0.0001,\n",
            " 'batch_size': 'auto',\n",
            " 'beta_1': 0.9,\n",
            " 'beta_2': 0.999,\n",
            " 'early_stopping': False,\n",
            " 'epsilon': 1e-08,\n",
            " 'hidden_layer_sizes': (100,),\n",
            " 'learning_rate': 'constant',\n",
            " 'learning_rate_init': 0.001,\n",
            " 'max_fun': 15000,\n",
            " 'max_iter': 100,\n",
            " 'momentum': 0.9,\n",
            " 'n_iter_no_change': 10,\n",
            " 'nesterovs_momentum': True,\n",
            " 'power_t': 0.5,\n",
            " 'random_state': None,\n",
            " 'shuffle': True,\n",
            " 'solver': 'adam',\n",
            " 'tol': 0.0001,\n",
            " 'validation_fraction': 0.1,\n",
            " 'verbose': False,\n",
            " 'warm_start': False}\n"
          ]
        }
      ]
    },
    {
      "cell_type": "code",
      "metadata": {
        "colab": {
          "base_uri": "https://localhost:8080/"
        },
        "id": "lSnCYpbKz5SC",
        "outputId": "9fc0b9fa-4da3-40f3-aa37-3644afd27cc2"
      },
      "source": [
        "parameter_space = {\n",
        "    'hidden_layer_sizes': [(50,50,50), (50,100,50), (100,)],\n",
        "    'activation': ['tanh', 'relu'],\n",
        "    'solver': ['sgd', 'adam'],\n",
        "    'alpha': [0.0001, 0.05],\n",
        "    'learning_rate': ['constant','adaptive'],\n",
        "}\n",
        "pprint(parameter_space)"
      ],
      "execution_count": 21,
      "outputs": [
        {
          "output_type": "stream",
          "name": "stdout",
          "text": [
            "{'activation': ['tanh', 'relu'],\n",
            " 'alpha': [0.0001, 0.05],\n",
            " 'hidden_layer_sizes': [(50, 50, 50), (50, 100, 50), (100,)],\n",
            " 'learning_rate': ['constant', 'adaptive'],\n",
            " 'solver': ['sgd', 'adam']}\n"
          ]
        }
      ]
    },
    {
      "cell_type": "code",
      "metadata": {
        "id": "im-WtZZtz5NK"
      },
      "source": [
        "from sklearn.model_selection import GridSearchCV\n",
        "classifier = MLPClassifier(max_iter=100)\n",
        "\n",
        "rf_random = GridSearchCV(classifier, parameter_space, n_jobs=-1, cv=3)\n",
        "rf_random.fit(X_train, y_train)\n",
        "\n",
        "y_pred = rf_random.predict(X_test)"
      ],
      "execution_count": 22,
      "outputs": []
    },
    {
      "cell_type": "code",
      "metadata": {
        "colab": {
          "base_uri": "https://localhost:8080/",
          "height": 652
        },
        "id": "M7hqASh_z5Jx",
        "outputId": "ae556dd6-63bb-4291-847f-e348ac07efdb"
      },
      "source": [
        "print(\"Confusion Matrix:\")\n",
        "print(confusion_matrix(y_test, y_pred))\n",
        "\n",
        "print(\"--------------------------------------------------\")\n",
        "print(\"--------------------------------------------------\")\n",
        "\n",
        "\n",
        "print(\"Performance Evaluation\")\n",
        "print(classification_report(y_test, y_pred))\n",
        "\n",
        "\n",
        "print(\"--------------------------------------------------\")\n",
        "print(\"--------------------------------------------------\")\n",
        "\n",
        "print(\"Accuracy:\")\n",
        "print(accuracy_score(y_test, y_pred))\n",
        "\n",
        "\n",
        "import matplotlib.pyplot as plt\n",
        "from sklearn.metrics import plot_confusion_matrix\n",
        "plot_confusion_matrix(rf_random, X_test, y_test)\n",
        "plt.show()"
      ],
      "execution_count": 23,
      "outputs": [
        {
          "output_type": "stream",
          "name": "stdout",
          "text": [
            "Confusion Matrix:\n",
            "[[43 17]\n",
            " [17 56]]\n",
            "--------------------------------------------------\n",
            "--------------------------------------------------\n",
            "Performance Evaluation\n",
            "              precision    recall  f1-score   support\n",
            "\n",
            "           F       0.72      0.72      0.72        60\n",
            "           M       0.77      0.77      0.77        73\n",
            "\n",
            "    accuracy                           0.74       133\n",
            "   macro avg       0.74      0.74      0.74       133\n",
            "weighted avg       0.74      0.74      0.74       133\n",
            "\n",
            "--------------------------------------------------\n",
            "--------------------------------------------------\n",
            "Accuracy:\n",
            "0.7443609022556391\n"
          ]
        },
        {
          "output_type": "stream",
          "name": "stderr",
          "text": [
            "/usr/local/lib/python3.7/dist-packages/sklearn/utils/deprecation.py:87: FutureWarning: Function plot_confusion_matrix is deprecated; Function `plot_confusion_matrix` is deprecated in 1.0 and will be removed in 1.2. Use one of the class methods: ConfusionMatrixDisplay.from_predictions or ConfusionMatrixDisplay.from_estimator.\n",
            "  warnings.warn(msg, category=FutureWarning)\n"
          ]
        },
        {
          "output_type": "display_data",
          "data": {
            "image/png": "[encoded data removed]",
            "text/plain": [
              "<Figure size 432x288 with 2 Axes>"
            ]
          },
          "metadata": {
            "needs_background": "light"
          }
        }
      ]
    },
    {
      "cell_type": "markdown",
      "metadata": {
        "id": "3ISV0_NW0TcB"
      },
      "source": [
        "### ***Wisconsin Breast Cancer Dataset***"
      ]
    },
    {
      "cell_type": "code",
      "metadata": {
        "id": "i_pCyTKUz5H5"
      },
      "source": [
        "b_cancer = datasets.load_breast_cancer()"
      ],
      "execution_count": 31,
      "outputs": []
    },
    {
      "cell_type": "code",
      "metadata": {
        "colab": {
          "base_uri": "https://localhost:8080/",
          "height": 257
        },
        "id": "GwtOifjj0j7a",
        "outputId": "1ab73e03-6f3b-4c63-f03f-dbf0a38f6f61"
      },
      "source": [
        "df = pd.DataFrame(data=b_cancer.data, columns=b_cancer.feature_names)\n",
        "df.head()"
      ],
      "execution_count": 32,
      "outputs": [
        {
          "output_type": "execute_result",
          "data": {
            "text/html": [
              "<div>\n",
              "<style scoped>\n",
              "    .dataframe tbody tr th:only-of-type {\n",
              "        vertical-align: middle;\n",
              "    }\n",
              "\n",
              "    .dataframe tbody tr th {\n",
              "        vertical-align: top;\n",
              "    }\n",
              "\n",
              "    .dataframe thead th {\n",
              "        text-align: right;\n",
              "    }\n",
              "</style>\n",
              "<table border=\"1\" class=\"dataframe\">\n",
              "  <thead>\n",
              "    <tr style=\"text-align: right;\">\n",
              "      <th></th>\n",
              "      <th>mean radius</th>\n",
              "      <th>mean texture</th>\n",
              "      <th>mean perimeter</th>\n",
              "      <th>mean area</th>\n",
              "      <th>mean smoothness</th>\n",
              "      <th>mean compactness</th>\n",
              "      <th>mean concavity</th>\n",
              "      <th>mean concave points</th>\n",
              "      <th>mean symmetry</th>\n",
              "      <th>mean fractal dimension</th>\n",
              "      <th>radius error</th>\n",
              "      <th>texture error</th>\n",
              "      <th>perimeter error</th>\n",
              "      <th>area error</th>\n",
              "      <th>smoothness error</th>\n",
              "      <th>compactness error</th>\n",
              "      <th>concavity error</th>\n",
              "      <th>concave points error</th>\n",
              "      <th>symmetry error</th>\n",
              "      <th>fractal dimension error</th>\n",
              "      <th>worst radius</th>\n",
              "      <th>worst texture</th>\n",
              "      <th>worst perimeter</th>\n",
              "      <th>worst area</th>\n",
              "      <th>worst smoothness</th>\n",
              "      <th>worst compactness</th>\n",
              "      <th>worst concavity</th>\n",
              "      <th>worst concave points</th>\n",
              "      <th>worst symmetry</th>\n",
              "      <th>worst fractal dimension</th>\n",
              "    </tr>\n",
              "  </thead>\n",
              "  <tbody>\n",
              "    <tr>\n",
              "      <th>0</th>\n",
              "      <td>17.99</td>\n",
              "      <td>10.38</td>\n",
              "      <td>122.80</td>\n",
              "      <td>1001.0</td>\n",
              "      <td>0.11840</td>\n",
              "      <td>0.27760</td>\n",
              "      <td>0.3001</td>\n",
              "      <td>0.14710</td>\n",
              "      <td>0.2419</td>\n",
              "      <td>0.07871</td>\n",
              "      <td>1.0950</td>\n",
              "      <td>0.9053</td>\n",
              "      <td>8.589</td>\n",
              "      <td>153.40</td>\n",
              "      <td>0.006399</td>\n",
              "      <td>0.04904</td>\n",
              "      <td>0.05373</td>\n",
              "      <td>0.01587</td>\n",
              "      <td>0.03003</td>\n",
              "      <td>0.006193</td>\n",
              "      <td>25.38</td>\n",
              "      <td>17.33</td>\n",
              "      <td>184.60</td>\n",
              "      <td>2019.0</td>\n",
              "      <td>0.1622</td>\n",
              "      <td>0.6656</td>\n",
              "      <td>0.7119</td>\n",
              "      <td>0.2654</td>\n",
              "      <td>0.4601</td>\n",
              "      <td>0.11890</td>\n",
              "    </tr>\n",
              "    <tr>\n",
              "      <th>1</th>\n",
              "      <td>20.57</td>\n",
              "      <td>17.77</td>\n",
              "      <td>132.90</td>\n",
              "      <td>1326.0</td>\n",
              "      <td>0.08474</td>\n",
              "      <td>0.07864</td>\n",
              "      <td>0.0869</td>\n",
              "      <td>0.07017</td>\n",
              "      <td>0.1812</td>\n",
              "      <td>0.05667</td>\n",
              "      <td>0.5435</td>\n",
              "      <td>0.7339</td>\n",
              "      <td>3.398</td>\n",
              "      <td>74.08</td>\n",
              "      <td>0.005225</td>\n",
              "      <td>0.01308</td>\n",
              "      <td>0.01860</td>\n",
              "      <td>0.01340</td>\n",
              "      <td>0.01389</td>\n",
              "      <td>0.003532</td>\n",
              "      <td>24.99</td>\n",
              "      <td>23.41</td>\n",
              "      <td>158.80</td>\n",
              "      <td>1956.0</td>\n",
              "      <td>0.1238</td>\n",
              "      <td>0.1866</td>\n",
              "      <td>0.2416</td>\n",
              "      <td>0.1860</td>\n",
              "      <td>0.2750</td>\n",
              "      <td>0.08902</td>\n",
              "    </tr>\n",
              "    <tr>\n",
              "      <th>2</th>\n",
              "      <td>19.69</td>\n",
              "      <td>21.25</td>\n",
              "      <td>130.00</td>\n",
              "      <td>1203.0</td>\n",
              "      <td>0.10960</td>\n",
              "      <td>0.15990</td>\n",
              "      <td>0.1974</td>\n",
              "      <td>0.12790</td>\n",
              "      <td>0.2069</td>\n",
              "      <td>0.05999</td>\n",
              "      <td>0.7456</td>\n",
              "      <td>0.7869</td>\n",
              "      <td>4.585</td>\n",
              "      <td>94.03</td>\n",
              "      <td>0.006150</td>\n",
              "      <td>0.04006</td>\n",
              "      <td>0.03832</td>\n",
              "      <td>0.02058</td>\n",
              "      <td>0.02250</td>\n",
              "      <td>0.004571</td>\n",
              "      <td>23.57</td>\n",
              "      <td>25.53</td>\n",
              "      <td>152.50</td>\n",
              "      <td>1709.0</td>\n",
              "      <td>0.1444</td>\n",
              "      <td>0.4245</td>\n",
              "      <td>0.4504</td>\n",
              "      <td>0.2430</td>\n",
              "      <td>0.3613</td>\n",
              "      <td>0.08758</td>\n",
              "    </tr>\n",
              "    <tr>\n",
              "      <th>3</th>\n",
              "      <td>11.42</td>\n",
              "      <td>20.38</td>\n",
              "      <td>77.58</td>\n",
              "      <td>386.1</td>\n",
              "      <td>0.14250</td>\n",
              "      <td>0.28390</td>\n",
              "      <td>0.2414</td>\n",
              "      <td>0.10520</td>\n",
              "      <td>0.2597</td>\n",
              "      <td>0.09744</td>\n",
              "      <td>0.4956</td>\n",
              "      <td>1.1560</td>\n",
              "      <td>3.445</td>\n",
              "      <td>27.23</td>\n",
              "      <td>0.009110</td>\n",
              "      <td>0.07458</td>\n",
              "      <td>0.05661</td>\n",
              "      <td>0.01867</td>\n",
              "      <td>0.05963</td>\n",
              "      <td>0.009208</td>\n",
              "      <td>14.91</td>\n",
              "      <td>26.50</td>\n",
              "      <td>98.87</td>\n",
              "      <td>567.7</td>\n",
              "      <td>0.2098</td>\n",
              "      <td>0.8663</td>\n",
              "      <td>0.6869</td>\n",
              "      <td>0.2575</td>\n",
              "      <td>0.6638</td>\n",
              "      <td>0.17300</td>\n",
              "    </tr>\n",
              "    <tr>\n",
              "      <th>4</th>\n",
              "      <td>20.29</td>\n",
              "      <td>14.34</td>\n",
              "      <td>135.10</td>\n",
              "      <td>1297.0</td>\n",
              "      <td>0.10030</td>\n",
              "      <td>0.13280</td>\n",
              "      <td>0.1980</td>\n",
              "      <td>0.10430</td>\n",
              "      <td>0.1809</td>\n",
              "      <td>0.05883</td>\n",
              "      <td>0.7572</td>\n",
              "      <td>0.7813</td>\n",
              "      <td>5.438</td>\n",
              "      <td>94.44</td>\n",
              "      <td>0.011490</td>\n",
              "      <td>0.02461</td>\n",
              "      <td>0.05688</td>\n",
              "      <td>0.01885</td>\n",
              "      <td>0.01756</td>\n",
              "      <td>0.005115</td>\n",
              "      <td>22.54</td>\n",
              "      <td>16.67</td>\n",
              "      <td>152.20</td>\n",
              "      <td>1575.0</td>\n",
              "      <td>0.1374</td>\n",
              "      <td>0.2050</td>\n",
              "      <td>0.4000</td>\n",
              "      <td>0.1625</td>\n",
              "      <td>0.2364</td>\n",
              "      <td>0.07678</td>\n",
              "    </tr>\n",
              "  </tbody>\n",
              "</table>\n",
              "</div>"
            ],
            "text/plain": [
              "   mean radius  mean texture  ...  worst symmetry  worst fractal dimension\n",
              "0        17.99         10.38  ...          0.4601                  0.11890\n",
              "1        20.57         17.77  ...          0.2750                  0.08902\n",
              "2        19.69         21.25  ...          0.3613                  0.08758\n",
              "3        11.42         20.38  ...          0.6638                  0.17300\n",
              "4        20.29         14.34  ...          0.2364                  0.07678\n",
              "\n",
              "[5 rows x 30 columns]"
            ]
          },
          "metadata": {},
          "execution_count": 32
        }
      ]
    },
    {
      "cell_type": "code",
      "metadata": {
        "colab": {
          "base_uri": "https://localhost:8080/"
        },
        "id": "57sEHbaH10VA",
        "outputId": "ef4110b0-cb63-47cc-fe83-23a74e912696"
      },
      "source": [
        "dir(b_cancer)"
      ],
      "execution_count": 33,
      "outputs": [
        {
          "output_type": "execute_result",
          "data": {
            "text/plain": [
              "['DESCR',\n",
              " 'data',\n",
              " 'data_module',\n",
              " 'feature_names',\n",
              " 'filename',\n",
              " 'frame',\n",
              " 'target',\n",
              " 'target_names']"
            ]
          },
          "metadata": {},
          "execution_count": 33
        }
      ]
    },
    {
      "cell_type": "code",
      "metadata": {
        "colab": {
          "base_uri": "https://localhost:8080/"
        },
        "id": "yilvkH0T10Mw",
        "outputId": "53c6b4cc-7e0c-463e-cf1f-22e52f51fa92"
      },
      "source": [
        "b_cancer.data"
      ],
      "execution_count": 34,
      "outputs": [
        {
          "output_type": "execute_result",
          "data": {
            "text/plain": [
              "array([[1.799e+01, 1.038e+01, 1.228e+02, ..., 2.654e-01, 4.601e-01,\n",
              "        1.189e-01],\n",
              "       [2.057e+01, 1.777e+01, 1.329e+02, ..., 1.860e-01, 2.750e-01,\n",
              "        8.902e-02],\n",
              "       [1.969e+01, 2.125e+01, 1.300e+02, ..., 2.430e-01, 3.613e-01,\n",
              "        8.758e-02],\n",
              "       ...,\n",
              "       [1.660e+01, 2.808e+01, 1.083e+02, ..., 1.418e-01, 2.218e-01,\n",
              "        7.820e-02],\n",
              "       [2.060e+01, 2.933e+01, 1.401e+02, ..., 2.650e-01, 4.087e-01,\n",
              "        1.240e-01],\n",
              "       [7.760e+00, 2.454e+01, 4.792e+01, ..., 0.000e+00, 2.871e-01,\n",
              "        7.039e-02]])"
            ]
          },
          "metadata": {},
          "execution_count": 34
        }
      ]
    },
    {
      "cell_type": "code",
      "metadata": {
        "colab": {
          "base_uri": "https://localhost:8080/"
        },
        "id": "rwBYDy8B17MQ",
        "outputId": "6989c431-2dc6-4cda-a348-4df539780589"
      },
      "source": [
        "print(b_cancer.feature_names)\n",
        "print(b_cancer.target_names)\n",
        "print(b_cancer.target)"
      ],
      "execution_count": 35,
      "outputs": [
        {
          "output_type": "stream",
          "name": "stdout",
          "text": [
            "['mean radius' 'mean texture' 'mean perimeter' 'mean area'\n",
            " 'mean smoothness' 'mean compactness' 'mean concavity'\n",
            " 'mean concave points' 'mean symmetry' 'mean fractal dimension'\n",
            " 'radius error' 'texture error' 'perimeter error' 'area error'\n",
            " 'smoothness error' 'compactness error' 'concavity error'\n",
            " 'concave points error' 'symmetry error' 'fractal dimension error'\n",
            " 'worst radius' 'worst texture' 'worst perimeter' 'worst area'\n",
            " 'worst smoothness' 'worst compactness' 'worst concavity'\n",
            " 'worst concave points' 'worst symmetry' 'worst fractal dimension']\n",
            "['malignant' 'benign']\n",
            "[0 0 0 0 0 0 0 0 0 0 0 0 0 0 0 0 0 0 0 1 1 1 0 0 0 0 0 0 0 0 0 0 0 0 0 0 0\n",
            " 1 0 0 0 0 0 0 0 0 1 0 1 1 1 1 1 0 0 1 0 0 1 1 1 1 0 1 0 0 1 1 1 1 0 1 0 0\n",
            " 1 0 1 0 0 1 1 1 0 0 1 0 0 0 1 1 1 0 1 1 0 0 1 1 1 0 0 1 1 1 1 0 1 1 0 1 1\n",
            " 1 1 1 1 1 1 0 0 0 1 0 0 1 1 1 0 0 1 0 1 0 0 1 0 0 1 1 0 1 1 0 1 1 1 1 0 1\n",
            " 1 1 1 1 1 1 1 1 0 1 1 1 1 0 0 1 0 1 1 0 0 1 1 0 0 1 1 1 1 0 1 1 0 0 0 1 0\n",
            " 1 0 1 1 1 0 1 1 0 0 1 0 0 0 0 1 0 0 0 1 0 1 0 1 1 0 1 0 0 0 0 1 1 0 0 1 1\n",
            " 1 0 1 1 1 1 1 0 0 1 1 0 1 1 0 0 1 0 1 1 1 1 0 1 1 1 1 1 0 1 0 0 0 0 0 0 0\n",
            " 0 0 0 0 0 0 0 1 1 1 1 1 1 0 1 0 1 1 0 1 1 0 1 0 0 1 1 1 1 1 1 1 1 1 1 1 1\n",
            " 1 0 1 1 0 1 0 1 1 1 1 1 1 1 1 1 1 1 1 1 1 0 1 1 1 0 1 0 1 1 1 1 0 0 0 1 1\n",
            " 1 1 0 1 0 1 0 1 1 1 0 1 1 1 1 1 1 1 0 0 0 1 1 1 1 1 1 1 1 1 1 1 0 0 1 0 0\n",
            " 0 1 0 0 1 1 1 1 1 0 1 1 1 1 1 0 1 1 1 0 1 1 0 0 1 1 1 1 1 1 0 1 1 1 1 1 1\n",
            " 1 0 1 1 1 1 1 0 1 1 0 1 1 1 1 1 1 1 1 1 1 1 1 0 1 0 0 1 0 1 1 1 1 1 0 1 1\n",
            " 0 1 0 1 1 0 1 0 1 1 1 1 1 1 1 1 0 0 1 1 1 1 1 1 0 1 1 1 1 1 1 1 1 1 1 0 1\n",
            " 1 1 1 1 1 1 0 1 0 1 1 0 1 1 1 1 1 0 0 1 0 1 0 1 1 1 1 1 0 1 1 0 1 0 1 0 0\n",
            " 1 1 1 0 1 1 1 1 1 1 1 1 1 1 1 0 1 0 0 1 1 1 1 1 1 1 1 1 1 1 1 1 1 1 1 1 1\n",
            " 1 1 1 1 1 1 1 0 0 0 0 0 0 1]\n"
          ]
        }
      ]
    },
    {
      "cell_type": "code",
      "metadata": {
        "colab": {
          "base_uri": "https://localhost:8080/",
          "height": 257
        },
        "id": "o4XB9Ibf17EQ",
        "outputId": "5810099f-65b5-447a-efa8-acbb9fd6e25b"
      },
      "source": [
        "df = pd.DataFrame(data=b_cancer.data, columns=b_cancer.feature_names)\n",
        "df.head()"
      ],
      "execution_count": 36,
      "outputs": [
        {
          "output_type": "execute_result",
          "data": {
            "text/html": [
              "<div>\n",
              "<style scoped>\n",
              "    .dataframe tbody tr th:only-of-type {\n",
              "        vertical-align: middle;\n",
              "    }\n",
              "\n",
              "    .dataframe tbody tr th {\n",
              "        vertical-align: top;\n",
              "    }\n",
              "\n",
              "    .dataframe thead th {\n",
              "        text-align: right;\n",
              "    }\n",
              "</style>\n",
              "<table border=\"1\" class=\"dataframe\">\n",
              "  <thead>\n",
              "    <tr style=\"text-align: right;\">\n",
              "      <th></th>\n",
              "      <th>mean radius</th>\n",
              "      <th>mean texture</th>\n",
              "      <th>mean perimeter</th>\n",
              "      <th>mean area</th>\n",
              "      <th>mean smoothness</th>\n",
              "      <th>mean compactness</th>\n",
              "      <th>mean concavity</th>\n",
              "      <th>mean concave points</th>\n",
              "      <th>mean symmetry</th>\n",
              "      <th>mean fractal dimension</th>\n",
              "      <th>radius error</th>\n",
              "      <th>texture error</th>\n",
              "      <th>perimeter error</th>\n",
              "      <th>area error</th>\n",
              "      <th>smoothness error</th>\n",
              "      <th>compactness error</th>\n",
              "      <th>concavity error</th>\n",
              "      <th>concave points error</th>\n",
              "      <th>symmetry error</th>\n",
              "      <th>fractal dimension error</th>\n",
              "      <th>worst radius</th>\n",
              "      <th>worst texture</th>\n",
              "      <th>worst perimeter</th>\n",
              "      <th>worst area</th>\n",
              "      <th>worst smoothness</th>\n",
              "      <th>worst compactness</th>\n",
              "      <th>worst concavity</th>\n",
              "      <th>worst concave points</th>\n",
              "      <th>worst symmetry</th>\n",
              "      <th>worst fractal dimension</th>\n",
              "    </tr>\n",
              "  </thead>\n",
              "  <tbody>\n",
              "    <tr>\n",
              "      <th>0</th>\n",
              "      <td>17.99</td>\n",
              "      <td>10.38</td>\n",
              "      <td>122.80</td>\n",
              "      <td>1001.0</td>\n",
              "      <td>0.11840</td>\n",
              "      <td>0.27760</td>\n",
              "      <td>0.3001</td>\n",
              "      <td>0.14710</td>\n",
              "      <td>0.2419</td>\n",
              "      <td>0.07871</td>\n",
              "      <td>1.0950</td>\n",
              "      <td>0.9053</td>\n",
              "      <td>8.589</td>\n",
              "      <td>153.40</td>\n",
              "      <td>0.006399</td>\n",
              "      <td>0.04904</td>\n",
              "      <td>0.05373</td>\n",
              "      <td>0.01587</td>\n",
              "      <td>0.03003</td>\n",
              "      <td>0.006193</td>\n",
              "      <td>25.38</td>\n",
              "      <td>17.33</td>\n",
              "      <td>184.60</td>\n",
              "      <td>2019.0</td>\n",
              "      <td>0.1622</td>\n",
              "      <td>0.6656</td>\n",
              "      <td>0.7119</td>\n",
              "      <td>0.2654</td>\n",
              "      <td>0.4601</td>\n",
              "      <td>0.11890</td>\n",
              "    </tr>\n",
              "    <tr>\n",
              "      <th>1</th>\n",
              "      <td>20.57</td>\n",
              "      <td>17.77</td>\n",
              "      <td>132.90</td>\n",
              "      <td>1326.0</td>\n",
              "      <td>0.08474</td>\n",
              "      <td>0.07864</td>\n",
              "      <td>0.0869</td>\n",
              "      <td>0.07017</td>\n",
              "      <td>0.1812</td>\n",
              "      <td>0.05667</td>\n",
              "      <td>0.5435</td>\n",
              "      <td>0.7339</td>\n",
              "      <td>3.398</td>\n",
              "      <td>74.08</td>\n",
              "      <td>0.005225</td>\n",
              "      <td>0.01308</td>\n",
              "      <td>0.01860</td>\n",
              "      <td>0.01340</td>\n",
              "      <td>0.01389</td>\n",
              "      <td>0.003532</td>\n",
              "      <td>24.99</td>\n",
              "      <td>23.41</td>\n",
              "      <td>158.80</td>\n",
              "      <td>1956.0</td>\n",
              "      <td>0.1238</td>\n",
              "      <td>0.1866</td>\n",
              "      <td>0.2416</td>\n",
              "      <td>0.1860</td>\n",
              "      <td>0.2750</td>\n",
              "      <td>0.08902</td>\n",
              "    </tr>\n",
              "    <tr>\n",
              "      <th>2</th>\n",
              "      <td>19.69</td>\n",
              "      <td>21.25</td>\n",
              "      <td>130.00</td>\n",
              "      <td>1203.0</td>\n",
              "      <td>0.10960</td>\n",
              "      <td>0.15990</td>\n",
              "      <td>0.1974</td>\n",
              "      <td>0.12790</td>\n",
              "      <td>0.2069</td>\n",
              "      <td>0.05999</td>\n",
              "      <td>0.7456</td>\n",
              "      <td>0.7869</td>\n",
              "      <td>4.585</td>\n",
              "      <td>94.03</td>\n",
              "      <td>0.006150</td>\n",
              "      <td>0.04006</td>\n",
              "      <td>0.03832</td>\n",
              "      <td>0.02058</td>\n",
              "      <td>0.02250</td>\n",
              "      <td>0.004571</td>\n",
              "      <td>23.57</td>\n",
              "      <td>25.53</td>\n",
              "      <td>152.50</td>\n",
              "      <td>1709.0</td>\n",
              "      <td>0.1444</td>\n",
              "      <td>0.4245</td>\n",
              "      <td>0.4504</td>\n",
              "      <td>0.2430</td>\n",
              "      <td>0.3613</td>\n",
              "      <td>0.08758</td>\n",
              "    </tr>\n",
              "    <tr>\n",
              "      <th>3</th>\n",
              "      <td>11.42</td>\n",
              "      <td>20.38</td>\n",
              "      <td>77.58</td>\n",
              "      <td>386.1</td>\n",
              "      <td>0.14250</td>\n",
              "      <td>0.28390</td>\n",
              "      <td>0.2414</td>\n",
              "      <td>0.10520</td>\n",
              "      <td>0.2597</td>\n",
              "      <td>0.09744</td>\n",
              "      <td>0.4956</td>\n",
              "      <td>1.1560</td>\n",
              "      <td>3.445</td>\n",
              "      <td>27.23</td>\n",
              "      <td>0.009110</td>\n",
              "      <td>0.07458</td>\n",
              "      <td>0.05661</td>\n",
              "      <td>0.01867</td>\n",
              "      <td>0.05963</td>\n",
              "      <td>0.009208</td>\n",
              "      <td>14.91</td>\n",
              "      <td>26.50</td>\n",
              "      <td>98.87</td>\n",
              "      <td>567.7</td>\n",
              "      <td>0.2098</td>\n",
              "      <td>0.8663</td>\n",
              "      <td>0.6869</td>\n",
              "      <td>0.2575</td>\n",
              "      <td>0.6638</td>\n",
              "      <td>0.17300</td>\n",
              "    </tr>\n",
              "    <tr>\n",
              "      <th>4</th>\n",
              "      <td>20.29</td>\n",
              "      <td>14.34</td>\n",
              "      <td>135.10</td>\n",
              "      <td>1297.0</td>\n",
              "      <td>0.10030</td>\n",
              "      <td>0.13280</td>\n",
              "      <td>0.1980</td>\n",
              "      <td>0.10430</td>\n",
              "      <td>0.1809</td>\n",
              "      <td>0.05883</td>\n",
              "      <td>0.7572</td>\n",
              "      <td>0.7813</td>\n",
              "      <td>5.438</td>\n",
              "      <td>94.44</td>\n",
              "      <td>0.011490</td>\n",
              "      <td>0.02461</td>\n",
              "      <td>0.05688</td>\n",
              "      <td>0.01885</td>\n",
              "      <td>0.01756</td>\n",
              "      <td>0.005115</td>\n",
              "      <td>22.54</td>\n",
              "      <td>16.67</td>\n",
              "      <td>152.20</td>\n",
              "      <td>1575.0</td>\n",
              "      <td>0.1374</td>\n",
              "      <td>0.2050</td>\n",
              "      <td>0.4000</td>\n",
              "      <td>0.1625</td>\n",
              "      <td>0.2364</td>\n",
              "      <td>0.07678</td>\n",
              "    </tr>\n",
              "  </tbody>\n",
              "</table>\n",
              "</div>"
            ],
            "text/plain": [
              "   mean radius  mean texture  ...  worst symmetry  worst fractal dimension\n",
              "0        17.99         10.38  ...          0.4601                  0.11890\n",
              "1        20.57         17.77  ...          0.2750                  0.08902\n",
              "2        19.69         21.25  ...          0.3613                  0.08758\n",
              "3        11.42         20.38  ...          0.6638                  0.17300\n",
              "4        20.29         14.34  ...          0.2364                  0.07678\n",
              "\n",
              "[5 rows x 30 columns]"
            ]
          },
          "metadata": {},
          "execution_count": 36
        }
      ]
    },
    {
      "cell_type": "code",
      "metadata": {
        "colab": {
          "base_uri": "https://localhost:8080/",
          "height": 257
        },
        "id": "5VqVIFdL16zh",
        "outputId": "5e4391b1-c679-4946-c0a8-c773226f0e7a"
      },
      "source": [
        "df[\"target\"] = b_cancer.target\n",
        "df.head()"
      ],
      "execution_count": 37,
      "outputs": [
        {
          "output_type": "execute_result",
          "data": {
            "text/html": [
              "<div>\n",
              "<style scoped>\n",
              "    .dataframe tbody tr th:only-of-type {\n",
              "        vertical-align: middle;\n",
              "    }\n",
              "\n",
              "    .dataframe tbody tr th {\n",
              "        vertical-align: top;\n",
              "    }\n",
              "\n",
              "    .dataframe thead th {\n",
              "        text-align: right;\n",
              "    }\n",
              "</style>\n",
              "<table border=\"1\" class=\"dataframe\">\n",
              "  <thead>\n",
              "    <tr style=\"text-align: right;\">\n",
              "      <th></th>\n",
              "      <th>mean radius</th>\n",
              "      <th>mean texture</th>\n",
              "      <th>mean perimeter</th>\n",
              "      <th>mean area</th>\n",
              "      <th>mean smoothness</th>\n",
              "      <th>mean compactness</th>\n",
              "      <th>mean concavity</th>\n",
              "      <th>mean concave points</th>\n",
              "      <th>mean symmetry</th>\n",
              "      <th>mean fractal dimension</th>\n",
              "      <th>radius error</th>\n",
              "      <th>texture error</th>\n",
              "      <th>perimeter error</th>\n",
              "      <th>area error</th>\n",
              "      <th>smoothness error</th>\n",
              "      <th>compactness error</th>\n",
              "      <th>concavity error</th>\n",
              "      <th>concave points error</th>\n",
              "      <th>symmetry error</th>\n",
              "      <th>fractal dimension error</th>\n",
              "      <th>worst radius</th>\n",
              "      <th>worst texture</th>\n",
              "      <th>worst perimeter</th>\n",
              "      <th>worst area</th>\n",
              "      <th>worst smoothness</th>\n",
              "      <th>worst compactness</th>\n",
              "      <th>worst concavity</th>\n",
              "      <th>worst concave points</th>\n",
              "      <th>worst symmetry</th>\n",
              "      <th>worst fractal dimension</th>\n",
              "      <th>target</th>\n",
              "    </tr>\n",
              "  </thead>\n",
              "  <tbody>\n",
              "    <tr>\n",
              "      <th>0</th>\n",
              "      <td>17.99</td>\n",
              "      <td>10.38</td>\n",
              "      <td>122.80</td>\n",
              "      <td>1001.0</td>\n",
              "      <td>0.11840</td>\n",
              "      <td>0.27760</td>\n",
              "      <td>0.3001</td>\n",
              "      <td>0.14710</td>\n",
              "      <td>0.2419</td>\n",
              "      <td>0.07871</td>\n",
              "      <td>1.0950</td>\n",
              "      <td>0.9053</td>\n",
              "      <td>8.589</td>\n",
              "      <td>153.40</td>\n",
              "      <td>0.006399</td>\n",
              "      <td>0.04904</td>\n",
              "      <td>0.05373</td>\n",
              "      <td>0.01587</td>\n",
              "      <td>0.03003</td>\n",
              "      <td>0.006193</td>\n",
              "      <td>25.38</td>\n",
              "      <td>17.33</td>\n",
              "      <td>184.60</td>\n",
              "      <td>2019.0</td>\n",
              "      <td>0.1622</td>\n",
              "      <td>0.6656</td>\n",
              "      <td>0.7119</td>\n",
              "      <td>0.2654</td>\n",
              "      <td>0.4601</td>\n",
              "      <td>0.11890</td>\n",
              "      <td>0</td>\n",
              "    </tr>\n",
              "    <tr>\n",
              "      <th>1</th>\n",
              "      <td>20.57</td>\n",
              "      <td>17.77</td>\n",
              "      <td>132.90</td>\n",
              "      <td>1326.0</td>\n",
              "      <td>0.08474</td>\n",
              "      <td>0.07864</td>\n",
              "      <td>0.0869</td>\n",
              "      <td>0.07017</td>\n",
              "      <td>0.1812</td>\n",
              "      <td>0.05667</td>\n",
              "      <td>0.5435</td>\n",
              "      <td>0.7339</td>\n",
              "      <td>3.398</td>\n",
              "      <td>74.08</td>\n",
              "      <td>0.005225</td>\n",
              "      <td>0.01308</td>\n",
              "      <td>0.01860</td>\n",
              "      <td>0.01340</td>\n",
              "      <td>0.01389</td>\n",
              "      <td>0.003532</td>\n",
              "      <td>24.99</td>\n",
              "      <td>23.41</td>\n",
              "      <td>158.80</td>\n",
              "      <td>1956.0</td>\n",
              "      <td>0.1238</td>\n",
              "      <td>0.1866</td>\n",
              "      <td>0.2416</td>\n",
              "      <td>0.1860</td>\n",
              "      <td>0.2750</td>\n",
              "      <td>0.08902</td>\n",
              "      <td>0</td>\n",
              "    </tr>\n",
              "    <tr>\n",
              "      <th>2</th>\n",
              "      <td>19.69</td>\n",
              "      <td>21.25</td>\n",
              "      <td>130.00</td>\n",
              "      <td>1203.0</td>\n",
              "      <td>0.10960</td>\n",
              "      <td>0.15990</td>\n",
              "      <td>0.1974</td>\n",
              "      <td>0.12790</td>\n",
              "      <td>0.2069</td>\n",
              "      <td>0.05999</td>\n",
              "      <td>0.7456</td>\n",
              "      <td>0.7869</td>\n",
              "      <td>4.585</td>\n",
              "      <td>94.03</td>\n",
              "      <td>0.006150</td>\n",
              "      <td>0.04006</td>\n",
              "      <td>0.03832</td>\n",
              "      <td>0.02058</td>\n",
              "      <td>0.02250</td>\n",
              "      <td>0.004571</td>\n",
              "      <td>23.57</td>\n",
              "      <td>25.53</td>\n",
              "      <td>152.50</td>\n",
              "      <td>1709.0</td>\n",
              "      <td>0.1444</td>\n",
              "      <td>0.4245</td>\n",
              "      <td>0.4504</td>\n",
              "      <td>0.2430</td>\n",
              "      <td>0.3613</td>\n",
              "      <td>0.08758</td>\n",
              "      <td>0</td>\n",
              "    </tr>\n",
              "    <tr>\n",
              "      <th>3</th>\n",
              "      <td>11.42</td>\n",
              "      <td>20.38</td>\n",
              "      <td>77.58</td>\n",
              "      <td>386.1</td>\n",
              "      <td>0.14250</td>\n",
              "      <td>0.28390</td>\n",
              "      <td>0.2414</td>\n",
              "      <td>0.10520</td>\n",
              "      <td>0.2597</td>\n",
              "      <td>0.09744</td>\n",
              "      <td>0.4956</td>\n",
              "      <td>1.1560</td>\n",
              "      <td>3.445</td>\n",
              "      <td>27.23</td>\n",
              "      <td>0.009110</td>\n",
              "      <td>0.07458</td>\n",
              "      <td>0.05661</td>\n",
              "      <td>0.01867</td>\n",
              "      <td>0.05963</td>\n",
              "      <td>0.009208</td>\n",
              "      <td>14.91</td>\n",
              "      <td>26.50</td>\n",
              "      <td>98.87</td>\n",
              "      <td>567.7</td>\n",
              "      <td>0.2098</td>\n",
              "      <td>0.8663</td>\n",
              "      <td>0.6869</td>\n",
              "      <td>0.2575</td>\n",
              "      <td>0.6638</td>\n",
              "      <td>0.17300</td>\n",
              "      <td>0</td>\n",
              "    </tr>\n",
              "    <tr>\n",
              "      <th>4</th>\n",
              "      <td>20.29</td>\n",
              "      <td>14.34</td>\n",
              "      <td>135.10</td>\n",
              "      <td>1297.0</td>\n",
              "      <td>0.10030</td>\n",
              "      <td>0.13280</td>\n",
              "      <td>0.1980</td>\n",
              "      <td>0.10430</td>\n",
              "      <td>0.1809</td>\n",
              "      <td>0.05883</td>\n",
              "      <td>0.7572</td>\n",
              "      <td>0.7813</td>\n",
              "      <td>5.438</td>\n",
              "      <td>94.44</td>\n",
              "      <td>0.011490</td>\n",
              "      <td>0.02461</td>\n",
              "      <td>0.05688</td>\n",
              "      <td>0.01885</td>\n",
              "      <td>0.01756</td>\n",
              "      <td>0.005115</td>\n",
              "      <td>22.54</td>\n",
              "      <td>16.67</td>\n",
              "      <td>152.20</td>\n",
              "      <td>1575.0</td>\n",
              "      <td>0.1374</td>\n",
              "      <td>0.2050</td>\n",
              "      <td>0.4000</td>\n",
              "      <td>0.1625</td>\n",
              "      <td>0.2364</td>\n",
              "      <td>0.07678</td>\n",
              "      <td>0</td>\n",
              "    </tr>\n",
              "  </tbody>\n",
              "</table>\n",
              "</div>"
            ],
            "text/plain": [
              "   mean radius  mean texture  ...  worst fractal dimension  target\n",
              "0        17.99         10.38  ...                  0.11890       0\n",
              "1        20.57         17.77  ...                  0.08902       0\n",
              "2        19.69         21.25  ...                  0.08758       0\n",
              "3        11.42         20.38  ...                  0.17300       0\n",
              "4        20.29         14.34  ...                  0.07678       0\n",
              "\n",
              "[5 rows x 31 columns]"
            ]
          },
          "metadata": {},
          "execution_count": 37
        }
      ]
    },
    {
      "cell_type": "code",
      "metadata": {
        "colab": {
          "base_uri": "https://localhost:8080/"
        },
        "id": "-d07a-UK2DcY",
        "outputId": "cad04f4f-47c8-4553-cb21-d207dc5ae375"
      },
      "source": [
        "df.target.value_counts()"
      ],
      "execution_count": 38,
      "outputs": [
        {
          "output_type": "execute_result",
          "data": {
            "text/plain": [
              "1    357\n",
              "0    212\n",
              "Name: target, dtype: int64"
            ]
          },
          "metadata": {},
          "execution_count": 38
        }
      ]
    },
    {
      "cell_type": "code",
      "metadata": {
        "colab": {
          "base_uri": "https://localhost:8080/"
        },
        "id": "SB3X5Wo02DZj",
        "outputId": "fdfb6999-f6e0-41e9-867c-3ec2cdc82b48"
      },
      "source": [
        "X = df.drop([\"target\"], axis=\"columns\")\n",
        "y = df.target\n",
        "print(X.head())\n",
        "print(y.head())"
      ],
      "execution_count": 39,
      "outputs": [
        {
          "output_type": "stream",
          "name": "stdout",
          "text": [
            "   mean radius  mean texture  ...  worst symmetry  worst fractal dimension\n",
            "0        17.99         10.38  ...          0.4601                  0.11890\n",
            "1        20.57         17.77  ...          0.2750                  0.08902\n",
            "2        19.69         21.25  ...          0.3613                  0.08758\n",
            "3        11.42         20.38  ...          0.6638                  0.17300\n",
            "4        20.29         14.34  ...          0.2364                  0.07678\n",
            "\n",
            "[5 rows x 30 columns]\n",
            "0    0\n",
            "1    0\n",
            "2    0\n",
            "3    0\n",
            "4    0\n",
            "Name: target, dtype: int64\n"
          ]
        }
      ]
    },
    {
      "cell_type": "code",
      "metadata": {
        "id": "6b8RgRIb2DXA"
      },
      "source": [
        "X_train, X_test, y_train, y_test = train_test_split(X,y,train_size=0.7,test_size=0.30,random_state=10)"
      ],
      "execution_count": 40,
      "outputs": []
    },
    {
      "cell_type": "code",
      "metadata": {
        "id": "a8ToiULq0jya"
      },
      "source": [
        "from sklearn.preprocessing import StandardScaler\n",
        "\n",
        "sc = StandardScaler()\n",
        "X_train = sc.fit_transform(X_train)\n",
        "X_test = sc.transform(X_test)"
      ],
      "execution_count": 41,
      "outputs": []
    },
    {
      "cell_type": "code",
      "metadata": {
        "colab": {
          "base_uri": "https://localhost:8080/"
        },
        "id": "yiA2Y8Yf0jvq",
        "outputId": "50dd1548-8e8d-4354-9726-72ed977caf62"
      },
      "source": [
        "classifier = MLPClassifier()\n",
        "classifier.fit(X_train,y_train)\n",
        "\n",
        "y_pred = classifier.predict(X_test)"
      ],
      "execution_count": 42,
      "outputs": [
        {
          "output_type": "stream",
          "name": "stderr",
          "text": [
            "/usr/local/lib/python3.7/dist-packages/sklearn/neural_network/_multilayer_perceptron.py:696: ConvergenceWarning: Stochastic Optimizer: Maximum iterations (200) reached and the optimization hasn't converged yet.\n",
            "  ConvergenceWarning,\n"
          ]
        }
      ]
    },
    {
      "cell_type": "code",
      "metadata": {
        "colab": {
          "base_uri": "https://localhost:8080/",
          "height": 652
        },
        "id": "vylYSd2j21BD",
        "outputId": "9f42c4f3-8e0b-4760-cdb4-4f07ee071bad"
      },
      "source": [
        "print(\"Confusion Matrix:\")\n",
        "print(confusion_matrix(y_test, y_pred))\n",
        "\n",
        "print(\"--------------------------------------------------\")\n",
        "print(\"--------------------------------------------------\")\n",
        "\n",
        "\n",
        "print(\"Performance Evaluation\")\n",
        "print(classification_report(y_test, y_pred))\n",
        "\n",
        "\n",
        "print(\"--------------------------------------------------\")\n",
        "print(\"--------------------------------------------------\")\n",
        "\n",
        "print(\"Accuracy:\")\n",
        "print(accuracy_score(y_test, y_pred))\n",
        "\n",
        "import matplotlib.pyplot as plt\n",
        "from sklearn.metrics import plot_confusion_matrix\n",
        "plot_confusion_matrix(classifier, X_test, y_test)\n",
        "plt.show()"
      ],
      "execution_count": 43,
      "outputs": [
        {
          "output_type": "stream",
          "name": "stdout",
          "text": [
            "Confusion Matrix:\n",
            "[[ 57   2]\n",
            " [  1 111]]\n",
            "--------------------------------------------------\n",
            "--------------------------------------------------\n",
            "Performance Evaluation\n",
            "              precision    recall  f1-score   support\n",
            "\n",
            "           0       0.98      0.97      0.97        59\n",
            "           1       0.98      0.99      0.99       112\n",
            "\n",
            "    accuracy                           0.98       171\n",
            "   macro avg       0.98      0.98      0.98       171\n",
            "weighted avg       0.98      0.98      0.98       171\n",
            "\n",
            "--------------------------------------------------\n",
            "--------------------------------------------------\n",
            "Accuracy:\n",
            "0.9824561403508771\n"
          ]
        },
        {
          "output_type": "stream",
          "name": "stderr",
          "text": [
            "/usr/local/lib/python3.7/dist-packages/sklearn/utils/deprecation.py:87: FutureWarning: Function plot_confusion_matrix is deprecated; Function `plot_confusion_matrix` is deprecated in 1.0 and will be removed in 1.2. Use one of the class methods: ConfusionMatrixDisplay.from_predictions or ConfusionMatrixDisplay.from_estimator.\n",
            "  warnings.warn(msg, category=FutureWarning)\n"
          ]
        },
        {
          "output_type": "display_data",
          "data": {
            "image/png": "[encoded data removed]",
            "text/plain": [
              "<Figure size 432x288 with 2 Axes>"
            ]
          },
          "metadata": {
            "needs_background": "light"
          }
        }
      ]
    }
  ]
}